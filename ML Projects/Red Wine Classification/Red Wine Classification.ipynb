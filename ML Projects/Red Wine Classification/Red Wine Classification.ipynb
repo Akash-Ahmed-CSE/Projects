{
 "cells": [
  {
   "cell_type": "code",
   "execution_count": 1,
   "id": "2c9a4e96",
   "metadata": {},
   "outputs": [],
   "source": [
    "# necessary imports\n",
    "\n",
    "import pandas as pd\n",
    "import numpy as np\n",
    "import matplotlib.pyplot as plt\n",
    "import seaborn as sns\n",
    "import warnings\n",
    "warnings.filterwarnings('ignore')\n",
    "\n",
    "sns.set()\n",
    "%matplotlib inline"
   ]
  },
  {
   "cell_type": "markdown",
   "id": "401b0e4f",
   "metadata": {},
   "source": [
    "<a href=\"https://www.kaggle.com/niteshyadav3103/red-wine-quality-classification\">Link</a>"
   ]
  },
  {
   "cell_type": "code",
   "execution_count": 2,
   "id": "2191e53b",
   "metadata": {},
   "outputs": [],
   "source": [
    "df = pd.read_csv('winequality-red.csv')"
   ]
  },
  {
   "cell_type": "code",
   "execution_count": 3,
   "id": "3492c3b2",
   "metadata": {},
   "outputs": [
    {
     "data": {
      "text/html": [
       "<div>\n",
       "<style scoped>\n",
       "    .dataframe tbody tr th:only-of-type {\n",
       "        vertical-align: middle;\n",
       "    }\n",
       "\n",
       "    .dataframe tbody tr th {\n",
       "        vertical-align: top;\n",
       "    }\n",
       "\n",
       "    .dataframe thead th {\n",
       "        text-align: right;\n",
       "    }\n",
       "</style>\n",
       "<table border=\"1\" class=\"dataframe\">\n",
       "  <thead>\n",
       "    <tr style=\"text-align: right;\">\n",
       "      <th></th>\n",
       "      <th>fixed acidity</th>\n",
       "      <th>volatile acidity</th>\n",
       "      <th>citric acid</th>\n",
       "      <th>residual sugar</th>\n",
       "      <th>chlorides</th>\n",
       "      <th>free sulfur dioxide</th>\n",
       "      <th>total sulfur dioxide</th>\n",
       "      <th>density</th>\n",
       "      <th>pH</th>\n",
       "      <th>sulphates</th>\n",
       "      <th>alcohol</th>\n",
       "      <th>quality</th>\n",
       "    </tr>\n",
       "  </thead>\n",
       "  <tbody>\n",
       "    <tr>\n",
       "      <th>0</th>\n",
       "      <td>7.4</td>\n",
       "      <td>0.70</td>\n",
       "      <td>0.00</td>\n",
       "      <td>1.9</td>\n",
       "      <td>0.076</td>\n",
       "      <td>11.0</td>\n",
       "      <td>34.0</td>\n",
       "      <td>0.9978</td>\n",
       "      <td>3.51</td>\n",
       "      <td>0.56</td>\n",
       "      <td>9.4</td>\n",
       "      <td>5</td>\n",
       "    </tr>\n",
       "    <tr>\n",
       "      <th>1</th>\n",
       "      <td>7.8</td>\n",
       "      <td>0.88</td>\n",
       "      <td>0.00</td>\n",
       "      <td>2.6</td>\n",
       "      <td>0.098</td>\n",
       "      <td>25.0</td>\n",
       "      <td>67.0</td>\n",
       "      <td>0.9968</td>\n",
       "      <td>3.20</td>\n",
       "      <td>0.68</td>\n",
       "      <td>9.8</td>\n",
       "      <td>5</td>\n",
       "    </tr>\n",
       "    <tr>\n",
       "      <th>2</th>\n",
       "      <td>7.8</td>\n",
       "      <td>0.76</td>\n",
       "      <td>0.04</td>\n",
       "      <td>2.3</td>\n",
       "      <td>0.092</td>\n",
       "      <td>15.0</td>\n",
       "      <td>54.0</td>\n",
       "      <td>0.9970</td>\n",
       "      <td>3.26</td>\n",
       "      <td>0.65</td>\n",
       "      <td>9.8</td>\n",
       "      <td>5</td>\n",
       "    </tr>\n",
       "    <tr>\n",
       "      <th>3</th>\n",
       "      <td>11.2</td>\n",
       "      <td>0.28</td>\n",
       "      <td>0.56</td>\n",
       "      <td>1.9</td>\n",
       "      <td>0.075</td>\n",
       "      <td>17.0</td>\n",
       "      <td>60.0</td>\n",
       "      <td>0.9980</td>\n",
       "      <td>3.16</td>\n",
       "      <td>0.58</td>\n",
       "      <td>9.8</td>\n",
       "      <td>6</td>\n",
       "    </tr>\n",
       "    <tr>\n",
       "      <th>4</th>\n",
       "      <td>7.4</td>\n",
       "      <td>0.70</td>\n",
       "      <td>0.00</td>\n",
       "      <td>1.9</td>\n",
       "      <td>0.076</td>\n",
       "      <td>11.0</td>\n",
       "      <td>34.0</td>\n",
       "      <td>0.9978</td>\n",
       "      <td>3.51</td>\n",
       "      <td>0.56</td>\n",
       "      <td>9.4</td>\n",
       "      <td>5</td>\n",
       "    </tr>\n",
       "  </tbody>\n",
       "</table>\n",
       "</div>"
      ],
      "text/plain": [
       "   fixed acidity  volatile acidity  citric acid  residual sugar  chlorides  \\\n",
       "0            7.4              0.70         0.00             1.9      0.076   \n",
       "1            7.8              0.88         0.00             2.6      0.098   \n",
       "2            7.8              0.76         0.04             2.3      0.092   \n",
       "3           11.2              0.28         0.56             1.9      0.075   \n",
       "4            7.4              0.70         0.00             1.9      0.076   \n",
       "\n",
       "   free sulfur dioxide  total sulfur dioxide  density    pH  sulphates  \\\n",
       "0                 11.0                  34.0   0.9978  3.51       0.56   \n",
       "1                 25.0                  67.0   0.9968  3.20       0.68   \n",
       "2                 15.0                  54.0   0.9970  3.26       0.65   \n",
       "3                 17.0                  60.0   0.9980  3.16       0.58   \n",
       "4                 11.0                  34.0   0.9978  3.51       0.56   \n",
       "\n",
       "   alcohol  quality  \n",
       "0      9.4        5  \n",
       "1      9.8        5  \n",
       "2      9.8        5  \n",
       "3      9.8        6  \n",
       "4      9.4        5  "
      ]
     },
     "execution_count": 3,
     "metadata": {},
     "output_type": "execute_result"
    }
   ],
   "source": [
    "df.head()"
   ]
  },
  {
   "cell_type": "code",
   "execution_count": 4,
   "id": "6bae645f",
   "metadata": {},
   "outputs": [
    {
     "name": "stdout",
     "output_type": "stream",
     "text": [
      "<class 'pandas.core.frame.DataFrame'>\n",
      "RangeIndex: 1599 entries, 0 to 1598\n",
      "Data columns (total 12 columns):\n",
      " #   Column                Non-Null Count  Dtype  \n",
      "---  ------                --------------  -----  \n",
      " 0   fixed acidity         1599 non-null   float64\n",
      " 1   volatile acidity      1599 non-null   float64\n",
      " 2   citric acid           1599 non-null   float64\n",
      " 3   residual sugar        1599 non-null   float64\n",
      " 4   chlorides             1599 non-null   float64\n",
      " 5   free sulfur dioxide   1599 non-null   float64\n",
      " 6   total sulfur dioxide  1599 non-null   float64\n",
      " 7   density               1599 non-null   float64\n",
      " 8   pH                    1599 non-null   float64\n",
      " 9   sulphates             1599 non-null   float64\n",
      " 10  alcohol               1599 non-null   float64\n",
      " 11  quality               1599 non-null   int64  \n",
      "dtypes: float64(11), int64(1)\n",
      "memory usage: 150.0 KB\n"
     ]
    }
   ],
   "source": [
    "df.info()"
   ]
  },
  {
   "cell_type": "code",
   "execution_count": 5,
   "id": "0f79880f",
   "metadata": {},
   "outputs": [
    {
     "data": {
      "text/html": [
       "<div>\n",
       "<style scoped>\n",
       "    .dataframe tbody tr th:only-of-type {\n",
       "        vertical-align: middle;\n",
       "    }\n",
       "\n",
       "    .dataframe tbody tr th {\n",
       "        vertical-align: top;\n",
       "    }\n",
       "\n",
       "    .dataframe thead th {\n",
       "        text-align: right;\n",
       "    }\n",
       "</style>\n",
       "<table border=\"1\" class=\"dataframe\">\n",
       "  <thead>\n",
       "    <tr style=\"text-align: right;\">\n",
       "      <th></th>\n",
       "      <th>fixed acidity</th>\n",
       "      <th>volatile acidity</th>\n",
       "      <th>citric acid</th>\n",
       "      <th>residual sugar</th>\n",
       "      <th>chlorides</th>\n",
       "      <th>free sulfur dioxide</th>\n",
       "      <th>total sulfur dioxide</th>\n",
       "      <th>density</th>\n",
       "      <th>pH</th>\n",
       "      <th>sulphates</th>\n",
       "      <th>alcohol</th>\n",
       "      <th>quality</th>\n",
       "    </tr>\n",
       "  </thead>\n",
       "  <tbody>\n",
       "    <tr>\n",
       "      <th>count</th>\n",
       "      <td>1599.000000</td>\n",
       "      <td>1599.000000</td>\n",
       "      <td>1599.000000</td>\n",
       "      <td>1599.000000</td>\n",
       "      <td>1599.000000</td>\n",
       "      <td>1599.000000</td>\n",
       "      <td>1599.000000</td>\n",
       "      <td>1599.000000</td>\n",
       "      <td>1599.000000</td>\n",
       "      <td>1599.000000</td>\n",
       "      <td>1599.000000</td>\n",
       "      <td>1599.000000</td>\n",
       "    </tr>\n",
       "    <tr>\n",
       "      <th>mean</th>\n",
       "      <td>8.319637</td>\n",
       "      <td>0.527821</td>\n",
       "      <td>0.270976</td>\n",
       "      <td>2.538806</td>\n",
       "      <td>0.087467</td>\n",
       "      <td>15.874922</td>\n",
       "      <td>46.467792</td>\n",
       "      <td>0.996747</td>\n",
       "      <td>3.311113</td>\n",
       "      <td>0.658149</td>\n",
       "      <td>10.422983</td>\n",
       "      <td>5.636023</td>\n",
       "    </tr>\n",
       "    <tr>\n",
       "      <th>std</th>\n",
       "      <td>1.741096</td>\n",
       "      <td>0.179060</td>\n",
       "      <td>0.194801</td>\n",
       "      <td>1.409928</td>\n",
       "      <td>0.047065</td>\n",
       "      <td>10.460157</td>\n",
       "      <td>32.895324</td>\n",
       "      <td>0.001887</td>\n",
       "      <td>0.154386</td>\n",
       "      <td>0.169507</td>\n",
       "      <td>1.065668</td>\n",
       "      <td>0.807569</td>\n",
       "    </tr>\n",
       "    <tr>\n",
       "      <th>min</th>\n",
       "      <td>4.600000</td>\n",
       "      <td>0.120000</td>\n",
       "      <td>0.000000</td>\n",
       "      <td>0.900000</td>\n",
       "      <td>0.012000</td>\n",
       "      <td>1.000000</td>\n",
       "      <td>6.000000</td>\n",
       "      <td>0.990070</td>\n",
       "      <td>2.740000</td>\n",
       "      <td>0.330000</td>\n",
       "      <td>8.400000</td>\n",
       "      <td>3.000000</td>\n",
       "    </tr>\n",
       "    <tr>\n",
       "      <th>25%</th>\n",
       "      <td>7.100000</td>\n",
       "      <td>0.390000</td>\n",
       "      <td>0.090000</td>\n",
       "      <td>1.900000</td>\n",
       "      <td>0.070000</td>\n",
       "      <td>7.000000</td>\n",
       "      <td>22.000000</td>\n",
       "      <td>0.995600</td>\n",
       "      <td>3.210000</td>\n",
       "      <td>0.550000</td>\n",
       "      <td>9.500000</td>\n",
       "      <td>5.000000</td>\n",
       "    </tr>\n",
       "    <tr>\n",
       "      <th>50%</th>\n",
       "      <td>7.900000</td>\n",
       "      <td>0.520000</td>\n",
       "      <td>0.260000</td>\n",
       "      <td>2.200000</td>\n",
       "      <td>0.079000</td>\n",
       "      <td>14.000000</td>\n",
       "      <td>38.000000</td>\n",
       "      <td>0.996750</td>\n",
       "      <td>3.310000</td>\n",
       "      <td>0.620000</td>\n",
       "      <td>10.200000</td>\n",
       "      <td>6.000000</td>\n",
       "    </tr>\n",
       "    <tr>\n",
       "      <th>75%</th>\n",
       "      <td>9.200000</td>\n",
       "      <td>0.640000</td>\n",
       "      <td>0.420000</td>\n",
       "      <td>2.600000</td>\n",
       "      <td>0.090000</td>\n",
       "      <td>21.000000</td>\n",
       "      <td>62.000000</td>\n",
       "      <td>0.997835</td>\n",
       "      <td>3.400000</td>\n",
       "      <td>0.730000</td>\n",
       "      <td>11.100000</td>\n",
       "      <td>6.000000</td>\n",
       "    </tr>\n",
       "    <tr>\n",
       "      <th>max</th>\n",
       "      <td>15.900000</td>\n",
       "      <td>1.580000</td>\n",
       "      <td>1.000000</td>\n",
       "      <td>15.500000</td>\n",
       "      <td>0.611000</td>\n",
       "      <td>72.000000</td>\n",
       "      <td>289.000000</td>\n",
       "      <td>1.003690</td>\n",
       "      <td>4.010000</td>\n",
       "      <td>2.000000</td>\n",
       "      <td>14.900000</td>\n",
       "      <td>8.000000</td>\n",
       "    </tr>\n",
       "  </tbody>\n",
       "</table>\n",
       "</div>"
      ],
      "text/plain": [
       "       fixed acidity  volatile acidity  citric acid  residual sugar  \\\n",
       "count    1599.000000       1599.000000  1599.000000     1599.000000   \n",
       "mean        8.319637          0.527821     0.270976        2.538806   \n",
       "std         1.741096          0.179060     0.194801        1.409928   \n",
       "min         4.600000          0.120000     0.000000        0.900000   \n",
       "25%         7.100000          0.390000     0.090000        1.900000   \n",
       "50%         7.900000          0.520000     0.260000        2.200000   \n",
       "75%         9.200000          0.640000     0.420000        2.600000   \n",
       "max        15.900000          1.580000     1.000000       15.500000   \n",
       "\n",
       "         chlorides  free sulfur dioxide  total sulfur dioxide      density  \\\n",
       "count  1599.000000          1599.000000           1599.000000  1599.000000   \n",
       "mean      0.087467            15.874922             46.467792     0.996747   \n",
       "std       0.047065            10.460157             32.895324     0.001887   \n",
       "min       0.012000             1.000000              6.000000     0.990070   \n",
       "25%       0.070000             7.000000             22.000000     0.995600   \n",
       "50%       0.079000            14.000000             38.000000     0.996750   \n",
       "75%       0.090000            21.000000             62.000000     0.997835   \n",
       "max       0.611000            72.000000            289.000000     1.003690   \n",
       "\n",
       "                pH    sulphates      alcohol      quality  \n",
       "count  1599.000000  1599.000000  1599.000000  1599.000000  \n",
       "mean      3.311113     0.658149    10.422983     5.636023  \n",
       "std       0.154386     0.169507     1.065668     0.807569  \n",
       "min       2.740000     0.330000     8.400000     3.000000  \n",
       "25%       3.210000     0.550000     9.500000     5.000000  \n",
       "50%       3.310000     0.620000    10.200000     6.000000  \n",
       "75%       3.400000     0.730000    11.100000     6.000000  \n",
       "max       4.010000     2.000000    14.900000     8.000000  "
      ]
     },
     "execution_count": 5,
     "metadata": {},
     "output_type": "execute_result"
    }
   ],
   "source": [
    "df.describe()"
   ]
  },
  {
   "cell_type": "code",
   "execution_count": 6,
   "id": "8bd00525",
   "metadata": {},
   "outputs": [
    {
     "data": {
      "text/plain": [
       "fixed acidity           0\n",
       "volatile acidity        0\n",
       "citric acid             0\n",
       "residual sugar          0\n",
       "chlorides               0\n",
       "free sulfur dioxide     0\n",
       "total sulfur dioxide    0\n",
       "density                 0\n",
       "pH                      0\n",
       "sulphates               0\n",
       "alcohol                 0\n",
       "quality                 0\n",
       "dtype: int64"
      ]
     },
     "execution_count": 6,
     "metadata": {},
     "output_type": "execute_result"
    }
   ],
   "source": [
    "df.isna().sum()"
   ]
  },
  {
   "cell_type": "markdown",
   "id": "12310509",
   "metadata": {},
   "source": [
    "# let's see how data is distributed for every column"
   ]
  },
  {
   "cell_type": "code",
   "execution_count": 7,
   "id": "f4280e43",
   "metadata": {},
   "outputs": [
    {
     "data": {
      "image/png": "[encoded data removed]",
      "text/plain": [
       "<Figure size 1800x1440 with 12 Axes>"
      ]
     },
     "metadata": {
      "needs_background": "light"
     },
     "output_type": "display_data"
    }
   ],
   "source": [
    "plt.figure(figsize = (25, 20))\n",
    "plotnumber = 1\n",
    "\n",
    "for col in df:\n",
    "    if plotnumber <= 12:\n",
    "        ax = plt.subplot(4, 3, plotnumber)\n",
    "        sns.distplot(df[col])\n",
    "        plt.xlabel(col, fontsize = 15)\n",
    "        \n",
    "    plotnumber += 1\n",
    "    \n",
    "plt.tight_layout()\n",
    "plt.show()"
   ]
  },
  {
   "cell_type": "markdown",
   "id": "83f5a541",
   "metadata": {},
   "source": [
    "# Heatmap"
   ]
  },
  {
   "cell_type": "code",
   "execution_count": 8,
   "id": "22909706",
   "metadata": {},
   "outputs": [
    {
     "data": {
      "image/png": "[encoded data removed]",
      "text/plain": [
       "<Figure size 1152x504 with 2 Axes>"
      ]
     },
     "metadata": {
      "needs_background": "light"
     },
     "output_type": "display_data"
    }
   ],
   "source": [
    "plt.figure(figsize = (16, 7))\n",
    "\n",
    "corr = df.corr()\n",
    "mask = np.triu(np.ones_like(corr, dtype = bool))\n",
    "\n",
    "sns.heatmap(corr, mask = mask, annot = True, fmt = '0.2g', linewidths = 1)\n",
    "plt.show()"
   ]
  },
  {
   "cell_type": "markdown",
   "id": "550a0e00",
   "metadata": {},
   "source": [
    "# creating X and y"
   ]
  },
  {
   "cell_type": "code",
   "execution_count": 9,
   "id": "838052bf",
   "metadata": {},
   "outputs": [],
   "source": [
    "X = df.drop('quality', axis = 1)\n",
    "y = df['quality']"
   ]
  },
  {
   "cell_type": "markdown",
   "id": "7e5c37f7",
   "metadata": {},
   "source": [
    "# splitting data into training and test set"
   ]
  },
  {
   "cell_type": "code",
   "execution_count": 10,
   "id": "b9472bac",
   "metadata": {},
   "outputs": [],
   "source": [
    "from sklearn.model_selection import train_test_split\n",
    "\n",
    "X_train, X_test, y_train, y_test = train_test_split(X, y, test_size = 0.25, stratify = y)"
   ]
  },
  {
   "cell_type": "markdown",
   "id": "4781411e",
   "metadata": {},
   "source": [
    "# scaling data"
   ]
  },
  {
   "cell_type": "code",
   "execution_count": 11,
   "id": "c9c54178",
   "metadata": {},
   "outputs": [],
   "source": [
    "from sklearn.preprocessing import StandardScaler\n",
    "\n",
    "sc = StandardScaler()\n",
    "X_train = sc.fit_transform(X_train)\n",
    "X_test = sc.transform(X_test)"
   ]
  },
  {
   "cell_type": "markdown",
   "id": "cc6dd2a5",
   "metadata": {},
   "source": [
    "# Logistic Regression"
   ]
  },
  {
   "cell_type": "code",
   "execution_count": 12,
   "id": "260857d7",
   "metadata": {},
   "outputs": [
    {
     "data": {
      "text/plain": [
       "LogisticRegression(multi_class='multinomial')"
      ]
     },
     "execution_count": 12,
     "metadata": {},
     "output_type": "execute_result"
    }
   ],
   "source": [
    "from sklearn.linear_model import LogisticRegression\n",
    "\n",
    "lr = LogisticRegression(multi_class = 'multinomial', solver = 'lbfgs')\n",
    "lr.fit(X_train, y_train)"
   ]
  },
  {
   "cell_type": "code",
   "execution_count": 13,
   "id": "3c1b3062",
   "metadata": {},
   "outputs": [
    {
     "name": "stdout",
     "output_type": "stream",
     "text": [
      "Accuracy Score of Training Data is 0.6138448707256047\n",
      "Accuracy Score of Training Data is 0.5975\n",
      "\n"
     ]
    }
   ],
   "source": [
    "# accuracy score\n",
    "\n",
    "from sklearn.metrics import accuracy_score\n",
    "\n",
    "lr_acc = accuracy_score(y_test, lr.predict(X_test))\n",
    "print(f\"Accuracy Score of Training Data is {accuracy_score(y_train, lr.predict(X_train))}\")\n",
    "print(f\"Accuracy Score of Training Data is {lr_acc}\\n\")"
   ]
  },
  {
   "cell_type": "markdown",
   "id": "2d8f57f0",
   "metadata": {},
   "source": [
    "# KNN"
   ]
  },
  {
   "cell_type": "code",
   "execution_count": 14,
   "id": "0af88137",
   "metadata": {},
   "outputs": [
    {
     "data": {
      "text/plain": [
       "KNeighborsClassifier()"
      ]
     },
     "execution_count": 14,
     "metadata": {},
     "output_type": "execute_result"
    }
   ],
   "source": [
    "from sklearn.neighbors import KNeighborsClassifier\n",
    "\n",
    "knn = KNeighborsClassifier()\n",
    "knn.fit(X_train, y_train)"
   ]
  },
  {
   "cell_type": "code",
   "execution_count": 15,
   "id": "c9aaea70",
   "metadata": {},
   "outputs": [
    {
     "name": "stdout",
     "output_type": "stream",
     "text": [
      "Accuracy Score of Training Data is 0.6805671392827356\n",
      "Accuracy Score of Training Data is 0.5725\n",
      "\n"
     ]
    }
   ],
   "source": [
    "# accuracy score\n",
    "\n",
    "knn_acc = accuracy_score(y_test, knn.predict(X_test))\n",
    "print(f\"Accuracy Score of Training Data is {accuracy_score(y_train, knn.predict(X_train))}\")\n",
    "print(f\"Accuracy Score of Training Data is {knn_acc}\\n\")"
   ]
  },
  {
   "cell_type": "markdown",
   "id": "22d6a6d8",
   "metadata": {},
   "source": [
    "# SVC"
   ]
  },
  {
   "cell_type": "code",
   "execution_count": 16,
   "id": "b2db1990",
   "metadata": {},
   "outputs": [
    {
     "data": {
      "text/plain": [
       "SVC()"
      ]
     },
     "execution_count": 16,
     "metadata": {},
     "output_type": "execute_result"
    }
   ],
   "source": [
    "from sklearn.svm import SVC\n",
    "\n",
    "svc = SVC()\n",
    "svc.fit(X_train, y_train)"
   ]
  },
  {
   "cell_type": "code",
   "execution_count": 17,
   "id": "476a11d1",
   "metadata": {},
   "outputs": [
    {
     "name": "stdout",
     "output_type": "stream",
     "text": [
      "Accuracy Score of Training Data is 0.6797331109257715\n",
      "Accuracy Score of Training Data is 0.6325\n",
      "\n"
     ]
    }
   ],
   "source": [
    "# accuracy score\n",
    "\n",
    "svc_acc = accuracy_score(y_test, svc.predict(X_test))\n",
    "print(f\"Accuracy Score of Training Data is {accuracy_score(y_train, svc.predict(X_train))}\")\n",
    "print(f\"Accuracy Score of Training Data is {svc_acc}\\n\")"
   ]
  },
  {
   "cell_type": "markdown",
   "id": "bcacf008",
   "metadata": {},
   "source": [
    "# SGD Classifier"
   ]
  },
  {
   "cell_type": "code",
   "execution_count": 18,
   "id": "0c539474",
   "metadata": {},
   "outputs": [
    {
     "data": {
      "text/plain": [
       "GridSearchCV(cv=10, estimator=SGDClassifier(), n_jobs=-1,\n",
       "             param_grid={'alpha': [0.0001, 0.001, 0.01, 0.1, 1],\n",
       "                         'loss': ['hinge', 'log'], 'penalty': ['l1', 'l2']})"
      ]
     },
     "execution_count": 18,
     "metadata": {},
     "output_type": "execute_result"
    }
   ],
   "source": [
    "from sklearn.linear_model import SGDClassifier\n",
    "\n",
    "from sklearn.model_selection import GridSearchCV\n",
    "\n",
    "sgd = SGDClassifier()\n",
    "parameters = {\n",
    "    'alpha' : [0.0001, 0.001, 0.01, 0.1, 1],\n",
    "    'loss' : ['hinge', 'log'],\n",
    "    'penalty' : ['l1', 'l2']\n",
    "}\n",
    "\n",
    "grid_search = GridSearchCV(sgd, parameters, cv = 10, n_jobs = -1)\n",
    "grid_search.fit(X_train, y_train)"
   ]
  },
  {
   "cell_type": "code",
   "execution_count": 19,
   "id": "cd893aef",
   "metadata": {},
   "outputs": [
    {
     "name": "stdout",
     "output_type": "stream",
     "text": [
      "{'alpha': 0.01, 'loss': 'log', 'penalty': 'l2'}\n",
      "0.5914005602240897\n"
     ]
    }
   ],
   "source": [
    "# best parameter and best score\n",
    "\n",
    "print(grid_search.best_params_)\n",
    "print(grid_search.best_score_)"
   ]
  },
  {
   "cell_type": "code",
   "execution_count": 20,
   "id": "3b90ce95",
   "metadata": {},
   "outputs": [
    {
     "name": "stdout",
     "output_type": "stream",
     "text": [
      "0.6021684737281068\n",
      "0.59\n"
     ]
    }
   ],
   "source": [
    "sgd = SGDClassifier(alpha = 0.01, loss = 'log', penalty = 'l2')\n",
    "sgd.fit(X_train, y_train)\n",
    "\n",
    "y_pred = sgd.predict(X_test)\n",
    "\n",
    "print(accuracy_score(y_train, sgd.predict(X_train)))\n",
    "\n",
    "sgd_acc = accuracy_score(y_test, sgd.predict(X_test))\n",
    "print(sgd_acc)"
   ]
  },
  {
   "cell_type": "markdown",
   "id": "9218cfac",
   "metadata": {},
   "source": [
    "# Decision Tree"
   ]
  },
  {
   "cell_type": "code",
   "execution_count": 21,
   "id": "9062798a",
   "metadata": {},
   "outputs": [
    {
     "data": {
      "text/plain": [
       "DecisionTreeClassifier()"
      ]
     },
     "execution_count": 21,
     "metadata": {},
     "output_type": "execute_result"
    }
   ],
   "source": [
    "from sklearn.tree import DecisionTreeClassifier\n",
    "\n",
    "dtc = DecisionTreeClassifier()\n",
    "dtc.fit(X_train, y_train)"
   ]
  },
  {
   "cell_type": "code",
   "execution_count": 22,
   "id": "bcc1300e",
   "metadata": {},
   "outputs": [
    {
     "name": "stdout",
     "output_type": "stream",
     "text": [
      "Accuracy Score of Training Data is 1.0\n",
      "Accuracy Score of Training Data is 0.5825\n",
      "\n"
     ]
    }
   ],
   "source": [
    "# accuracy score\n",
    "\n",
    "dtc_acc = accuracy_score(y_test, dtc.predict(X_test))\n",
    "print(f\"Accuracy Score of Training Data is {accuracy_score(y_train, dtc.predict(X_train))}\")\n",
    "print(f\"Accuracy Score of Training Data is {dtc_acc}\\n\")"
   ]
  },
  {
   "cell_type": "markdown",
   "id": "ce9d9ce8",
   "metadata": {},
   "source": [
    "# Random Forest"
   ]
  },
  {
   "cell_type": "code",
   "execution_count": 23,
   "id": "fe4e03cf",
   "metadata": {},
   "outputs": [
    {
     "data": {
      "text/plain": [
       "RandomForestClassifier()"
      ]
     },
     "execution_count": 23,
     "metadata": {},
     "output_type": "execute_result"
    }
   ],
   "source": [
    "from sklearn.ensemble import RandomForestClassifier\n",
    "\n",
    "rf = RandomForestClassifier()\n",
    "rf.fit(X_train, y_train)"
   ]
  },
  {
   "cell_type": "code",
   "execution_count": 24,
   "id": "771ab85b",
   "metadata": {},
   "outputs": [
    {
     "name": "stdout",
     "output_type": "stream",
     "text": [
      "Accuracy Score of Training Data is 1.0\n",
      "Accuracy Score of Training Data is 0.68\n",
      "\n"
     ]
    }
   ],
   "source": [
    "# accuracy score\n",
    "\n",
    "rf_acc = accuracy_score(y_test, rf.predict(X_test))\n",
    "print(f\"Accuracy Score of Training Data is {accuracy_score(y_train, rf.predict(X_train))}\")\n",
    "print(f\"Accuracy Score of Training Data is {rf_acc}\\n\")"
   ]
  },
  {
   "cell_type": "markdown",
   "id": "c3ff8922",
   "metadata": {},
   "source": [
    "# Ada Boost Classifier"
   ]
  },
  {
   "cell_type": "code",
   "execution_count": 25,
   "id": "2b1f9393",
   "metadata": {},
   "outputs": [
    {
     "data": {
      "text/plain": [
       "AdaBoostClassifier(base_estimator=DecisionTreeClassifier())"
      ]
     },
     "execution_count": 25,
     "metadata": {},
     "output_type": "execute_result"
    }
   ],
   "source": [
    "from sklearn.ensemble import AdaBoostClassifier\n",
    "\n",
    "ada = AdaBoostClassifier(base_estimator = dtc)\n",
    "ada.fit(X_train, y_train)"
   ]
  },
  {
   "cell_type": "code",
   "execution_count": 26,
   "id": "e05d9e06",
   "metadata": {},
   "outputs": [
    {
     "name": "stdout",
     "output_type": "stream",
     "text": [
      "Accuracy Score of Training Data is 1.0\n",
      "Accuracy Score of Training Data is 0.5825\n",
      "\n"
     ]
    }
   ],
   "source": [
    "# accuracy score\n",
    "\n",
    "ada_acc = accuracy_score(y_test, ada.predict(X_test))\n",
    "print(f\"Accuracy Score of Training Data is {accuracy_score(y_train, ada.predict(X_train))}\")\n",
    "print(f\"Accuracy Score of Training Data is {ada_acc}\\n\")"
   ]
  },
  {
   "cell_type": "code",
   "execution_count": 27,
   "id": "f8b46a28",
   "metadata": {},
   "outputs": [
    {
     "name": "stdout",
     "output_type": "stream",
     "text": [
      "Fitting 5 folds for each of 60 candidates, totalling 300 fits\n"
     ]
    },
    {
     "data": {
      "text/plain": [
       "GridSearchCV(cv=5,\n",
       "             estimator=AdaBoostClassifier(base_estimator=DecisionTreeClassifier()),\n",
       "             n_jobs=-1,\n",
       "             param_grid={'algorithm': ['SAMME', 'SAMME.R'],\n",
       "                         'learning_rate': [0.01, 0.1, 0.05, 0.5, 1, 10],\n",
       "                         'n_estimators': [40, 50, 70, 80, 100]},\n",
       "             verbose=1)"
      ]
     },
     "execution_count": 27,
     "metadata": {},
     "output_type": "execute_result"
    }
   ],
   "source": [
    "# hyper parameter tuning using grid search cv\n",
    "\n",
    "grid_param = {\n",
    "    'n_estimators' : [40, 50, 70, 80, 100],\n",
    "    'learning_rate' : [0.01, 0.1, 0.05, 0.5, 1, 10],\n",
    "    'algorithm' : ['SAMME', 'SAMME.R']\n",
    "}\n",
    "\n",
    "grid_search = GridSearchCV(ada, grid_param, cv = 5, n_jobs = -1, verbose = 1)\n",
    "grid_search.fit(X_train, y_train)"
   ]
  },
  {
   "cell_type": "code",
   "execution_count": 28,
   "id": "0f99e83c",
   "metadata": {},
   "outputs": [
    {
     "name": "stdout",
     "output_type": "stream",
     "text": [
      "{'algorithm': 'SAMME.R', 'learning_rate': 0.5, 'n_estimators': 80}\n",
      "0.5880334728033473\n"
     ]
    }
   ],
   "source": [
    "# best parameters and best score\n",
    "\n",
    "print(grid_search.best_params_)\n",
    "print(grid_search.best_score_)"
   ]
  },
  {
   "cell_type": "code",
   "execution_count": 29,
   "id": "265f7cc1",
   "metadata": {},
   "outputs": [
    {
     "data": {
      "text/plain": [
       "AdaBoostClassifier(base_estimator=AdaBoostClassifier(base_estimator=DecisionTreeClassifier()),\n",
       "                   learning_rate=1, n_estimators=100)"
      ]
     },
     "execution_count": 29,
     "metadata": {},
     "output_type": "execute_result"
    }
   ],
   "source": [
    "ada = AdaBoostClassifier(base_estimator = ada, algorithm = 'SAMME.R', learning_rate = 1, n_estimators = 100)\n",
    "ada.fit(X_train, y_train)"
   ]
  },
  {
   "cell_type": "code",
   "execution_count": 30,
   "id": "6c3ee929",
   "metadata": {},
   "outputs": [
    {
     "name": "stdout",
     "output_type": "stream",
     "text": [
      "Accuracy Score of Training Data is 1.0\n",
      "Accuracy Score of Training Data is 0.565\n",
      "\n"
     ]
    }
   ],
   "source": [
    "# accuracy score\n",
    "\n",
    "ada_acc = accuracy_score(y_test, ada.predict(X_test))\n",
    "print(f\"Accuracy Score of Training Data is {accuracy_score(y_train, ada.predict(X_train))}\")\n",
    "print(f\"Accuracy Score of Training Data is {ada_acc}\\n\")"
   ]
  },
  {
   "cell_type": "markdown",
   "id": "4efd4418",
   "metadata": {},
   "source": [
    "# Gradient Boosting Classifier"
   ]
  },
  {
   "cell_type": "code",
   "execution_count": 31,
   "id": "6a7a683f",
   "metadata": {},
   "outputs": [
    {
     "data": {
      "text/plain": [
       "GradientBoostingClassifier()"
      ]
     },
     "execution_count": 31,
     "metadata": {},
     "output_type": "execute_result"
    }
   ],
   "source": [
    "from sklearn.ensemble import GradientBoostingClassifier\n",
    "\n",
    "gb = GradientBoostingClassifier()\n",
    "gb.fit(X_train, y_train)"
   ]
  },
  {
   "cell_type": "code",
   "execution_count": 32,
   "id": "f89fadc4",
   "metadata": {},
   "outputs": [
    {
     "name": "stdout",
     "output_type": "stream",
     "text": [
      "Accuracy Score of Training Data is 0.9032527105921602\n",
      "Accuracy Score of Training Data is 0.655\n",
      "\n"
     ]
    }
   ],
   "source": [
    "# accuracy score\n",
    "\n",
    "gb_acc = accuracy_score(y_test, gb.predict(X_test))\n",
    "print(f\"Accuracy Score of Training Data is {accuracy_score(y_train, gb.predict(X_train))}\")\n",
    "print(f\"Accuracy Score of Training Data is {gb_acc}\\n\")"
   ]
  },
  {
   "cell_type": "markdown",
   "id": "64379b61",
   "metadata": {},
   "source": [
    "# Stochastic Gradient Boosting (SGB)"
   ]
  },
  {
   "cell_type": "code",
   "execution_count": 33,
   "id": "1fe3a720",
   "metadata": {},
   "outputs": [
    {
     "data": {
      "text/plain": [
       "GradientBoostingClassifier(max_features=0.8, subsample=0.9)"
      ]
     },
     "execution_count": 33,
     "metadata": {},
     "output_type": "execute_result"
    }
   ],
   "source": [
    "sgb = GradientBoostingClassifier(subsample = 0.9, max_features = 0.8)\n",
    "sgb.fit(X_train, y_train)"
   ]
  },
  {
   "cell_type": "code",
   "execution_count": 34,
   "id": "6dc6d602",
   "metadata": {},
   "outputs": [
    {
     "name": "stdout",
     "output_type": "stream",
     "text": [
      "Accuracy Score of Training Data is 0.908256880733945\n",
      "Accuracy Score of Training Data is 0.6275\n",
      "\n"
     ]
    }
   ],
   "source": [
    "# accuracy score\n",
    "\n",
    "sgb_acc = accuracy_score(y_test, sgb.predict(X_test))\n",
    "print(f\"Accuracy Score of Training Data is {accuracy_score(y_train, sgb.predict(X_train))}\")\n",
    "print(f\"Accuracy Score of Training Data is {sgb_acc}\\n\")"
   ]
  },
  {
   "cell_type": "markdown",
   "id": "5773a1f6",
   "metadata": {},
   "source": [
    "# XgBoost"
   ]
  },
  {
   "cell_type": "code",
   "execution_count": 35,
   "id": "2aa6180a",
   "metadata": {},
   "outputs": [
    {
     "name": "stdout",
     "output_type": "stream",
     "text": [
      "[04:43:10] WARNING: C:/Users/Administrator/workspace/xgboost-win64_release_1.4.0/src/learner.cc:573: \n",
      "Parameters: { \"loss\" } might not be used.\n",
      "\n",
      "  This may not be accurate due to some parameters are only used in language bindings but\n",
      "  passed down to XGBoost core.  Or some parameters are not used but slip through this\n",
      "  verification. Please open an issue if you find above cases.\n",
      "\n",
      "\n",
      "[04:43:10] WARNING: C:/Users/Administrator/workspace/xgboost-win64_release_1.4.0/src/learner.cc:1095: Starting in XGBoost 1.3.0, the default evaluation metric used with the objective 'multi:softprob' was changed from 'merror' to 'mlogloss'. Explicitly set eval_metric if you'd like to restore the old behavior.\n"
     ]
    },
    {
     "data": {
      "text/plain": [
       "XGBClassifier(base_score=0.5, booster='gbtree', colsample_bylevel=1,\n",
       "              colsample_bynode=1, colsample_bytree=1, gamma=0, gpu_id=-1,\n",
       "              importance_type='gain', interaction_constraints='',\n",
       "              learning_rate=0.1, loss='deviance', max_delta_step=0, max_depth=6,\n",
       "              min_child_weight=1, missing=nan, monotone_constraints='()',\n",
       "              n_estimators=100, n_jobs=6, num_parallel_tree=1,\n",
       "              objective='multi:softprob', random_state=0, reg_alpha=0,\n",
       "              reg_lambda=1, scale_pos_weight=None, subsample=1,\n",
       "              tree_method='exact', validate_parameters=1, verbosity=None)"
      ]
     },
     "execution_count": 35,
     "metadata": {},
     "output_type": "execute_result"
    }
   ],
   "source": [
    "from xgboost import XGBClassifier\n",
    "\n",
    "xgb = XGBClassifier(learning_rate = 0.1, loss = 'deviance', n_estimators = 100)\n",
    "xgb.fit(X_train, y_train)"
   ]
  },
  {
   "cell_type": "code",
   "execution_count": 36,
   "id": "801b873e",
   "metadata": {},
   "outputs": [
    {
     "name": "stdout",
     "output_type": "stream",
     "text": [
      "Accuracy Score of Training Data is 0.9983319432860718\n",
      "Accuracy Score of Training Data is 0.6725\n",
      "\n"
     ]
    }
   ],
   "source": [
    "# accuracy score\n",
    "\n",
    "xgb_acc = accuracy_score(y_test, xgb.predict(X_test))\n",
    "\n",
    "print(f\"Accuracy Score of Training Data is {accuracy_score(y_train, xgb.predict(X_train))}\")\n",
    "print(f\"Accuracy Score of Training Data is {xgb_acc}\\n\")"
   ]
  },
  {
   "cell_type": "markdown",
   "id": "d3512fb5",
   "metadata": {},
   "source": [
    "# Light Gradient Boosting Classifier"
   ]
  },
  {
   "cell_type": "code",
   "execution_count": 37,
   "id": "e32ee4c3",
   "metadata": {},
   "outputs": [
    {
     "name": "stdout",
     "output_type": "stream",
     "text": [
      "Training Accuracy of Decision Tree Classifier is 1.0\n",
      "Test Accuracy of Decision Tree Classifier is 0.685 \n",
      "\n"
     ]
    }
   ],
   "source": [
    "from lightgbm import LGBMClassifier\n",
    "\n",
    "lgbm = LGBMClassifier()\n",
    "lgbm.fit(X_train, y_train)\n",
    "\n",
    "lgbm_acc = accuracy_score(y_test, lgbm.predict(X_test))\n",
    "\n",
    "print(f\"Training Accuracy of Decision Tree Classifier is {accuracy_score(y_train, lgbm.predict(X_train))}\")\n",
    "print(f\"Test Accuracy of Decision Tree Classifier is {lgbm_acc} \\n\")"
   ]
  },
  {
   "cell_type": "markdown",
   "id": "9b87a400",
   "metadata": {},
   "source": [
    "# Cat Boost Classifier"
   ]
  },
  {
   "cell_type": "code",
   "execution_count": 38,
   "id": "c00c117d",
   "metadata": {},
   "outputs": [
    {
     "name": "stdout",
     "output_type": "stream",
     "text": [
      "Learning rate set to 0.079863\n",
      "0:\tlearn: 1.6917472\ttotal: 161ms\tremaining: 2m 40s\n",
      "1:\tlearn: 1.6072604\ttotal: 184ms\tremaining: 1m 31s\n",
      "2:\tlearn: 1.5305948\ttotal: 207ms\tremaining: 1m 8s\n",
      "3:\tlearn: 1.4593940\ttotal: 218ms\tremaining: 54.3s\n",
      "4:\tlearn: 1.4051090\ttotal: 226ms\tremaining: 45s\n",
      "5:\tlearn: 1.3576896\ttotal: 233ms\tremaining: 38.6s\n",
      "6:\tlearn: 1.3151021\ttotal: 239ms\tremaining: 33.8s\n",
      "7:\tlearn: 1.2749358\ttotal: 244ms\tremaining: 30.3s\n",
      "8:\tlearn: 1.2396727\ttotal: 249ms\tremaining: 27.4s\n",
      "9:\tlearn: 1.2081094\ttotal: 254ms\tremaining: 25.1s\n",
      "10:\tlearn: 1.1793148\ttotal: 258ms\tremaining: 23.2s\n",
      "11:\tlearn: 1.1545247\ttotal: 263ms\tremaining: 21.7s\n",
      "12:\tlearn: 1.1307521\ttotal: 269ms\tremaining: 20.4s\n",
      "13:\tlearn: 1.1081218\ttotal: 273ms\tremaining: 19.3s\n",
      "14:\tlearn: 1.0873332\ttotal: 278ms\tremaining: 18.2s\n",
      "15:\tlearn: 1.0689984\ttotal: 282ms\tremaining: 17.3s\n",
      "16:\tlearn: 1.0528447\ttotal: 286ms\tremaining: 16.6s\n",
      "17:\tlearn: 1.0372672\ttotal: 291ms\tremaining: 15.9s\n",
      "18:\tlearn: 1.0230818\ttotal: 295ms\tremaining: 15.2s\n",
      "19:\tlearn: 1.0095823\ttotal: 299ms\tremaining: 14.7s\n",
      "20:\tlearn: 0.9976309\ttotal: 304ms\tremaining: 14.2s\n",
      "21:\tlearn: 0.9864777\ttotal: 308ms\tremaining: 13.7s\n",
      "22:\tlearn: 0.9758613\ttotal: 313ms\tremaining: 13.3s\n",
      "23:\tlearn: 0.9651919\ttotal: 316ms\tremaining: 12.9s\n",
      "24:\tlearn: 0.9567895\ttotal: 321ms\tremaining: 12.5s\n",
      "25:\tlearn: 0.9475881\ttotal: 325ms\tremaining: 12.2s\n",
      "26:\tlearn: 0.9391385\ttotal: 329ms\tremaining: 11.9s\n",
      "27:\tlearn: 0.9303498\ttotal: 334ms\tremaining: 11.6s\n",
      "28:\tlearn: 0.9209409\ttotal: 338ms\tremaining: 11.3s\n",
      "29:\tlearn: 0.9139177\ttotal: 343ms\tremaining: 11.1s\n",
      "30:\tlearn: 0.9071203\ttotal: 347ms\tremaining: 10.8s\n",
      "31:\tlearn: 0.9013323\ttotal: 351ms\tremaining: 10.6s\n",
      "32:\tlearn: 0.8945974\ttotal: 355ms\tremaining: 10.4s\n",
      "33:\tlearn: 0.8893767\ttotal: 361ms\tremaining: 10.3s\n",
      "34:\tlearn: 0.8831348\ttotal: 366ms\tremaining: 10.1s\n",
      "35:\tlearn: 0.8785252\ttotal: 371ms\tremaining: 9.93s\n",
      "36:\tlearn: 0.8718718\ttotal: 375ms\tremaining: 9.76s\n",
      "37:\tlearn: 0.8678077\ttotal: 379ms\tremaining: 9.6s\n",
      "38:\tlearn: 0.8631488\ttotal: 384ms\tremaining: 9.46s\n",
      "39:\tlearn: 0.8571279\ttotal: 388ms\tremaining: 9.31s\n",
      "40:\tlearn: 0.8517435\ttotal: 394ms\tremaining: 9.21s\n",
      "41:\tlearn: 0.8465954\ttotal: 399ms\tremaining: 9.11s\n",
      "42:\tlearn: 0.8420274\ttotal: 404ms\tremaining: 8.99s\n",
      "43:\tlearn: 0.8380120\ttotal: 409ms\tremaining: 8.88s\n",
      "44:\tlearn: 0.8339105\ttotal: 413ms\tremaining: 8.77s\n",
      "45:\tlearn: 0.8293582\ttotal: 418ms\tremaining: 8.67s\n",
      "46:\tlearn: 0.8261455\ttotal: 422ms\tremaining: 8.56s\n",
      "47:\tlearn: 0.8225340\ttotal: 426ms\tremaining: 8.45s\n",
      "48:\tlearn: 0.8187055\ttotal: 431ms\tremaining: 8.36s\n",
      "49:\tlearn: 0.8137055\ttotal: 435ms\tremaining: 8.26s\n",
      "50:\tlearn: 0.8106428\ttotal: 439ms\tremaining: 8.18s\n",
      "51:\tlearn: 0.8067854\ttotal: 444ms\tremaining: 8.09s\n",
      "52:\tlearn: 0.8039457\ttotal: 447ms\tremaining: 8s\n",
      "53:\tlearn: 0.8009894\ttotal: 452ms\tremaining: 7.92s\n",
      "54:\tlearn: 0.7984352\ttotal: 457ms\tremaining: 7.85s\n",
      "55:\tlearn: 0.7951154\ttotal: 461ms\tremaining: 7.78s\n",
      "56:\tlearn: 0.7923245\ttotal: 466ms\tremaining: 7.71s\n",
      "57:\tlearn: 0.7894561\ttotal: 470ms\tremaining: 7.64s\n",
      "58:\tlearn: 0.7873860\ttotal: 475ms\tremaining: 7.57s\n",
      "59:\tlearn: 0.7836769\ttotal: 479ms\tremaining: 7.5s\n",
      "60:\tlearn: 0.7806847\ttotal: 483ms\tremaining: 7.44s\n",
      "61:\tlearn: 0.7781081\ttotal: 488ms\tremaining: 7.38s\n",
      "62:\tlearn: 0.7752201\ttotal: 492ms\tremaining: 7.32s\n",
      "63:\tlearn: 0.7718366\ttotal: 497ms\tremaining: 7.26s\n",
      "64:\tlearn: 0.7691124\ttotal: 501ms\tremaining: 7.21s\n",
      "65:\tlearn: 0.7662420\ttotal: 505ms\tremaining: 7.15s\n",
      "66:\tlearn: 0.7638896\ttotal: 510ms\tremaining: 7.1s\n",
      "67:\tlearn: 0.7620624\ttotal: 515ms\tremaining: 7.05s\n",
      "68:\tlearn: 0.7598174\ttotal: 519ms\tremaining: 7s\n",
      "69:\tlearn: 0.7583136\ttotal: 523ms\tremaining: 6.95s\n",
      "70:\tlearn: 0.7560148\ttotal: 528ms\tremaining: 6.91s\n",
      "71:\tlearn: 0.7528609\ttotal: 532ms\tremaining: 6.86s\n",
      "72:\tlearn: 0.7496430\ttotal: 536ms\tremaining: 6.81s\n",
      "73:\tlearn: 0.7466305\ttotal: 542ms\tremaining: 6.78s\n",
      "74:\tlearn: 0.7429182\ttotal: 547ms\tremaining: 6.74s\n",
      "75:\tlearn: 0.7403840\ttotal: 551ms\tremaining: 6.7s\n",
      "76:\tlearn: 0.7388991\ttotal: 556ms\tremaining: 6.66s\n",
      "77:\tlearn: 0.7359219\ttotal: 560ms\tremaining: 6.62s\n",
      "78:\tlearn: 0.7346698\ttotal: 564ms\tremaining: 6.58s\n",
      "79:\tlearn: 0.7332430\ttotal: 568ms\tremaining: 6.53s\n",
      "80:\tlearn: 0.7309766\ttotal: 574ms\tremaining: 6.51s\n",
      "81:\tlearn: 0.7288113\ttotal: 579ms\tremaining: 6.49s\n",
      "82:\tlearn: 0.7259147\ttotal: 584ms\tremaining: 6.45s\n",
      "83:\tlearn: 0.7227806\ttotal: 588ms\tremaining: 6.42s\n",
      "84:\tlearn: 0.7201644\ttotal: 593ms\tremaining: 6.39s\n",
      "85:\tlearn: 0.7181734\ttotal: 598ms\tremaining: 6.35s\n",
      "86:\tlearn: 0.7150625\ttotal: 602ms\tremaining: 6.32s\n",
      "87:\tlearn: 0.7127887\ttotal: 607ms\tremaining: 6.29s\n",
      "88:\tlearn: 0.7111499\ttotal: 611ms\tremaining: 6.26s\n",
      "89:\tlearn: 0.7094189\ttotal: 616ms\tremaining: 6.22s\n",
      "90:\tlearn: 0.7065525\ttotal: 620ms\tremaining: 6.19s\n",
      "91:\tlearn: 0.7038496\ttotal: 624ms\tremaining: 6.16s\n",
      "92:\tlearn: 0.7025424\ttotal: 629ms\tremaining: 6.13s\n",
      "93:\tlearn: 0.7004307\ttotal: 633ms\tremaining: 6.1s\n",
      "94:\tlearn: 0.6983104\ttotal: 638ms\tremaining: 6.07s\n",
      "95:\tlearn: 0.6967776\ttotal: 642ms\tremaining: 6.04s\n",
      "96:\tlearn: 0.6946584\ttotal: 646ms\tremaining: 6.02s\n",
      "97:\tlearn: 0.6927630\ttotal: 651ms\tremaining: 5.99s\n",
      "98:\tlearn: 0.6902418\ttotal: 655ms\tremaining: 5.96s\n",
      "99:\tlearn: 0.6878583\ttotal: 659ms\tremaining: 5.93s\n",
      "100:\tlearn: 0.6856489\ttotal: 664ms\tremaining: 5.91s\n",
      "101:\tlearn: 0.6833659\ttotal: 668ms\tremaining: 5.88s\n",
      "102:\tlearn: 0.6816080\ttotal: 673ms\tremaining: 5.86s\n",
      "103:\tlearn: 0.6808677\ttotal: 677ms\tremaining: 5.83s\n",
      "104:\tlearn: 0.6794399\ttotal: 681ms\tremaining: 5.8s\n",
      "105:\tlearn: 0.6783046\ttotal: 685ms\tremaining: 5.78s\n",
      "106:\tlearn: 0.6777730\ttotal: 690ms\tremaining: 5.75s\n",
      "107:\tlearn: 0.6762402\ttotal: 694ms\tremaining: 5.73s\n",
      "108:\tlearn: 0.6743912\ttotal: 699ms\tremaining: 5.71s\n",
      "109:\tlearn: 0.6725125\ttotal: 703ms\tremaining: 5.69s\n",
      "110:\tlearn: 0.6700780\ttotal: 707ms\tremaining: 5.66s\n",
      "111:\tlearn: 0.6682537\ttotal: 712ms\tremaining: 5.64s\n",
      "112:\tlearn: 0.6665696\ttotal: 716ms\tremaining: 5.62s\n",
      "113:\tlearn: 0.6638008\ttotal: 721ms\tremaining: 5.61s\n",
      "114:\tlearn: 0.6623553\ttotal: 727ms\tremaining: 5.59s\n",
      "115:\tlearn: 0.6605435\ttotal: 732ms\tremaining: 5.58s\n",
      "116:\tlearn: 0.6576945\ttotal: 736ms\tremaining: 5.56s\n",
      "117:\tlearn: 0.6549824\ttotal: 741ms\tremaining: 5.54s\n",
      "118:\tlearn: 0.6539352\ttotal: 747ms\tremaining: 5.53s\n",
      "119:\tlearn: 0.6512745\ttotal: 752ms\tremaining: 5.51s\n",
      "120:\tlearn: 0.6485109\ttotal: 757ms\tremaining: 5.5s\n",
      "121:\tlearn: 0.6462126\ttotal: 761ms\tremaining: 5.48s\n",
      "122:\tlearn: 0.6447466\ttotal: 766ms\tremaining: 5.46s\n",
      "123:\tlearn: 0.6438544\ttotal: 771ms\tremaining: 5.45s\n",
      "124:\tlearn: 0.6419885\ttotal: 776ms\tremaining: 5.43s\n",
      "125:\tlearn: 0.6399729\ttotal: 781ms\tremaining: 5.42s\n",
      "126:\tlearn: 0.6391748\ttotal: 785ms\tremaining: 5.4s\n",
      "127:\tlearn: 0.6369784\ttotal: 790ms\tremaining: 5.38s\n",
      "128:\tlearn: 0.6357621\ttotal: 794ms\tremaining: 5.36s\n",
      "129:\tlearn: 0.6342849\ttotal: 798ms\tremaining: 5.34s\n",
      "130:\tlearn: 0.6324124\ttotal: 803ms\tremaining: 5.33s\n",
      "131:\tlearn: 0.6319966\ttotal: 807ms\tremaining: 5.31s\n",
      "132:\tlearn: 0.6292567\ttotal: 812ms\tremaining: 5.29s\n",
      "133:\tlearn: 0.6268497\ttotal: 816ms\tremaining: 5.27s\n",
      "134:\tlearn: 0.6255582\ttotal: 820ms\tremaining: 5.26s\n",
      "135:\tlearn: 0.6242835\ttotal: 824ms\tremaining: 5.24s\n",
      "136:\tlearn: 0.6217012\ttotal: 829ms\tremaining: 5.22s\n",
      "137:\tlearn: 0.6199161\ttotal: 833ms\tremaining: 5.2s\n",
      "138:\tlearn: 0.6186634\ttotal: 837ms\tremaining: 5.18s\n",
      "139:\tlearn: 0.6154183\ttotal: 842ms\tremaining: 5.17s\n",
      "140:\tlearn: 0.6130317\ttotal: 846ms\tremaining: 5.15s\n",
      "141:\tlearn: 0.6116823\ttotal: 851ms\tremaining: 5.14s\n",
      "142:\tlearn: 0.6099538\ttotal: 855ms\tremaining: 5.13s\n",
      "143:\tlearn: 0.6080494\ttotal: 860ms\tremaining: 5.11s\n",
      "144:\tlearn: 0.6064529\ttotal: 864ms\tremaining: 5.09s\n",
      "145:\tlearn: 0.6044296\ttotal: 868ms\tremaining: 5.08s\n",
      "146:\tlearn: 0.6024661\ttotal: 873ms\tremaining: 5.06s\n",
      "147:\tlearn: 0.6020882\ttotal: 877ms\tremaining: 5.05s\n",
      "148:\tlearn: 0.6008747\ttotal: 881ms\tremaining: 5.03s\n",
      "149:\tlearn: 0.5983165\ttotal: 886ms\tremaining: 5.02s\n",
      "150:\tlearn: 0.5960527\ttotal: 890ms\tremaining: 5.01s\n",
      "151:\tlearn: 0.5944646\ttotal: 894ms\tremaining: 4.99s\n",
      "152:\tlearn: 0.5922961\ttotal: 900ms\tremaining: 4.98s\n",
      "153:\tlearn: 0.5901194\ttotal: 905ms\tremaining: 4.97s\n",
      "154:\tlearn: 0.5879282\ttotal: 910ms\tremaining: 4.96s\n",
      "155:\tlearn: 0.5854668\ttotal: 914ms\tremaining: 4.95s\n",
      "156:\tlearn: 0.5833475\ttotal: 919ms\tremaining: 4.93s\n",
      "157:\tlearn: 0.5818058\ttotal: 923ms\tremaining: 4.92s\n",
      "158:\tlearn: 0.5800510\ttotal: 928ms\tremaining: 4.91s\n",
      "159:\tlearn: 0.5784600\ttotal: 932ms\tremaining: 4.89s\n",
      "160:\tlearn: 0.5775929\ttotal: 937ms\tremaining: 4.88s\n",
      "161:\tlearn: 0.5760805\ttotal: 942ms\tremaining: 4.87s\n",
      "162:\tlearn: 0.5744805\ttotal: 947ms\tremaining: 4.86s\n",
      "163:\tlearn: 0.5727455\ttotal: 953ms\tremaining: 4.86s\n",
      "164:\tlearn: 0.5714622\ttotal: 958ms\tremaining: 4.85s\n",
      "165:\tlearn: 0.5693628\ttotal: 963ms\tremaining: 4.84s\n",
      "166:\tlearn: 0.5671080\ttotal: 967ms\tremaining: 4.82s\n",
      "167:\tlearn: 0.5664593\ttotal: 972ms\tremaining: 4.81s\n",
      "168:\tlearn: 0.5643975\ttotal: 976ms\tremaining: 4.8s\n",
      "169:\tlearn: 0.5617352\ttotal: 980ms\tremaining: 4.79s\n",
      "170:\tlearn: 0.5610608\ttotal: 984ms\tremaining: 4.77s\n",
      "171:\tlearn: 0.5602803\ttotal: 989ms\tremaining: 4.76s\n",
      "172:\tlearn: 0.5587527\ttotal: 993ms\tremaining: 4.75s\n",
      "173:\tlearn: 0.5573644\ttotal: 997ms\tremaining: 4.73s\n",
      "174:\tlearn: 0.5563948\ttotal: 1s\tremaining: 4.72s\n",
      "175:\tlearn: 0.5543645\ttotal: 1.01s\tremaining: 4.71s\n",
      "176:\tlearn: 0.5521202\ttotal: 1.01s\tremaining: 4.7s\n",
      "177:\tlearn: 0.5500271\ttotal: 1.01s\tremaining: 4.69s\n",
      "178:\tlearn: 0.5479416\ttotal: 1.02s\tremaining: 4.68s\n",
      "179:\tlearn: 0.5462858\ttotal: 1.02s\tremaining: 4.67s\n",
      "180:\tlearn: 0.5443959\ttotal: 1.03s\tremaining: 4.66s\n",
      "181:\tlearn: 0.5432186\ttotal: 1.03s\tremaining: 4.64s\n",
      "182:\tlearn: 0.5418315\ttotal: 1.04s\tremaining: 4.63s\n",
      "183:\tlearn: 0.5408706\ttotal: 1.04s\tremaining: 4.62s\n",
      "184:\tlearn: 0.5399196\ttotal: 1.05s\tremaining: 4.61s\n",
      "185:\tlearn: 0.5395666\ttotal: 1.05s\tremaining: 4.6s\n",
      "186:\tlearn: 0.5384059\ttotal: 1.05s\tremaining: 4.58s\n",
      "187:\tlearn: 0.5372702\ttotal: 1.06s\tremaining: 4.57s\n",
      "188:\tlearn: 0.5350696\ttotal: 1.06s\tremaining: 4.56s\n",
      "189:\tlearn: 0.5340932\ttotal: 1.07s\tremaining: 4.56s\n",
      "190:\tlearn: 0.5327539\ttotal: 1.07s\tremaining: 4.55s\n"
     ]
    },
    {
     "name": "stdout",
     "output_type": "stream",
     "text": [
      "191:\tlearn: 0.5316327\ttotal: 1.08s\tremaining: 4.54s\n",
      "192:\tlearn: 0.5297513\ttotal: 1.08s\tremaining: 4.54s\n",
      "193:\tlearn: 0.5287926\ttotal: 1.09s\tremaining: 4.53s\n",
      "194:\tlearn: 0.5259548\ttotal: 1.1s\tremaining: 4.52s\n",
      "195:\tlearn: 0.5245623\ttotal: 1.1s\tremaining: 4.51s\n",
      "196:\tlearn: 0.5241189\ttotal: 1.1s\tremaining: 4.5s\n",
      "197:\tlearn: 0.5229480\ttotal: 1.11s\tremaining: 4.5s\n",
      "198:\tlearn: 0.5214192\ttotal: 1.12s\tremaining: 4.5s\n",
      "199:\tlearn: 0.5184657\ttotal: 1.12s\tremaining: 4.49s\n",
      "200:\tlearn: 0.5168862\ttotal: 1.13s\tremaining: 4.48s\n",
      "201:\tlearn: 0.5157872\ttotal: 1.13s\tremaining: 4.47s\n",
      "202:\tlearn: 0.5142630\ttotal: 1.14s\tremaining: 4.46s\n",
      "203:\tlearn: 0.5126169\ttotal: 1.14s\tremaining: 4.45s\n",
      "204:\tlearn: 0.5113069\ttotal: 1.14s\tremaining: 4.44s\n",
      "205:\tlearn: 0.5098814\ttotal: 1.15s\tremaining: 4.43s\n",
      "206:\tlearn: 0.5082470\ttotal: 1.15s\tremaining: 4.42s\n",
      "207:\tlearn: 0.5067897\ttotal: 1.16s\tremaining: 4.41s\n",
      "208:\tlearn: 0.5064064\ttotal: 1.16s\tremaining: 4.4s\n",
      "209:\tlearn: 0.5051038\ttotal: 1.17s\tremaining: 4.39s\n",
      "210:\tlearn: 0.5039899\ttotal: 1.17s\tremaining: 4.38s\n",
      "211:\tlearn: 0.5030779\ttotal: 1.18s\tremaining: 4.37s\n",
      "212:\tlearn: 0.5016070\ttotal: 1.18s\tremaining: 4.36s\n",
      "213:\tlearn: 0.5002755\ttotal: 1.19s\tremaining: 4.36s\n",
      "214:\tlearn: 0.4993864\ttotal: 1.19s\tremaining: 4.35s\n",
      "215:\tlearn: 0.4979340\ttotal: 1.19s\tremaining: 4.34s\n",
      "216:\tlearn: 0.4967150\ttotal: 1.2s\tremaining: 4.33s\n",
      "217:\tlearn: 0.4958308\ttotal: 1.2s\tremaining: 4.32s\n",
      "218:\tlearn: 0.4947025\ttotal: 1.21s\tremaining: 4.31s\n",
      "219:\tlearn: 0.4941144\ttotal: 1.21s\tremaining: 4.3s\n",
      "220:\tlearn: 0.4930352\ttotal: 1.22s\tremaining: 4.29s\n",
      "221:\tlearn: 0.4918592\ttotal: 1.22s\tremaining: 4.28s\n",
      "222:\tlearn: 0.4908624\ttotal: 1.22s\tremaining: 4.27s\n",
      "223:\tlearn: 0.4897308\ttotal: 1.23s\tremaining: 4.26s\n",
      "224:\tlearn: 0.4888916\ttotal: 1.23s\tremaining: 4.25s\n",
      "225:\tlearn: 0.4878096\ttotal: 1.24s\tremaining: 4.24s\n",
      "226:\tlearn: 0.4864317\ttotal: 1.24s\tremaining: 4.23s\n",
      "227:\tlearn: 0.4851835\ttotal: 1.25s\tremaining: 4.22s\n",
      "228:\tlearn: 0.4845402\ttotal: 1.25s\tremaining: 4.21s\n",
      "229:\tlearn: 0.4832999\ttotal: 1.26s\tremaining: 4.21s\n",
      "230:\tlearn: 0.4823368\ttotal: 1.26s\tremaining: 4.2s\n",
      "231:\tlearn: 0.4810758\ttotal: 1.27s\tremaining: 4.2s\n",
      "232:\tlearn: 0.4795988\ttotal: 1.27s\tremaining: 4.19s\n",
      "233:\tlearn: 0.4782227\ttotal: 1.28s\tremaining: 4.18s\n",
      "234:\tlearn: 0.4767933\ttotal: 1.28s\tremaining: 4.17s\n",
      "235:\tlearn: 0.4760478\ttotal: 1.29s\tremaining: 4.17s\n",
      "236:\tlearn: 0.4754496\ttotal: 1.29s\tremaining: 4.16s\n",
      "237:\tlearn: 0.4741011\ttotal: 1.3s\tremaining: 4.15s\n",
      "238:\tlearn: 0.4729102\ttotal: 1.3s\tremaining: 4.14s\n",
      "239:\tlearn: 0.4720473\ttotal: 1.3s\tremaining: 4.13s\n",
      "240:\tlearn: 0.4712119\ttotal: 1.31s\tremaining: 4.13s\n",
      "241:\tlearn: 0.4699204\ttotal: 1.31s\tremaining: 4.12s\n",
      "242:\tlearn: 0.4680839\ttotal: 1.32s\tremaining: 4.11s\n",
      "243:\tlearn: 0.4677682\ttotal: 1.32s\tremaining: 4.1s\n",
      "244:\tlearn: 0.4665661\ttotal: 1.33s\tremaining: 4.09s\n",
      "245:\tlearn: 0.4659722\ttotal: 1.33s\tremaining: 4.08s\n",
      "246:\tlearn: 0.4648512\ttotal: 1.34s\tremaining: 4.08s\n",
      "247:\tlearn: 0.4630206\ttotal: 1.34s\tremaining: 4.07s\n",
      "248:\tlearn: 0.4617213\ttotal: 1.35s\tremaining: 4.06s\n",
      "249:\tlearn: 0.4608399\ttotal: 1.35s\tremaining: 4.05s\n",
      "250:\tlearn: 0.4597061\ttotal: 1.35s\tremaining: 4.04s\n",
      "251:\tlearn: 0.4588676\ttotal: 1.36s\tremaining: 4.04s\n",
      "252:\tlearn: 0.4574990\ttotal: 1.36s\tremaining: 4.03s\n",
      "253:\tlearn: 0.4567787\ttotal: 1.37s\tremaining: 4.02s\n",
      "254:\tlearn: 0.4561841\ttotal: 1.37s\tremaining: 4.01s\n",
      "255:\tlearn: 0.4548364\ttotal: 1.38s\tremaining: 4s\n",
      "256:\tlearn: 0.4546556\ttotal: 1.38s\tremaining: 4s\n",
      "257:\tlearn: 0.4538372\ttotal: 1.39s\tremaining: 3.99s\n",
      "258:\tlearn: 0.4527794\ttotal: 1.39s\tremaining: 3.98s\n",
      "259:\tlearn: 0.4515711\ttotal: 1.4s\tremaining: 3.97s\n",
      "260:\tlearn: 0.4503985\ttotal: 1.4s\tremaining: 3.96s\n",
      "261:\tlearn: 0.4493992\ttotal: 1.4s\tremaining: 3.96s\n",
      "262:\tlearn: 0.4478279\ttotal: 1.41s\tremaining: 3.95s\n",
      "263:\tlearn: 0.4465333\ttotal: 1.41s\tremaining: 3.94s\n",
      "264:\tlearn: 0.4454548\ttotal: 1.42s\tremaining: 3.93s\n",
      "265:\tlearn: 0.4447102\ttotal: 1.42s\tremaining: 3.92s\n",
      "266:\tlearn: 0.4430860\ttotal: 1.43s\tremaining: 3.91s\n",
      "267:\tlearn: 0.4420672\ttotal: 1.43s\tremaining: 3.91s\n",
      "268:\tlearn: 0.4403982\ttotal: 1.44s\tremaining: 3.9s\n",
      "269:\tlearn: 0.4397481\ttotal: 1.44s\tremaining: 3.9s\n",
      "270:\tlearn: 0.4382660\ttotal: 1.45s\tremaining: 3.89s\n",
      "271:\tlearn: 0.4367640\ttotal: 1.45s\tremaining: 3.88s\n",
      "272:\tlearn: 0.4360892\ttotal: 1.46s\tremaining: 3.87s\n",
      "273:\tlearn: 0.4343352\ttotal: 1.46s\tremaining: 3.87s\n",
      "274:\tlearn: 0.4335312\ttotal: 1.46s\tremaining: 3.86s\n",
      "275:\tlearn: 0.4326765\ttotal: 1.47s\tremaining: 3.85s\n",
      "276:\tlearn: 0.4320317\ttotal: 1.47s\tremaining: 3.84s\n",
      "277:\tlearn: 0.4315312\ttotal: 1.48s\tremaining: 3.84s\n",
      "278:\tlearn: 0.4308572\ttotal: 1.48s\tremaining: 3.83s\n",
      "279:\tlearn: 0.4300647\ttotal: 1.49s\tremaining: 3.82s\n",
      "280:\tlearn: 0.4294415\ttotal: 1.49s\tremaining: 3.82s\n",
      "281:\tlearn: 0.4279277\ttotal: 1.5s\tremaining: 3.81s\n",
      "282:\tlearn: 0.4264357\ttotal: 1.5s\tremaining: 3.8s\n",
      "283:\tlearn: 0.4249346\ttotal: 1.5s\tremaining: 3.8s\n",
      "284:\tlearn: 0.4235759\ttotal: 1.51s\tremaining: 3.79s\n",
      "285:\tlearn: 0.4225329\ttotal: 1.51s\tremaining: 3.78s\n",
      "286:\tlearn: 0.4219894\ttotal: 1.52s\tremaining: 3.77s\n",
      "287:\tlearn: 0.4207117\ttotal: 1.52s\tremaining: 3.77s\n",
      "288:\tlearn: 0.4199591\ttotal: 1.53s\tremaining: 3.76s\n",
      "289:\tlearn: 0.4191832\ttotal: 1.53s\tremaining: 3.75s\n",
      "290:\tlearn: 0.4186029\ttotal: 1.54s\tremaining: 3.74s\n",
      "291:\tlearn: 0.4175662\ttotal: 1.54s\tremaining: 3.74s\n",
      "292:\tlearn: 0.4164394\ttotal: 1.54s\tremaining: 3.73s\n",
      "293:\tlearn: 0.4147142\ttotal: 1.55s\tremaining: 3.72s\n",
      "294:\tlearn: 0.4132098\ttotal: 1.55s\tremaining: 3.71s\n",
      "295:\tlearn: 0.4121316\ttotal: 1.56s\tremaining: 3.71s\n",
      "296:\tlearn: 0.4107362\ttotal: 1.56s\tremaining: 3.7s\n",
      "297:\tlearn: 0.4092961\ttotal: 1.57s\tremaining: 3.69s\n",
      "298:\tlearn: 0.4087389\ttotal: 1.57s\tremaining: 3.69s\n",
      "299:\tlearn: 0.4076429\ttotal: 1.58s\tremaining: 3.68s\n",
      "300:\tlearn: 0.4067106\ttotal: 1.58s\tremaining: 3.67s\n",
      "301:\tlearn: 0.4050659\ttotal: 1.58s\tremaining: 3.66s\n",
      "302:\tlearn: 0.4040340\ttotal: 1.59s\tremaining: 3.66s\n",
      "303:\tlearn: 0.4028019\ttotal: 1.59s\tremaining: 3.65s\n",
      "304:\tlearn: 0.4022828\ttotal: 1.6s\tremaining: 3.64s\n",
      "305:\tlearn: 0.4015154\ttotal: 1.6s\tremaining: 3.63s\n",
      "306:\tlearn: 0.4002285\ttotal: 1.61s\tremaining: 3.63s\n",
      "307:\tlearn: 0.3988603\ttotal: 1.61s\tremaining: 3.62s\n",
      "308:\tlearn: 0.3977140\ttotal: 1.62s\tremaining: 3.62s\n",
      "309:\tlearn: 0.3971960\ttotal: 1.62s\tremaining: 3.61s\n",
      "310:\tlearn: 0.3961135\ttotal: 1.63s\tremaining: 3.6s\n",
      "311:\tlearn: 0.3954742\ttotal: 1.63s\tremaining: 3.6s\n",
      "312:\tlearn: 0.3943942\ttotal: 1.64s\tremaining: 3.59s\n",
      "313:\tlearn: 0.3937145\ttotal: 1.64s\tremaining: 3.58s\n",
      "314:\tlearn: 0.3925735\ttotal: 1.65s\tremaining: 3.58s\n",
      "315:\tlearn: 0.3916935\ttotal: 1.65s\tremaining: 3.57s\n",
      "316:\tlearn: 0.3904172\ttotal: 1.66s\tremaining: 3.57s\n",
      "317:\tlearn: 0.3892694\ttotal: 1.66s\tremaining: 3.56s\n",
      "318:\tlearn: 0.3882681\ttotal: 1.67s\tremaining: 3.56s\n",
      "319:\tlearn: 0.3877537\ttotal: 1.67s\tremaining: 3.55s\n",
      "320:\tlearn: 0.3871143\ttotal: 1.68s\tremaining: 3.54s\n",
      "321:\tlearn: 0.3860025\ttotal: 1.68s\tremaining: 3.54s\n",
      "322:\tlearn: 0.3853024\ttotal: 1.68s\tremaining: 3.53s\n",
      "323:\tlearn: 0.3844458\ttotal: 1.69s\tremaining: 3.52s\n",
      "324:\tlearn: 0.3837425\ttotal: 1.69s\tremaining: 3.52s\n",
      "325:\tlearn: 0.3832118\ttotal: 1.7s\tremaining: 3.51s\n",
      "326:\tlearn: 0.3822166\ttotal: 1.7s\tremaining: 3.5s\n",
      "327:\tlearn: 0.3817744\ttotal: 1.71s\tremaining: 3.5s\n",
      "328:\tlearn: 0.3811996\ttotal: 1.71s\tremaining: 3.49s\n",
      "329:\tlearn: 0.3799739\ttotal: 1.71s\tremaining: 3.48s\n",
      "330:\tlearn: 0.3787005\ttotal: 1.72s\tremaining: 3.47s\n",
      "331:\tlearn: 0.3776802\ttotal: 1.72s\tremaining: 3.47s\n",
      "332:\tlearn: 0.3764981\ttotal: 1.73s\tremaining: 3.46s\n",
      "333:\tlearn: 0.3762465\ttotal: 1.73s\tremaining: 3.45s\n",
      "334:\tlearn: 0.3755871\ttotal: 1.74s\tremaining: 3.45s\n",
      "335:\tlearn: 0.3750195\ttotal: 1.74s\tremaining: 3.44s\n",
      "336:\tlearn: 0.3741326\ttotal: 1.75s\tremaining: 3.43s\n",
      "337:\tlearn: 0.3732881\ttotal: 1.75s\tremaining: 3.43s\n",
      "338:\tlearn: 0.3729066\ttotal: 1.75s\tremaining: 3.42s\n",
      "339:\tlearn: 0.3718122\ttotal: 1.76s\tremaining: 3.41s\n",
      "340:\tlearn: 0.3705942\ttotal: 1.76s\tremaining: 3.41s\n",
      "341:\tlearn: 0.3696295\ttotal: 1.77s\tremaining: 3.4s\n",
      "342:\tlearn: 0.3689932\ttotal: 1.77s\tremaining: 3.39s\n",
      "343:\tlearn: 0.3677489\ttotal: 1.78s\tremaining: 3.39s\n",
      "344:\tlearn: 0.3667945\ttotal: 1.78s\tremaining: 3.38s\n",
      "345:\tlearn: 0.3657375\ttotal: 1.78s\tremaining: 3.37s\n",
      "346:\tlearn: 0.3643298\ttotal: 1.79s\tremaining: 3.37s\n",
      "347:\tlearn: 0.3638169\ttotal: 1.79s\tremaining: 3.36s\n",
      "348:\tlearn: 0.3628062\ttotal: 1.8s\tremaining: 3.36s\n",
      "349:\tlearn: 0.3621893\ttotal: 1.8s\tremaining: 3.35s\n",
      "350:\tlearn: 0.3610761\ttotal: 1.81s\tremaining: 3.35s\n",
      "351:\tlearn: 0.3607238\ttotal: 1.81s\tremaining: 3.34s\n",
      "352:\tlearn: 0.3601892\ttotal: 1.82s\tremaining: 3.33s\n"
     ]
    },
    {
     "name": "stdout",
     "output_type": "stream",
     "text": [
      "353:\tlearn: 0.3583833\ttotal: 1.82s\tremaining: 3.33s\n",
      "354:\tlearn: 0.3580136\ttotal: 1.83s\tremaining: 3.32s\n",
      "355:\tlearn: 0.3568874\ttotal: 1.83s\tremaining: 3.31s\n",
      "356:\tlearn: 0.3561993\ttotal: 1.84s\tremaining: 3.31s\n",
      "357:\tlearn: 0.3554350\ttotal: 1.84s\tremaining: 3.3s\n",
      "358:\tlearn: 0.3552833\ttotal: 1.85s\tremaining: 3.3s\n",
      "359:\tlearn: 0.3545763\ttotal: 1.85s\tremaining: 3.29s\n",
      "360:\tlearn: 0.3535523\ttotal: 1.86s\tremaining: 3.29s\n",
      "361:\tlearn: 0.3522806\ttotal: 1.86s\tremaining: 3.28s\n",
      "362:\tlearn: 0.3516142\ttotal: 1.86s\tremaining: 3.27s\n",
      "363:\tlearn: 0.3503594\ttotal: 1.87s\tremaining: 3.27s\n",
      "364:\tlearn: 0.3493692\ttotal: 1.87s\tremaining: 3.26s\n",
      "365:\tlearn: 0.3483116\ttotal: 1.88s\tremaining: 3.25s\n",
      "366:\tlearn: 0.3476436\ttotal: 1.88s\tremaining: 3.25s\n",
      "367:\tlearn: 0.3463208\ttotal: 1.89s\tremaining: 3.24s\n",
      "368:\tlearn: 0.3454823\ttotal: 1.89s\tremaining: 3.23s\n",
      "369:\tlearn: 0.3448912\ttotal: 1.9s\tremaining: 3.23s\n",
      "370:\tlearn: 0.3439679\ttotal: 1.9s\tremaining: 3.22s\n",
      "371:\tlearn: 0.3433998\ttotal: 1.9s\tremaining: 3.21s\n",
      "372:\tlearn: 0.3430201\ttotal: 1.91s\tremaining: 3.21s\n",
      "373:\tlearn: 0.3421963\ttotal: 1.91s\tremaining: 3.2s\n",
      "374:\tlearn: 0.3413260\ttotal: 1.92s\tremaining: 3.19s\n",
      "375:\tlearn: 0.3408601\ttotal: 1.92s\tremaining: 3.19s\n",
      "376:\tlearn: 0.3400126\ttotal: 1.93s\tremaining: 3.18s\n",
      "377:\tlearn: 0.3393162\ttotal: 1.93s\tremaining: 3.17s\n",
      "378:\tlearn: 0.3382920\ttotal: 1.93s\tremaining: 3.17s\n",
      "379:\tlearn: 0.3375768\ttotal: 1.94s\tremaining: 3.16s\n",
      "380:\tlearn: 0.3363715\ttotal: 1.94s\tremaining: 3.16s\n",
      "381:\tlearn: 0.3357250\ttotal: 1.95s\tremaining: 3.15s\n",
      "382:\tlearn: 0.3354465\ttotal: 1.95s\tremaining: 3.14s\n",
      "383:\tlearn: 0.3343251\ttotal: 1.96s\tremaining: 3.14s\n",
      "384:\tlearn: 0.3340447\ttotal: 1.96s\tremaining: 3.13s\n",
      "385:\tlearn: 0.3330137\ttotal: 1.96s\tremaining: 3.12s\n",
      "386:\tlearn: 0.3320857\ttotal: 1.97s\tremaining: 3.12s\n",
      "387:\tlearn: 0.3317088\ttotal: 1.97s\tremaining: 3.11s\n",
      "388:\tlearn: 0.3309897\ttotal: 1.98s\tremaining: 3.11s\n",
      "389:\tlearn: 0.3302694\ttotal: 1.98s\tremaining: 3.1s\n",
      "390:\tlearn: 0.3289466\ttotal: 1.99s\tremaining: 3.1s\n",
      "391:\tlearn: 0.3284304\ttotal: 1.99s\tremaining: 3.09s\n",
      "392:\tlearn: 0.3282040\ttotal: 2s\tremaining: 3.08s\n",
      "393:\tlearn: 0.3274086\ttotal: 2s\tremaining: 3.08s\n",
      "394:\tlearn: 0.3263077\ttotal: 2.01s\tremaining: 3.08s\n",
      "395:\tlearn: 0.3254909\ttotal: 2.01s\tremaining: 3.07s\n",
      "396:\tlearn: 0.3245972\ttotal: 2.02s\tremaining: 3.06s\n",
      "397:\tlearn: 0.3235677\ttotal: 2.02s\tremaining: 3.06s\n",
      "398:\tlearn: 0.3232933\ttotal: 2.02s\tremaining: 3.05s\n",
      "399:\tlearn: 0.3219855\ttotal: 2.03s\tremaining: 3.04s\n",
      "400:\tlearn: 0.3211746\ttotal: 2.03s\tremaining: 3.04s\n",
      "401:\tlearn: 0.3203967\ttotal: 2.04s\tremaining: 3.03s\n",
      "402:\tlearn: 0.3193998\ttotal: 2.04s\tremaining: 3.03s\n",
      "403:\tlearn: 0.3188243\ttotal: 2.05s\tremaining: 3.02s\n",
      "404:\tlearn: 0.3186066\ttotal: 2.05s\tremaining: 3.02s\n",
      "405:\tlearn: 0.3172603\ttotal: 2.06s\tremaining: 3.01s\n",
      "406:\tlearn: 0.3165686\ttotal: 2.06s\tremaining: 3s\n",
      "407:\tlearn: 0.3158531\ttotal: 2.06s\tremaining: 3s\n",
      "408:\tlearn: 0.3152559\ttotal: 2.07s\tremaining: 2.99s\n",
      "409:\tlearn: 0.3142276\ttotal: 2.07s\tremaining: 2.98s\n",
      "410:\tlearn: 0.3130956\ttotal: 2.08s\tremaining: 2.98s\n",
      "411:\tlearn: 0.3124443\ttotal: 2.08s\tremaining: 2.97s\n",
      "412:\tlearn: 0.3117874\ttotal: 2.09s\tremaining: 2.97s\n",
      "413:\tlearn: 0.3112112\ttotal: 2.09s\tremaining: 2.96s\n",
      "414:\tlearn: 0.3103392\ttotal: 2.1s\tremaining: 2.95s\n",
      "415:\tlearn: 0.3096321\ttotal: 2.1s\tremaining: 2.95s\n",
      "416:\tlearn: 0.3088556\ttotal: 2.1s\tremaining: 2.94s\n",
      "417:\tlearn: 0.3081978\ttotal: 2.11s\tremaining: 2.94s\n",
      "418:\tlearn: 0.3073341\ttotal: 2.11s\tremaining: 2.93s\n",
      "419:\tlearn: 0.3067090\ttotal: 2.12s\tremaining: 2.92s\n",
      "420:\tlearn: 0.3057428\ttotal: 2.12s\tremaining: 2.92s\n",
      "421:\tlearn: 0.3051791\ttotal: 2.13s\tremaining: 2.91s\n",
      "422:\tlearn: 0.3047093\ttotal: 2.13s\tremaining: 2.91s\n",
      "423:\tlearn: 0.3038227\ttotal: 2.13s\tremaining: 2.9s\n",
      "424:\tlearn: 0.3031057\ttotal: 2.14s\tremaining: 2.9s\n",
      "425:\tlearn: 0.3026175\ttotal: 2.14s\tremaining: 2.89s\n",
      "426:\tlearn: 0.3021128\ttotal: 2.15s\tremaining: 2.88s\n",
      "427:\tlearn: 0.3013014\ttotal: 2.15s\tremaining: 2.88s\n",
      "428:\tlearn: 0.3008541\ttotal: 2.16s\tremaining: 2.87s\n",
      "429:\tlearn: 0.3001414\ttotal: 2.16s\tremaining: 2.87s\n",
      "430:\tlearn: 0.2993968\ttotal: 2.17s\tremaining: 2.86s\n",
      "431:\tlearn: 0.2991744\ttotal: 2.17s\tremaining: 2.85s\n",
      "432:\tlearn: 0.2985963\ttotal: 2.18s\tremaining: 2.85s\n",
      "433:\tlearn: 0.2976874\ttotal: 2.18s\tremaining: 2.84s\n",
      "434:\tlearn: 0.2971333\ttotal: 2.19s\tremaining: 2.84s\n",
      "435:\tlearn: 0.2966743\ttotal: 2.19s\tremaining: 2.83s\n",
      "436:\tlearn: 0.2962043\ttotal: 2.2s\tremaining: 2.83s\n",
      "437:\tlearn: 0.2957326\ttotal: 2.2s\tremaining: 2.82s\n",
      "438:\tlearn: 0.2949210\ttotal: 2.21s\tremaining: 2.82s\n",
      "439:\tlearn: 0.2944036\ttotal: 2.21s\tremaining: 2.81s\n",
      "440:\tlearn: 0.2940195\ttotal: 2.21s\tremaining: 2.81s\n",
      "441:\tlearn: 0.2931201\ttotal: 2.22s\tremaining: 2.8s\n",
      "442:\tlearn: 0.2924702\ttotal: 2.22s\tremaining: 2.79s\n",
      "443:\tlearn: 0.2920482\ttotal: 2.23s\tremaining: 2.79s\n",
      "444:\tlearn: 0.2912879\ttotal: 2.23s\tremaining: 2.78s\n",
      "445:\tlearn: 0.2909584\ttotal: 2.24s\tremaining: 2.78s\n",
      "446:\tlearn: 0.2903203\ttotal: 2.24s\tremaining: 2.77s\n",
      "447:\tlearn: 0.2900262\ttotal: 2.24s\tremaining: 2.77s\n",
      "448:\tlearn: 0.2891862\ttotal: 2.25s\tremaining: 2.76s\n",
      "449:\tlearn: 0.2889569\ttotal: 2.25s\tremaining: 2.75s\n",
      "450:\tlearn: 0.2883958\ttotal: 2.26s\tremaining: 2.75s\n",
      "451:\tlearn: 0.2879773\ttotal: 2.26s\tremaining: 2.74s\n",
      "452:\tlearn: 0.2876063\ttotal: 2.27s\tremaining: 2.74s\n",
      "453:\tlearn: 0.2870656\ttotal: 2.27s\tremaining: 2.73s\n",
      "454:\tlearn: 0.2864205\ttotal: 2.27s\tremaining: 2.73s\n",
      "455:\tlearn: 0.2856162\ttotal: 2.28s\tremaining: 2.72s\n",
      "456:\tlearn: 0.2850373\ttotal: 2.28s\tremaining: 2.71s\n",
      "457:\tlearn: 0.2845688\ttotal: 2.29s\tremaining: 2.71s\n",
      "458:\tlearn: 0.2840522\ttotal: 2.29s\tremaining: 2.7s\n",
      "459:\tlearn: 0.2834611\ttotal: 2.3s\tremaining: 2.7s\n",
      "460:\tlearn: 0.2830472\ttotal: 2.3s\tremaining: 2.69s\n",
      "461:\tlearn: 0.2824094\ttotal: 2.31s\tremaining: 2.69s\n",
      "462:\tlearn: 0.2817169\ttotal: 2.31s\tremaining: 2.68s\n",
      "463:\tlearn: 0.2812775\ttotal: 2.31s\tremaining: 2.67s\n",
      "464:\tlearn: 0.2804555\ttotal: 2.32s\tremaining: 2.67s\n",
      "465:\tlearn: 0.2796997\ttotal: 2.32s\tremaining: 2.66s\n",
      "466:\tlearn: 0.2789929\ttotal: 2.33s\tremaining: 2.65s\n",
      "467:\tlearn: 0.2788239\ttotal: 2.33s\tremaining: 2.65s\n",
      "468:\tlearn: 0.2782998\ttotal: 2.34s\tremaining: 2.65s\n",
      "469:\tlearn: 0.2775694\ttotal: 2.34s\tremaining: 2.64s\n",
      "470:\tlearn: 0.2765572\ttotal: 2.35s\tremaining: 2.63s\n",
      "471:\tlearn: 0.2759618\ttotal: 2.35s\tremaining: 2.63s\n",
      "472:\tlearn: 0.2753296\ttotal: 2.35s\tremaining: 2.62s\n",
      "473:\tlearn: 0.2745973\ttotal: 2.36s\tremaining: 2.62s\n",
      "474:\tlearn: 0.2738638\ttotal: 2.37s\tremaining: 2.61s\n",
      "475:\tlearn: 0.2730603\ttotal: 2.37s\tremaining: 2.61s\n",
      "476:\tlearn: 0.2723244\ttotal: 2.37s\tremaining: 2.6s\n",
      "477:\tlearn: 0.2714369\ttotal: 2.38s\tremaining: 2.6s\n",
      "478:\tlearn: 0.2711106\ttotal: 2.38s\tremaining: 2.59s\n",
      "479:\tlearn: 0.2704302\ttotal: 2.39s\tremaining: 2.59s\n",
      "480:\tlearn: 0.2695853\ttotal: 2.39s\tremaining: 2.58s\n",
      "481:\tlearn: 0.2687527\ttotal: 2.4s\tremaining: 2.58s\n",
      "482:\tlearn: 0.2683827\ttotal: 2.4s\tremaining: 2.57s\n",
      "483:\tlearn: 0.2679894\ttotal: 2.41s\tremaining: 2.57s\n",
      "484:\tlearn: 0.2670689\ttotal: 2.41s\tremaining: 2.56s\n",
      "485:\tlearn: 0.2663617\ttotal: 2.42s\tremaining: 2.56s\n",
      "486:\tlearn: 0.2659644\ttotal: 2.42s\tremaining: 2.55s\n",
      "487:\tlearn: 0.2656852\ttotal: 2.42s\tremaining: 2.54s\n",
      "488:\tlearn: 0.2652841\ttotal: 2.43s\tremaining: 2.54s\n",
      "489:\tlearn: 0.2644908\ttotal: 2.43s\tremaining: 2.53s\n",
      "490:\tlearn: 0.2641617\ttotal: 2.44s\tremaining: 2.53s\n",
      "491:\tlearn: 0.2637406\ttotal: 2.44s\tremaining: 2.52s\n",
      "492:\tlearn: 0.2630065\ttotal: 2.45s\tremaining: 2.52s\n",
      "493:\tlearn: 0.2623881\ttotal: 2.45s\tremaining: 2.51s\n",
      "494:\tlearn: 0.2620164\ttotal: 2.46s\tremaining: 2.5s\n",
      "495:\tlearn: 0.2615371\ttotal: 2.46s\tremaining: 2.5s\n",
      "496:\tlearn: 0.2611049\ttotal: 2.46s\tremaining: 2.49s\n",
      "497:\tlearn: 0.2605807\ttotal: 2.47s\tremaining: 2.49s\n",
      "498:\tlearn: 0.2600321\ttotal: 2.47s\tremaining: 2.48s\n",
      "499:\tlearn: 0.2593748\ttotal: 2.48s\tremaining: 2.48s\n",
      "500:\tlearn: 0.2586065\ttotal: 2.48s\tremaining: 2.47s\n",
      "501:\tlearn: 0.2582862\ttotal: 2.48s\tremaining: 2.46s\n",
      "502:\tlearn: 0.2577384\ttotal: 2.49s\tremaining: 2.46s\n",
      "503:\tlearn: 0.2574375\ttotal: 2.49s\tremaining: 2.45s\n",
      "504:\tlearn: 0.2569738\ttotal: 2.5s\tremaining: 2.45s\n",
      "505:\tlearn: 0.2567337\ttotal: 2.5s\tremaining: 2.44s\n",
      "506:\tlearn: 0.2563215\ttotal: 2.51s\tremaining: 2.44s\n",
      "507:\tlearn: 0.2560919\ttotal: 2.51s\tremaining: 2.43s\n",
      "508:\tlearn: 0.2554083\ttotal: 2.52s\tremaining: 2.43s\n",
      "509:\tlearn: 0.2548676\ttotal: 2.52s\tremaining: 2.42s\n",
      "510:\tlearn: 0.2544785\ttotal: 2.52s\tremaining: 2.42s\n",
      "511:\tlearn: 0.2539140\ttotal: 2.53s\tremaining: 2.41s\n",
      "512:\tlearn: 0.2532321\ttotal: 2.54s\tremaining: 2.41s\n",
      "513:\tlearn: 0.2526131\ttotal: 2.54s\tremaining: 2.4s\n"
     ]
    },
    {
     "name": "stdout",
     "output_type": "stream",
     "text": [
      "514:\tlearn: 0.2518179\ttotal: 2.54s\tremaining: 2.4s\n",
      "515:\tlearn: 0.2511344\ttotal: 2.55s\tremaining: 2.39s\n",
      "516:\tlearn: 0.2503380\ttotal: 2.55s\tremaining: 2.39s\n",
      "517:\tlearn: 0.2499262\ttotal: 2.56s\tremaining: 2.38s\n",
      "518:\tlearn: 0.2494148\ttotal: 2.56s\tremaining: 2.38s\n",
      "519:\tlearn: 0.2490673\ttotal: 2.57s\tremaining: 2.37s\n",
      "520:\tlearn: 0.2485979\ttotal: 2.57s\tremaining: 2.37s\n",
      "521:\tlearn: 0.2481412\ttotal: 2.58s\tremaining: 2.36s\n",
      "522:\tlearn: 0.2479068\ttotal: 2.58s\tremaining: 2.35s\n",
      "523:\tlearn: 0.2471959\ttotal: 2.59s\tremaining: 2.35s\n",
      "524:\tlearn: 0.2470440\ttotal: 2.59s\tremaining: 2.34s\n",
      "525:\tlearn: 0.2464228\ttotal: 2.59s\tremaining: 2.34s\n",
      "526:\tlearn: 0.2456899\ttotal: 2.6s\tremaining: 2.33s\n",
      "527:\tlearn: 0.2451874\ttotal: 2.6s\tremaining: 2.33s\n",
      "528:\tlearn: 0.2446545\ttotal: 2.61s\tremaining: 2.32s\n",
      "529:\tlearn: 0.2443099\ttotal: 2.61s\tremaining: 2.32s\n",
      "530:\tlearn: 0.2441306\ttotal: 2.62s\tremaining: 2.31s\n",
      "531:\tlearn: 0.2439250\ttotal: 2.62s\tremaining: 2.31s\n",
      "532:\tlearn: 0.2434642\ttotal: 2.63s\tremaining: 2.3s\n",
      "533:\tlearn: 0.2431831\ttotal: 2.63s\tremaining: 2.29s\n",
      "534:\tlearn: 0.2426735\ttotal: 2.63s\tremaining: 2.29s\n",
      "535:\tlearn: 0.2425255\ttotal: 2.64s\tremaining: 2.28s\n",
      "536:\tlearn: 0.2419968\ttotal: 2.64s\tremaining: 2.28s\n",
      "537:\tlearn: 0.2413127\ttotal: 2.65s\tremaining: 2.27s\n",
      "538:\tlearn: 0.2408459\ttotal: 2.65s\tremaining: 2.27s\n",
      "539:\tlearn: 0.2402696\ttotal: 2.66s\tremaining: 2.26s\n",
      "540:\tlearn: 0.2398398\ttotal: 2.66s\tremaining: 2.26s\n",
      "541:\tlearn: 0.2395131\ttotal: 2.67s\tremaining: 2.25s\n",
      "542:\tlearn: 0.2391143\ttotal: 2.67s\tremaining: 2.25s\n",
      "543:\tlearn: 0.2385545\ttotal: 2.67s\tremaining: 2.24s\n",
      "544:\tlearn: 0.2379670\ttotal: 2.68s\tremaining: 2.24s\n",
      "545:\tlearn: 0.2374003\ttotal: 2.68s\tremaining: 2.23s\n",
      "546:\tlearn: 0.2372132\ttotal: 2.69s\tremaining: 2.23s\n",
      "547:\tlearn: 0.2368544\ttotal: 2.69s\tremaining: 2.22s\n",
      "548:\tlearn: 0.2365704\ttotal: 2.7s\tremaining: 2.22s\n",
      "549:\tlearn: 0.2360558\ttotal: 2.7s\tremaining: 2.21s\n",
      "550:\tlearn: 0.2354525\ttotal: 2.71s\tremaining: 2.21s\n",
      "551:\tlearn: 0.2352132\ttotal: 2.71s\tremaining: 2.2s\n",
      "552:\tlearn: 0.2350531\ttotal: 2.72s\tremaining: 2.2s\n",
      "553:\tlearn: 0.2347031\ttotal: 2.72s\tremaining: 2.19s\n",
      "554:\tlearn: 0.2341969\ttotal: 2.73s\tremaining: 2.19s\n",
      "555:\tlearn: 0.2336712\ttotal: 2.73s\tremaining: 2.18s\n",
      "556:\tlearn: 0.2332079\ttotal: 2.74s\tremaining: 2.18s\n",
      "557:\tlearn: 0.2326980\ttotal: 2.74s\tremaining: 2.17s\n",
      "558:\tlearn: 0.2322390\ttotal: 2.75s\tremaining: 2.17s\n",
      "559:\tlearn: 0.2317118\ttotal: 2.75s\tremaining: 2.16s\n",
      "560:\tlearn: 0.2309698\ttotal: 2.75s\tremaining: 2.15s\n",
      "561:\tlearn: 0.2306641\ttotal: 2.76s\tremaining: 2.15s\n",
      "562:\tlearn: 0.2303903\ttotal: 2.76s\tremaining: 2.15s\n",
      "563:\tlearn: 0.2302122\ttotal: 2.77s\tremaining: 2.14s\n",
      "564:\tlearn: 0.2294646\ttotal: 2.77s\tremaining: 2.13s\n",
      "565:\tlearn: 0.2288987\ttotal: 2.78s\tremaining: 2.13s\n",
      "566:\tlearn: 0.2284260\ttotal: 2.78s\tremaining: 2.12s\n",
      "567:\tlearn: 0.2279056\ttotal: 2.79s\tremaining: 2.12s\n",
      "568:\tlearn: 0.2274932\ttotal: 2.79s\tremaining: 2.11s\n",
      "569:\tlearn: 0.2269014\ttotal: 2.79s\tremaining: 2.11s\n",
      "570:\tlearn: 0.2263792\ttotal: 2.8s\tremaining: 2.1s\n",
      "571:\tlearn: 0.2257735\ttotal: 2.8s\tremaining: 2.1s\n",
      "572:\tlearn: 0.2252665\ttotal: 2.81s\tremaining: 2.09s\n",
      "573:\tlearn: 0.2251930\ttotal: 2.81s\tremaining: 2.09s\n",
      "574:\tlearn: 0.2249503\ttotal: 2.82s\tremaining: 2.08s\n",
      "575:\tlearn: 0.2243108\ttotal: 2.82s\tremaining: 2.08s\n",
      "576:\tlearn: 0.2240150\ttotal: 2.83s\tremaining: 2.07s\n",
      "577:\tlearn: 0.2236984\ttotal: 2.83s\tremaining: 2.07s\n",
      "578:\tlearn: 0.2231449\ttotal: 2.83s\tremaining: 2.06s\n",
      "579:\tlearn: 0.2228013\ttotal: 2.84s\tremaining: 2.06s\n",
      "580:\tlearn: 0.2225084\ttotal: 2.84s\tremaining: 2.05s\n",
      "581:\tlearn: 0.2222000\ttotal: 2.85s\tremaining: 2.04s\n",
      "582:\tlearn: 0.2218578\ttotal: 2.85s\tremaining: 2.04s\n",
      "583:\tlearn: 0.2214115\ttotal: 2.86s\tremaining: 2.04s\n",
      "584:\tlearn: 0.2208656\ttotal: 2.87s\tremaining: 2.03s\n",
      "585:\tlearn: 0.2205405\ttotal: 2.87s\tremaining: 2.03s\n",
      "586:\tlearn: 0.2199202\ttotal: 2.88s\tremaining: 2.02s\n",
      "587:\tlearn: 0.2194142\ttotal: 2.88s\tremaining: 2.02s\n",
      "588:\tlearn: 0.2188655\ttotal: 2.89s\tremaining: 2.02s\n",
      "589:\tlearn: 0.2187041\ttotal: 2.9s\tremaining: 2.01s\n",
      "590:\tlearn: 0.2184265\ttotal: 2.9s\tremaining: 2.01s\n",
      "591:\tlearn: 0.2180394\ttotal: 2.91s\tremaining: 2s\n",
      "592:\tlearn: 0.2177529\ttotal: 2.91s\tremaining: 2s\n",
      "593:\tlearn: 0.2173464\ttotal: 2.92s\tremaining: 2s\n",
      "594:\tlearn: 0.2170122\ttotal: 2.92s\tremaining: 1.99s\n",
      "595:\tlearn: 0.2167978\ttotal: 2.93s\tremaining: 1.99s\n",
      "596:\tlearn: 0.2162964\ttotal: 2.94s\tremaining: 1.98s\n",
      "597:\tlearn: 0.2158684\ttotal: 2.94s\tremaining: 1.98s\n",
      "598:\tlearn: 0.2155870\ttotal: 2.94s\tremaining: 1.97s\n",
      "599:\tlearn: 0.2149882\ttotal: 2.95s\tremaining: 1.97s\n",
      "600:\tlearn: 0.2147352\ttotal: 2.96s\tremaining: 1.96s\n",
      "601:\tlearn: 0.2140047\ttotal: 2.96s\tremaining: 1.96s\n",
      "602:\tlearn: 0.2137419\ttotal: 2.97s\tremaining: 1.95s\n",
      "603:\tlearn: 0.2131037\ttotal: 2.97s\tremaining: 1.95s\n",
      "604:\tlearn: 0.2129318\ttotal: 2.98s\tremaining: 1.94s\n",
      "605:\tlearn: 0.2126607\ttotal: 2.98s\tremaining: 1.94s\n",
      "606:\tlearn: 0.2125450\ttotal: 2.98s\tremaining: 1.93s\n",
      "607:\tlearn: 0.2120418\ttotal: 2.99s\tremaining: 1.93s\n",
      "608:\tlearn: 0.2115628\ttotal: 2.99s\tremaining: 1.92s\n",
      "609:\tlearn: 0.2114673\ttotal: 3s\tremaining: 1.92s\n",
      "610:\tlearn: 0.2109658\ttotal: 3s\tremaining: 1.91s\n",
      "611:\tlearn: 0.2106119\ttotal: 3.01s\tremaining: 1.91s\n",
      "612:\tlearn: 0.2104162\ttotal: 3.01s\tremaining: 1.9s\n",
      "613:\tlearn: 0.2099537\ttotal: 3.02s\tremaining: 1.9s\n",
      "614:\tlearn: 0.2096756\ttotal: 3.02s\tremaining: 1.89s\n",
      "615:\tlearn: 0.2094292\ttotal: 3.02s\tremaining: 1.89s\n",
      "616:\tlearn: 0.2089625\ttotal: 3.03s\tremaining: 1.88s\n",
      "617:\tlearn: 0.2086452\ttotal: 3.03s\tremaining: 1.87s\n",
      "618:\tlearn: 0.2082958\ttotal: 3.04s\tremaining: 1.87s\n",
      "619:\tlearn: 0.2075934\ttotal: 3.04s\tremaining: 1.86s\n",
      "620:\tlearn: 0.2073118\ttotal: 3.05s\tremaining: 1.86s\n",
      "621:\tlearn: 0.2068856\ttotal: 3.05s\tremaining: 1.85s\n",
      "622:\tlearn: 0.2065358\ttotal: 3.06s\tremaining: 1.85s\n",
      "623:\tlearn: 0.2060698\ttotal: 3.06s\tremaining: 1.84s\n",
      "624:\tlearn: 0.2056043\ttotal: 3.07s\tremaining: 1.84s\n",
      "625:\tlearn: 0.2051711\ttotal: 3.07s\tremaining: 1.83s\n",
      "626:\tlearn: 0.2046507\ttotal: 3.08s\tremaining: 1.83s\n",
      "627:\tlearn: 0.2042850\ttotal: 3.08s\tremaining: 1.82s\n",
      "628:\tlearn: 0.2037199\ttotal: 3.09s\tremaining: 1.82s\n",
      "629:\tlearn: 0.2035489\ttotal: 3.09s\tremaining: 1.81s\n",
      "630:\tlearn: 0.2029442\ttotal: 3.1s\tremaining: 1.81s\n",
      "631:\tlearn: 0.2027220\ttotal: 3.1s\tremaining: 1.8s\n",
      "632:\tlearn: 0.2023275\ttotal: 3.1s\tremaining: 1.8s\n",
      "633:\tlearn: 0.2020226\ttotal: 3.11s\tremaining: 1.79s\n",
      "634:\tlearn: 0.2017518\ttotal: 3.11s\tremaining: 1.79s\n",
      "635:\tlearn: 0.2015826\ttotal: 3.12s\tremaining: 1.78s\n",
      "636:\tlearn: 0.2012561\ttotal: 3.12s\tremaining: 1.78s\n",
      "637:\tlearn: 0.2008903\ttotal: 3.13s\tremaining: 1.77s\n",
      "638:\tlearn: 0.2006083\ttotal: 3.13s\tremaining: 1.77s\n",
      "639:\tlearn: 0.2005174\ttotal: 3.13s\tremaining: 1.76s\n",
      "640:\tlearn: 0.2002248\ttotal: 3.14s\tremaining: 1.76s\n",
      "641:\tlearn: 0.1999937\ttotal: 3.15s\tremaining: 1.75s\n",
      "642:\tlearn: 0.1997120\ttotal: 3.15s\tremaining: 1.75s\n",
      "643:\tlearn: 0.1990912\ttotal: 3.15s\tremaining: 1.74s\n",
      "644:\tlearn: 0.1986659\ttotal: 3.16s\tremaining: 1.74s\n",
      "645:\tlearn: 0.1983514\ttotal: 3.16s\tremaining: 1.73s\n",
      "646:\tlearn: 0.1977793\ttotal: 3.17s\tremaining: 1.73s\n",
      "647:\tlearn: 0.1973708\ttotal: 3.17s\tremaining: 1.72s\n",
      "648:\tlearn: 0.1969253\ttotal: 3.17s\tremaining: 1.72s\n",
      "649:\tlearn: 0.1965495\ttotal: 3.18s\tremaining: 1.71s\n",
      "650:\tlearn: 0.1962327\ttotal: 3.18s\tremaining: 1.71s\n",
      "651:\tlearn: 0.1958401\ttotal: 3.19s\tremaining: 1.7s\n",
      "652:\tlearn: 0.1953130\ttotal: 3.19s\tremaining: 1.7s\n",
      "653:\tlearn: 0.1951380\ttotal: 3.2s\tremaining: 1.69s\n",
      "654:\tlearn: 0.1946526\ttotal: 3.2s\tremaining: 1.69s\n",
      "655:\tlearn: 0.1943012\ttotal: 3.21s\tremaining: 1.68s\n",
      "656:\tlearn: 0.1939171\ttotal: 3.21s\tremaining: 1.68s\n",
      "657:\tlearn: 0.1933328\ttotal: 3.21s\tremaining: 1.67s\n",
      "658:\tlearn: 0.1927994\ttotal: 3.22s\tremaining: 1.67s\n",
      "659:\tlearn: 0.1925150\ttotal: 3.22s\tremaining: 1.66s\n",
      "660:\tlearn: 0.1919044\ttotal: 3.23s\tremaining: 1.66s\n",
      "661:\tlearn: 0.1914440\ttotal: 3.23s\tremaining: 1.65s\n",
      "662:\tlearn: 0.1911191\ttotal: 3.24s\tremaining: 1.65s\n",
      "663:\tlearn: 0.1908056\ttotal: 3.24s\tremaining: 1.64s\n",
      "664:\tlearn: 0.1904497\ttotal: 3.25s\tremaining: 1.64s\n",
      "665:\tlearn: 0.1900976\ttotal: 3.25s\tremaining: 1.63s\n",
      "666:\tlearn: 0.1895954\ttotal: 3.26s\tremaining: 1.63s\n",
      "667:\tlearn: 0.1889739\ttotal: 3.26s\tremaining: 1.62s\n",
      "668:\tlearn: 0.1886565\ttotal: 3.27s\tremaining: 1.62s\n",
      "669:\tlearn: 0.1883338\ttotal: 3.27s\tremaining: 1.61s\n",
      "670:\tlearn: 0.1878435\ttotal: 3.28s\tremaining: 1.61s\n",
      "671:\tlearn: 0.1877002\ttotal: 3.28s\tremaining: 1.6s\n",
      "672:\tlearn: 0.1872594\ttotal: 3.29s\tremaining: 1.6s\n",
      "673:\tlearn: 0.1870917\ttotal: 3.29s\tremaining: 1.59s\n",
      "674:\tlearn: 0.1868028\ttotal: 3.29s\tremaining: 1.59s\n",
      "675:\tlearn: 0.1865724\ttotal: 3.3s\tremaining: 1.58s\n",
      "676:\tlearn: 0.1861478\ttotal: 3.3s\tremaining: 1.58s\n",
      "677:\tlearn: 0.1857691\ttotal: 3.31s\tremaining: 1.57s\n",
      "678:\tlearn: 0.1854269\ttotal: 3.31s\tremaining: 1.56s\n",
      "679:\tlearn: 0.1850532\ttotal: 3.32s\tremaining: 1.56s\n",
      "680:\tlearn: 0.1847519\ttotal: 3.32s\tremaining: 1.55s\n",
      "681:\tlearn: 0.1843865\ttotal: 3.33s\tremaining: 1.55s\n",
      "682:\tlearn: 0.1840822\ttotal: 3.33s\tremaining: 1.54s\n",
      "683:\tlearn: 0.1837777\ttotal: 3.33s\tremaining: 1.54s\n",
      "684:\tlearn: 0.1831723\ttotal: 3.34s\tremaining: 1.53s\n",
      "685:\tlearn: 0.1828992\ttotal: 3.34s\tremaining: 1.53s\n",
      "686:\tlearn: 0.1824957\ttotal: 3.35s\tremaining: 1.52s\n",
      "687:\tlearn: 0.1823955\ttotal: 3.35s\tremaining: 1.52s\n",
      "688:\tlearn: 0.1822490\ttotal: 3.36s\tremaining: 1.51s\n",
      "689:\tlearn: 0.1820494\ttotal: 3.36s\tremaining: 1.51s\n",
      "690:\tlearn: 0.1817019\ttotal: 3.37s\tremaining: 1.5s\n",
      "691:\tlearn: 0.1813938\ttotal: 3.37s\tremaining: 1.5s\n",
      "692:\tlearn: 0.1810595\ttotal: 3.37s\tremaining: 1.49s\n",
      "693:\tlearn: 0.1807977\ttotal: 3.38s\tremaining: 1.49s\n",
      "694:\tlearn: 0.1803315\ttotal: 3.38s\tremaining: 1.48s\n",
      "695:\tlearn: 0.1801400\ttotal: 3.39s\tremaining: 1.48s\n",
      "696:\tlearn: 0.1798576\ttotal: 3.39s\tremaining: 1.47s\n",
      "697:\tlearn: 0.1794947\ttotal: 3.4s\tremaining: 1.47s\n",
      "698:\tlearn: 0.1791879\ttotal: 3.4s\tremaining: 1.46s\n",
      "699:\tlearn: 0.1787589\ttotal: 3.41s\tremaining: 1.46s\n"
     ]
    },
    {
     "name": "stdout",
     "output_type": "stream",
     "text": [
      "700:\tlearn: 0.1783511\ttotal: 3.41s\tremaining: 1.46s\n",
      "701:\tlearn: 0.1780632\ttotal: 3.42s\tremaining: 1.45s\n",
      "702:\tlearn: 0.1778046\ttotal: 3.42s\tremaining: 1.45s\n",
      "703:\tlearn: 0.1775649\ttotal: 3.43s\tremaining: 1.44s\n",
      "704:\tlearn: 0.1772018\ttotal: 3.43s\tremaining: 1.44s\n",
      "705:\tlearn: 0.1770133\ttotal: 3.44s\tremaining: 1.43s\n",
      "706:\tlearn: 0.1766065\ttotal: 3.44s\tremaining: 1.43s\n",
      "707:\tlearn: 0.1762964\ttotal: 3.44s\tremaining: 1.42s\n",
      "708:\tlearn: 0.1760093\ttotal: 3.45s\tremaining: 1.42s\n",
      "709:\tlearn: 0.1756913\ttotal: 3.45s\tremaining: 1.41s\n",
      "710:\tlearn: 0.1751432\ttotal: 3.46s\tremaining: 1.41s\n",
      "711:\tlearn: 0.1748635\ttotal: 3.46s\tremaining: 1.4s\n",
      "712:\tlearn: 0.1745025\ttotal: 3.47s\tremaining: 1.4s\n",
      "713:\tlearn: 0.1740332\ttotal: 3.47s\tremaining: 1.39s\n",
      "714:\tlearn: 0.1736355\ttotal: 3.48s\tremaining: 1.39s\n",
      "715:\tlearn: 0.1733481\ttotal: 3.48s\tremaining: 1.38s\n",
      "716:\tlearn: 0.1729407\ttotal: 3.48s\tremaining: 1.38s\n",
      "717:\tlearn: 0.1726689\ttotal: 3.49s\tremaining: 1.37s\n",
      "718:\tlearn: 0.1725504\ttotal: 3.49s\tremaining: 1.36s\n",
      "719:\tlearn: 0.1723092\ttotal: 3.5s\tremaining: 1.36s\n",
      "720:\tlearn: 0.1719949\ttotal: 3.5s\tremaining: 1.35s\n",
      "721:\tlearn: 0.1717658\ttotal: 3.51s\tremaining: 1.35s\n",
      "722:\tlearn: 0.1715906\ttotal: 3.51s\tremaining: 1.34s\n",
      "723:\tlearn: 0.1710299\ttotal: 3.52s\tremaining: 1.34s\n",
      "724:\tlearn: 0.1707574\ttotal: 3.52s\tremaining: 1.33s\n",
      "725:\tlearn: 0.1704452\ttotal: 3.52s\tremaining: 1.33s\n",
      "726:\tlearn: 0.1700028\ttotal: 3.53s\tremaining: 1.32s\n",
      "727:\tlearn: 0.1696229\ttotal: 3.53s\tremaining: 1.32s\n",
      "728:\tlearn: 0.1693985\ttotal: 3.54s\tremaining: 1.31s\n",
      "729:\tlearn: 0.1690952\ttotal: 3.54s\tremaining: 1.31s\n",
      "730:\tlearn: 0.1688379\ttotal: 3.55s\tremaining: 1.3s\n",
      "731:\tlearn: 0.1686735\ttotal: 3.55s\tremaining: 1.3s\n",
      "732:\tlearn: 0.1682053\ttotal: 3.56s\tremaining: 1.29s\n",
      "733:\tlearn: 0.1679420\ttotal: 3.56s\tremaining: 1.29s\n",
      "734:\tlearn: 0.1678169\ttotal: 3.56s\tremaining: 1.28s\n",
      "735:\tlearn: 0.1675784\ttotal: 3.57s\tremaining: 1.28s\n",
      "736:\tlearn: 0.1672107\ttotal: 3.57s\tremaining: 1.27s\n",
      "737:\tlearn: 0.1668139\ttotal: 3.58s\tremaining: 1.27s\n",
      "738:\tlearn: 0.1663879\ttotal: 3.58s\tremaining: 1.27s\n",
      "739:\tlearn: 0.1660209\ttotal: 3.59s\tremaining: 1.26s\n",
      "740:\tlearn: 0.1657221\ttotal: 3.6s\tremaining: 1.26s\n",
      "741:\tlearn: 0.1654100\ttotal: 3.6s\tremaining: 1.25s\n",
      "742:\tlearn: 0.1652353\ttotal: 3.6s\tremaining: 1.25s\n",
      "743:\tlearn: 0.1649672\ttotal: 3.61s\tremaining: 1.24s\n",
      "744:\tlearn: 0.1646232\ttotal: 3.61s\tremaining: 1.24s\n",
      "745:\tlearn: 0.1643520\ttotal: 3.62s\tremaining: 1.23s\n",
      "746:\tlearn: 0.1640518\ttotal: 3.62s\tremaining: 1.23s\n",
      "747:\tlearn: 0.1638738\ttotal: 3.63s\tremaining: 1.22s\n",
      "748:\tlearn: 0.1636276\ttotal: 3.64s\tremaining: 1.22s\n",
      "749:\tlearn: 0.1634860\ttotal: 3.65s\tremaining: 1.22s\n",
      "750:\tlearn: 0.1632475\ttotal: 3.65s\tremaining: 1.21s\n",
      "751:\tlearn: 0.1629517\ttotal: 3.65s\tremaining: 1.21s\n",
      "752:\tlearn: 0.1627191\ttotal: 3.66s\tremaining: 1.2s\n",
      "753:\tlearn: 0.1624791\ttotal: 3.66s\tremaining: 1.2s\n",
      "754:\tlearn: 0.1622362\ttotal: 3.67s\tremaining: 1.19s\n",
      "755:\tlearn: 0.1620156\ttotal: 3.67s\tremaining: 1.19s\n",
      "756:\tlearn: 0.1616207\ttotal: 3.68s\tremaining: 1.18s\n",
      "757:\tlearn: 0.1613886\ttotal: 3.68s\tremaining: 1.18s\n",
      "758:\tlearn: 0.1611048\ttotal: 3.69s\tremaining: 1.17s\n",
      "759:\tlearn: 0.1608937\ttotal: 3.69s\tremaining: 1.17s\n",
      "760:\tlearn: 0.1604375\ttotal: 3.69s\tremaining: 1.16s\n",
      "761:\tlearn: 0.1600826\ttotal: 3.7s\tremaining: 1.16s\n",
      "762:\tlearn: 0.1597498\ttotal: 3.7s\tremaining: 1.15s\n",
      "763:\tlearn: 0.1595482\ttotal: 3.71s\tremaining: 1.15s\n",
      "764:\tlearn: 0.1593590\ttotal: 3.71s\tremaining: 1.14s\n",
      "765:\tlearn: 0.1591393\ttotal: 3.72s\tremaining: 1.14s\n",
      "766:\tlearn: 0.1588422\ttotal: 3.72s\tremaining: 1.13s\n",
      "767:\tlearn: 0.1585925\ttotal: 3.73s\tremaining: 1.13s\n",
      "768:\tlearn: 0.1584164\ttotal: 3.73s\tremaining: 1.12s\n",
      "769:\tlearn: 0.1580155\ttotal: 3.73s\tremaining: 1.11s\n",
      "770:\tlearn: 0.1577354\ttotal: 3.74s\tremaining: 1.11s\n",
      "771:\tlearn: 0.1576061\ttotal: 3.74s\tremaining: 1.1s\n",
      "772:\tlearn: 0.1573099\ttotal: 3.75s\tremaining: 1.1s\n",
      "773:\tlearn: 0.1570399\ttotal: 3.75s\tremaining: 1.09s\n",
      "774:\tlearn: 0.1570056\ttotal: 3.75s\tremaining: 1.09s\n",
      "775:\tlearn: 0.1568093\ttotal: 3.76s\tremaining: 1.08s\n",
      "776:\tlearn: 0.1565634\ttotal: 3.76s\tremaining: 1.08s\n",
      "777:\tlearn: 0.1563593\ttotal: 3.77s\tremaining: 1.07s\n",
      "778:\tlearn: 0.1560407\ttotal: 3.77s\tremaining: 1.07s\n",
      "779:\tlearn: 0.1558382\ttotal: 3.78s\tremaining: 1.07s\n",
      "780:\tlearn: 0.1555254\ttotal: 3.79s\tremaining: 1.06s\n",
      "781:\tlearn: 0.1552052\ttotal: 3.79s\tremaining: 1.06s\n",
      "782:\tlearn: 0.1551549\ttotal: 3.79s\tremaining: 1.05s\n",
      "783:\tlearn: 0.1548319\ttotal: 3.8s\tremaining: 1.05s\n",
      "784:\tlearn: 0.1544855\ttotal: 3.8s\tremaining: 1.04s\n",
      "785:\tlearn: 0.1541975\ttotal: 3.81s\tremaining: 1.04s\n",
      "786:\tlearn: 0.1539426\ttotal: 3.81s\tremaining: 1.03s\n",
      "787:\tlearn: 0.1536351\ttotal: 3.82s\tremaining: 1.03s\n",
      "788:\tlearn: 0.1532891\ttotal: 3.82s\tremaining: 1.02s\n",
      "789:\tlearn: 0.1530133\ttotal: 3.83s\tremaining: 1.02s\n",
      "790:\tlearn: 0.1527135\ttotal: 3.83s\tremaining: 1.01s\n",
      "791:\tlearn: 0.1524103\ttotal: 3.84s\tremaining: 1.01s\n",
      "792:\tlearn: 0.1521505\ttotal: 3.84s\tremaining: 1s\n",
      "793:\tlearn: 0.1518689\ttotal: 3.85s\tremaining: 998ms\n",
      "794:\tlearn: 0.1514739\ttotal: 3.85s\tremaining: 993ms\n",
      "795:\tlearn: 0.1512478\ttotal: 3.85s\tremaining: 988ms\n",
      "796:\tlearn: 0.1511042\ttotal: 3.86s\tremaining: 983ms\n",
      "797:\tlearn: 0.1509529\ttotal: 3.86s\tremaining: 978ms\n",
      "798:\tlearn: 0.1504949\ttotal: 3.87s\tremaining: 973ms\n",
      "799:\tlearn: 0.1503421\ttotal: 3.87s\tremaining: 968ms\n",
      "800:\tlearn: 0.1500767\ttotal: 3.88s\tremaining: 963ms\n",
      "801:\tlearn: 0.1499739\ttotal: 3.88s\tremaining: 958ms\n",
      "802:\tlearn: 0.1499172\ttotal: 3.88s\tremaining: 953ms\n",
      "803:\tlearn: 0.1496741\ttotal: 3.89s\tremaining: 948ms\n",
      "804:\tlearn: 0.1492754\ttotal: 3.89s\tremaining: 943ms\n",
      "805:\tlearn: 0.1489238\ttotal: 3.9s\tremaining: 938ms\n",
      "806:\tlearn: 0.1487241\ttotal: 3.9s\tremaining: 934ms\n",
      "807:\tlearn: 0.1485479\ttotal: 3.91s\tremaining: 929ms\n",
      "808:\tlearn: 0.1481946\ttotal: 3.91s\tremaining: 924ms\n",
      "809:\tlearn: 0.1480160\ttotal: 3.92s\tremaining: 919ms\n",
      "810:\tlearn: 0.1477652\ttotal: 3.92s\tremaining: 914ms\n",
      "811:\tlearn: 0.1475171\ttotal: 3.92s\tremaining: 909ms\n",
      "812:\tlearn: 0.1473604\ttotal: 3.93s\tremaining: 904ms\n",
      "813:\tlearn: 0.1472540\ttotal: 3.93s\tremaining: 899ms\n",
      "814:\tlearn: 0.1468653\ttotal: 3.94s\tremaining: 894ms\n",
      "815:\tlearn: 0.1465436\ttotal: 3.94s\tremaining: 889ms\n",
      "816:\tlearn: 0.1463244\ttotal: 3.95s\tremaining: 884ms\n",
      "817:\tlearn: 0.1461242\ttotal: 3.95s\tremaining: 880ms\n",
      "818:\tlearn: 0.1458628\ttotal: 3.96s\tremaining: 875ms\n",
      "819:\tlearn: 0.1455924\ttotal: 3.96s\tremaining: 870ms\n",
      "820:\tlearn: 0.1453808\ttotal: 3.97s\tremaining: 865ms\n",
      "821:\tlearn: 0.1451616\ttotal: 3.97s\tremaining: 860ms\n",
      "822:\tlearn: 0.1449798\ttotal: 3.98s\tremaining: 856ms\n",
      "823:\tlearn: 0.1447576\ttotal: 3.98s\tremaining: 851ms\n",
      "824:\tlearn: 0.1444095\ttotal: 3.99s\tremaining: 846ms\n",
      "825:\tlearn: 0.1443015\ttotal: 3.99s\tremaining: 841ms\n",
      "826:\tlearn: 0.1441002\ttotal: 4s\tremaining: 836ms\n",
      "827:\tlearn: 0.1437485\ttotal: 4s\tremaining: 831ms\n",
      "828:\tlearn: 0.1435935\ttotal: 4.01s\tremaining: 826ms\n",
      "829:\tlearn: 0.1433090\ttotal: 4.01s\tremaining: 822ms\n",
      "830:\tlearn: 0.1431697\ttotal: 4.01s\tremaining: 817ms\n",
      "831:\tlearn: 0.1430337\ttotal: 4.02s\tremaining: 812ms\n",
      "832:\tlearn: 0.1427699\ttotal: 4.02s\tremaining: 807ms\n",
      "833:\tlearn: 0.1425807\ttotal: 4.03s\tremaining: 802ms\n",
      "834:\tlearn: 0.1424753\ttotal: 4.03s\tremaining: 797ms\n",
      "835:\tlearn: 0.1422799\ttotal: 4.04s\tremaining: 792ms\n",
      "836:\tlearn: 0.1421538\ttotal: 4.04s\tremaining: 787ms\n",
      "837:\tlearn: 0.1419477\ttotal: 4.04s\tremaining: 782ms\n",
      "838:\tlearn: 0.1418057\ttotal: 4.05s\tremaining: 777ms\n",
      "839:\tlearn: 0.1416104\ttotal: 4.05s\tremaining: 772ms\n",
      "840:\tlearn: 0.1414128\ttotal: 4.06s\tremaining: 767ms\n",
      "841:\tlearn: 0.1411889\ttotal: 4.06s\tremaining: 763ms\n",
      "842:\tlearn: 0.1409607\ttotal: 4.07s\tremaining: 758ms\n",
      "843:\tlearn: 0.1407973\ttotal: 4.07s\tremaining: 753ms\n",
      "844:\tlearn: 0.1406256\ttotal: 4.08s\tremaining: 748ms\n",
      "845:\tlearn: 0.1403093\ttotal: 4.08s\tremaining: 743ms\n",
      "846:\tlearn: 0.1402107\ttotal: 4.09s\tremaining: 738ms\n",
      "847:\tlearn: 0.1400462\ttotal: 4.09s\tremaining: 733ms\n",
      "848:\tlearn: 0.1396397\ttotal: 4.09s\tremaining: 728ms\n",
      "849:\tlearn: 0.1393087\ttotal: 4.1s\tremaining: 724ms\n",
      "850:\tlearn: 0.1391014\ttotal: 4.11s\tremaining: 719ms\n",
      "851:\tlearn: 0.1390309\ttotal: 4.11s\tremaining: 714ms\n",
      "852:\tlearn: 0.1388183\ttotal: 4.12s\tremaining: 710ms\n",
      "853:\tlearn: 0.1386455\ttotal: 4.12s\tremaining: 705ms\n",
      "854:\tlearn: 0.1385536\ttotal: 4.13s\tremaining: 701ms\n",
      "855:\tlearn: 0.1383520\ttotal: 4.14s\tremaining: 696ms\n",
      "856:\tlearn: 0.1381471\ttotal: 4.14s\tremaining: 691ms\n",
      "857:\tlearn: 0.1379171\ttotal: 4.15s\tremaining: 687ms\n",
      "858:\tlearn: 0.1377380\ttotal: 4.15s\tremaining: 682ms\n"
     ]
    },
    {
     "name": "stdout",
     "output_type": "stream",
     "text": [
      "859:\tlearn: 0.1375518\ttotal: 4.16s\tremaining: 677ms\n",
      "860:\tlearn: 0.1372966\ttotal: 4.17s\tremaining: 672ms\n",
      "861:\tlearn: 0.1370236\ttotal: 4.17s\tremaining: 668ms\n",
      "862:\tlearn: 0.1367911\ttotal: 4.17s\tremaining: 663ms\n",
      "863:\tlearn: 0.1364984\ttotal: 4.18s\tremaining: 658ms\n",
      "864:\tlearn: 0.1363166\ttotal: 4.18s\tremaining: 653ms\n",
      "865:\tlearn: 0.1361990\ttotal: 4.19s\tremaining: 648ms\n",
      "866:\tlearn: 0.1358297\ttotal: 4.2s\tremaining: 644ms\n",
      "867:\tlearn: 0.1356639\ttotal: 4.2s\tremaining: 639ms\n",
      "868:\tlearn: 0.1354825\ttotal: 4.2s\tremaining: 634ms\n",
      "869:\tlearn: 0.1353913\ttotal: 4.21s\tremaining: 629ms\n",
      "870:\tlearn: 0.1350493\ttotal: 4.21s\tremaining: 624ms\n",
      "871:\tlearn: 0.1348857\ttotal: 4.22s\tremaining: 619ms\n",
      "872:\tlearn: 0.1346999\ttotal: 4.22s\tremaining: 614ms\n",
      "873:\tlearn: 0.1345479\ttotal: 4.23s\tremaining: 609ms\n",
      "874:\tlearn: 0.1343835\ttotal: 4.23s\tremaining: 605ms\n",
      "875:\tlearn: 0.1341850\ttotal: 4.24s\tremaining: 600ms\n",
      "876:\tlearn: 0.1339842\ttotal: 4.24s\tremaining: 595ms\n",
      "877:\tlearn: 0.1336847\ttotal: 4.25s\tremaining: 590ms\n",
      "878:\tlearn: 0.1334684\ttotal: 4.26s\tremaining: 587ms\n",
      "879:\tlearn: 0.1332538\ttotal: 4.28s\tremaining: 584ms\n",
      "880:\tlearn: 0.1331778\ttotal: 4.29s\tremaining: 580ms\n",
      "881:\tlearn: 0.1330126\ttotal: 4.3s\tremaining: 576ms\n",
      "882:\tlearn: 0.1327546\ttotal: 4.32s\tremaining: 572ms\n",
      "883:\tlearn: 0.1325580\ttotal: 4.33s\tremaining: 568ms\n",
      "884:\tlearn: 0.1323655\ttotal: 4.34s\tremaining: 563ms\n",
      "885:\tlearn: 0.1321672\ttotal: 4.34s\tremaining: 559ms\n",
      "886:\tlearn: 0.1318355\ttotal: 4.34s\tremaining: 554ms\n",
      "887:\tlearn: 0.1317434\ttotal: 4.35s\tremaining: 549ms\n",
      "888:\tlearn: 0.1315858\ttotal: 4.36s\tremaining: 544ms\n",
      "889:\tlearn: 0.1313317\ttotal: 4.36s\tremaining: 539ms\n",
      "890:\tlearn: 0.1311866\ttotal: 4.37s\tremaining: 534ms\n",
      "891:\tlearn: 0.1309626\ttotal: 4.37s\tremaining: 529ms\n",
      "892:\tlearn: 0.1306194\ttotal: 4.38s\tremaining: 524ms\n",
      "893:\tlearn: 0.1303860\ttotal: 4.38s\tremaining: 519ms\n",
      "894:\tlearn: 0.1301050\ttotal: 4.39s\tremaining: 515ms\n",
      "895:\tlearn: 0.1299515\ttotal: 4.39s\tremaining: 510ms\n",
      "896:\tlearn: 0.1297757\ttotal: 4.4s\tremaining: 505ms\n",
      "897:\tlearn: 0.1295829\ttotal: 4.4s\tremaining: 500ms\n",
      "898:\tlearn: 0.1295520\ttotal: 4.41s\tremaining: 495ms\n",
      "899:\tlearn: 0.1294535\ttotal: 4.41s\tremaining: 490ms\n",
      "900:\tlearn: 0.1292312\ttotal: 4.42s\tremaining: 485ms\n",
      "901:\tlearn: 0.1290330\ttotal: 4.42s\tremaining: 480ms\n",
      "902:\tlearn: 0.1287797\ttotal: 4.43s\tremaining: 475ms\n",
      "903:\tlearn: 0.1287312\ttotal: 4.43s\tremaining: 471ms\n",
      "904:\tlearn: 0.1284477\ttotal: 4.44s\tremaining: 466ms\n",
      "905:\tlearn: 0.1281583\ttotal: 4.44s\tremaining: 461ms\n",
      "906:\tlearn: 0.1278755\ttotal: 4.45s\tremaining: 456ms\n",
      "907:\tlearn: 0.1277145\ttotal: 4.45s\tremaining: 451ms\n",
      "908:\tlearn: 0.1275601\ttotal: 4.45s\tremaining: 446ms\n",
      "909:\tlearn: 0.1274088\ttotal: 4.46s\tremaining: 441ms\n",
      "910:\tlearn: 0.1271529\ttotal: 4.46s\tremaining: 436ms\n",
      "911:\tlearn: 0.1268543\ttotal: 4.47s\tremaining: 431ms\n",
      "912:\tlearn: 0.1266401\ttotal: 4.47s\tremaining: 426ms\n",
      "913:\tlearn: 0.1265172\ttotal: 4.48s\tremaining: 421ms\n",
      "914:\tlearn: 0.1263835\ttotal: 4.48s\tremaining: 416ms\n",
      "915:\tlearn: 0.1262316\ttotal: 4.49s\tremaining: 411ms\n",
      "916:\tlearn: 0.1261447\ttotal: 4.49s\tremaining: 406ms\n",
      "917:\tlearn: 0.1258472\ttotal: 4.5s\tremaining: 402ms\n",
      "918:\tlearn: 0.1256797\ttotal: 4.5s\tremaining: 397ms\n",
      "919:\tlearn: 0.1254848\ttotal: 4.51s\tremaining: 392ms\n",
      "920:\tlearn: 0.1253309\ttotal: 4.51s\tremaining: 387ms\n",
      "921:\tlearn: 0.1251545\ttotal: 4.52s\tremaining: 382ms\n",
      "922:\tlearn: 0.1249346\ttotal: 4.52s\tremaining: 377ms\n",
      "923:\tlearn: 0.1248002\ttotal: 4.53s\tremaining: 373ms\n",
      "924:\tlearn: 0.1245599\ttotal: 4.54s\tremaining: 368ms\n",
      "925:\tlearn: 0.1243419\ttotal: 4.54s\tremaining: 363ms\n",
      "926:\tlearn: 0.1242585\ttotal: 4.55s\tremaining: 358ms\n",
      "927:\tlearn: 0.1240609\ttotal: 4.55s\tremaining: 353ms\n",
      "928:\tlearn: 0.1238718\ttotal: 4.55s\tremaining: 348ms\n",
      "929:\tlearn: 0.1236823\ttotal: 4.56s\tremaining: 343ms\n",
      "930:\tlearn: 0.1235332\ttotal: 4.56s\tremaining: 338ms\n",
      "931:\tlearn: 0.1233950\ttotal: 4.57s\tremaining: 333ms\n",
      "932:\tlearn: 0.1232691\ttotal: 4.57s\tremaining: 329ms\n",
      "933:\tlearn: 0.1231359\ttotal: 4.58s\tremaining: 324ms\n",
      "934:\tlearn: 0.1229485\ttotal: 4.58s\tremaining: 319ms\n",
      "935:\tlearn: 0.1227288\ttotal: 4.59s\tremaining: 314ms\n",
      "936:\tlearn: 0.1225783\ttotal: 4.59s\tremaining: 309ms\n",
      "937:\tlearn: 0.1224146\ttotal: 4.6s\tremaining: 304ms\n",
      "938:\tlearn: 0.1222591\ttotal: 4.6s\tremaining: 299ms\n",
      "939:\tlearn: 0.1220559\ttotal: 4.61s\tremaining: 294ms\n",
      "940:\tlearn: 0.1218588\ttotal: 4.61s\tremaining: 289ms\n",
      "941:\tlearn: 0.1217616\ttotal: 4.62s\tremaining: 284ms\n",
      "942:\tlearn: 0.1215950\ttotal: 4.62s\tremaining: 279ms\n",
      "943:\tlearn: 0.1214148\ttotal: 4.63s\tremaining: 274ms\n",
      "944:\tlearn: 0.1213011\ttotal: 4.63s\tremaining: 270ms\n",
      "945:\tlearn: 0.1212073\ttotal: 4.63s\tremaining: 265ms\n",
      "946:\tlearn: 0.1210842\ttotal: 4.64s\tremaining: 260ms\n",
      "947:\tlearn: 0.1209165\ttotal: 4.64s\tremaining: 255ms\n",
      "948:\tlearn: 0.1207149\ttotal: 4.65s\tremaining: 250ms\n",
      "949:\tlearn: 0.1206531\ttotal: 4.66s\tremaining: 245ms\n",
      "950:\tlearn: 0.1204698\ttotal: 4.66s\tremaining: 240ms\n",
      "951:\tlearn: 0.1204154\ttotal: 4.66s\tremaining: 235ms\n",
      "952:\tlearn: 0.1201268\ttotal: 4.67s\tremaining: 230ms\n",
      "953:\tlearn: 0.1198829\ttotal: 4.67s\tremaining: 225ms\n",
      "954:\tlearn: 0.1197258\ttotal: 4.68s\tremaining: 221ms\n",
      "955:\tlearn: 0.1195708\ttotal: 4.68s\tremaining: 216ms\n",
      "956:\tlearn: 0.1193403\ttotal: 4.69s\tremaining: 211ms\n",
      "957:\tlearn: 0.1192234\ttotal: 4.69s\tremaining: 206ms\n",
      "958:\tlearn: 0.1189749\ttotal: 4.7s\tremaining: 201ms\n",
      "959:\tlearn: 0.1188245\ttotal: 4.7s\tremaining: 196ms\n",
      "960:\tlearn: 0.1186216\ttotal: 4.71s\tremaining: 191ms\n",
      "961:\tlearn: 0.1185145\ttotal: 4.71s\tremaining: 186ms\n",
      "962:\tlearn: 0.1183163\ttotal: 4.72s\tremaining: 181ms\n",
      "963:\tlearn: 0.1181975\ttotal: 4.72s\tremaining: 176ms\n",
      "964:\tlearn: 0.1179691\ttotal: 4.72s\tremaining: 171ms\n",
      "965:\tlearn: 0.1178005\ttotal: 4.73s\tremaining: 166ms\n",
      "966:\tlearn: 0.1176644\ttotal: 4.73s\tremaining: 162ms\n",
      "967:\tlearn: 0.1175267\ttotal: 4.74s\tremaining: 157ms\n",
      "968:\tlearn: 0.1174155\ttotal: 4.74s\tremaining: 152ms\n",
      "969:\tlearn: 0.1171814\ttotal: 4.75s\tremaining: 147ms\n",
      "970:\tlearn: 0.1169222\ttotal: 4.75s\tremaining: 142ms\n",
      "971:\tlearn: 0.1166655\ttotal: 4.76s\tremaining: 137ms\n",
      "972:\tlearn: 0.1164932\ttotal: 4.76s\tremaining: 132ms\n",
      "973:\tlearn: 0.1162836\ttotal: 4.77s\tremaining: 127ms\n",
      "974:\tlearn: 0.1161605\ttotal: 4.77s\tremaining: 122ms\n",
      "975:\tlearn: 0.1160665\ttotal: 4.78s\tremaining: 117ms\n",
      "976:\tlearn: 0.1158752\ttotal: 4.78s\tremaining: 113ms\n",
      "977:\tlearn: 0.1157095\ttotal: 4.79s\tremaining: 108ms\n",
      "978:\tlearn: 0.1155485\ttotal: 4.79s\tremaining: 103ms\n",
      "979:\tlearn: 0.1154544\ttotal: 4.8s\tremaining: 97.9ms\n",
      "980:\tlearn: 0.1151902\ttotal: 4.8s\tremaining: 93ms\n",
      "981:\tlearn: 0.1150405\ttotal: 4.81s\tremaining: 88.1ms\n",
      "982:\tlearn: 0.1149123\ttotal: 4.81s\tremaining: 83.2ms\n",
      "983:\tlearn: 0.1146226\ttotal: 4.82s\tremaining: 78.3ms\n",
      "984:\tlearn: 0.1144935\ttotal: 4.82s\tremaining: 73.4ms\n",
      "985:\tlearn: 0.1144030\ttotal: 4.82s\tremaining: 68.5ms\n",
      "986:\tlearn: 0.1142351\ttotal: 4.83s\tremaining: 63.6ms\n",
      "987:\tlearn: 0.1139782\ttotal: 4.83s\tremaining: 58.7ms\n",
      "988:\tlearn: 0.1137535\ttotal: 4.84s\tremaining: 53.8ms\n",
      "989:\tlearn: 0.1136357\ttotal: 4.84s\tremaining: 48.9ms\n",
      "990:\tlearn: 0.1134762\ttotal: 4.85s\tremaining: 44ms\n",
      "991:\tlearn: 0.1132718\ttotal: 4.85s\tremaining: 39.1ms\n",
      "992:\tlearn: 0.1132114\ttotal: 4.86s\tremaining: 34.3ms\n",
      "993:\tlearn: 0.1131039\ttotal: 4.86s\tremaining: 29.4ms\n",
      "994:\tlearn: 0.1128946\ttotal: 4.87s\tremaining: 24.5ms\n",
      "995:\tlearn: 0.1127292\ttotal: 4.87s\tremaining: 19.6ms\n",
      "996:\tlearn: 0.1126217\ttotal: 4.88s\tremaining: 14.7ms\n",
      "997:\tlearn: 0.1125371\ttotal: 4.88s\tremaining: 9.78ms\n",
      "998:\tlearn: 0.1123251\ttotal: 4.89s\tremaining: 4.89ms\n",
      "999:\tlearn: 0.1121452\ttotal: 4.89s\tremaining: 0us\n"
     ]
    },
    {
     "data": {
      "text/plain": [
       "<catboost.core.CatBoostClassifier at 0x1c71e905610>"
      ]
     },
     "execution_count": 38,
     "metadata": {},
     "output_type": "execute_result"
    }
   ],
   "source": [
    "from catboost import CatBoostClassifier\n",
    "\n",
    "cat = CatBoostClassifier()\n",
    "cat.fit(X_train, y_train)"
   ]
  },
  {
   "cell_type": "code",
   "execution_count": 39,
   "id": "34df4cdc",
   "metadata": {},
   "outputs": [
    {
     "name": "stdout",
     "output_type": "stream",
     "text": [
      "Training Accuracy of Decision Tree Classifier is 1.0\n",
      "Test Accuracy of Decision Tree Classifier is 0.66 \n",
      "\n"
     ]
    }
   ],
   "source": [
    "cat_acc = accuracy_score(y_test, cat.predict(X_test))\n",
    "\n",
    "print(f\"Training Accuracy of Decision Tree Classifier is {accuracy_score(y_train, cat.predict(X_train))}\")\n",
    "print(f\"Test Accuracy of Decision Tree Classifier is {cat_acc} \\n\")"
   ]
  },
  {
   "cell_type": "code",
   "execution_count": 40,
   "id": "b7ed920a",
   "metadata": {},
   "outputs": [
    {
     "name": "stdout",
     "output_type": "stream",
     "text": [
      "Training Accuracy of Decision Tree Classifier is 1.0\n",
      "Test Accuracy of Decision Tree Classifier is 0.66 \n",
      "\n"
     ]
    }
   ],
   "source": [
    "cat_acc = accuracy_score(y_test, cat.predict(X_test))\n",
    "\n",
    "print(f\"Training Accuracy of Decision Tree Classifier is {accuracy_score(y_train, cat.predict(X_train))}\")\n",
    "print(f\"Test Accuracy of Decision Tree Classifier is {cat_acc} \\n\")"
   ]
  },
  {
   "cell_type": "markdown",
   "id": "d4ef76c4",
   "metadata": {},
   "source": [
    "# Extra Trees Classifier"
   ]
  },
  {
   "cell_type": "code",
   "execution_count": 41,
   "id": "f54b7bf6",
   "metadata": {},
   "outputs": [
    {
     "data": {
      "text/plain": [
       "ExtraTreesClassifier()"
      ]
     },
     "execution_count": 41,
     "metadata": {},
     "output_type": "execute_result"
    }
   ],
   "source": [
    "from sklearn.ensemble import ExtraTreesClassifier\n",
    "\n",
    "etc = ExtraTreesClassifier()\n",
    "etc.fit(X_train, y_train)"
   ]
  },
  {
   "cell_type": "code",
   "execution_count": 42,
   "id": "984adcb4",
   "metadata": {},
   "outputs": [
    {
     "name": "stdout",
     "output_type": "stream",
     "text": [
      "Training Accuracy of Decision Tree Classifier is 1.0\n",
      "Test Accuracy of Decision Tree Classifier is 0.6875 \n",
      "\n"
     ]
    }
   ],
   "source": [
    "etc_acc = accuracy_score(y_test, etc.predict(X_test))\n",
    "\n",
    "print(f\"Training Accuracy of Decision Tree Classifier is {accuracy_score(y_train, etc.predict(X_train))}\")\n",
    "print(f\"Test Accuracy of Decision Tree Classifier is {etc_acc} \\n\")"
   ]
  },
  {
   "cell_type": "code",
   "execution_count": 43,
   "id": "967a0d18",
   "metadata": {},
   "outputs": [
    {
     "data": {
      "text/html": [
       "<div>\n",
       "<style scoped>\n",
       "    .dataframe tbody tr th:only-of-type {\n",
       "        vertical-align: middle;\n",
       "    }\n",
       "\n",
       "    .dataframe tbody tr th {\n",
       "        vertical-align: top;\n",
       "    }\n",
       "\n",
       "    .dataframe thead th {\n",
       "        text-align: right;\n",
       "    }\n",
       "</style>\n",
       "<table border=\"1\" class=\"dataframe\">\n",
       "  <thead>\n",
       "    <tr style=\"text-align: right;\">\n",
       "      <th></th>\n",
       "      <th>Model</th>\n",
       "      <th>Score</th>\n",
       "    </tr>\n",
       "  </thead>\n",
       "  <tbody>\n",
       "    <tr>\n",
       "      <th>12</th>\n",
       "      <td>Extra Tree</td>\n",
       "      <td>0.6875</td>\n",
       "    </tr>\n",
       "    <tr>\n",
       "      <th>10</th>\n",
       "      <td>LGBM</td>\n",
       "      <td>0.6850</td>\n",
       "    </tr>\n",
       "    <tr>\n",
       "      <th>5</th>\n",
       "      <td>Random Forest</td>\n",
       "      <td>0.6800</td>\n",
       "    </tr>\n",
       "    <tr>\n",
       "      <th>9</th>\n",
       "      <td>XgBoost</td>\n",
       "      <td>0.6725</td>\n",
       "    </tr>\n",
       "    <tr>\n",
       "      <th>11</th>\n",
       "      <td>Cat Boost</td>\n",
       "      <td>0.6600</td>\n",
       "    </tr>\n",
       "    <tr>\n",
       "      <th>7</th>\n",
       "      <td>Gradient Boosting</td>\n",
       "      <td>0.6550</td>\n",
       "    </tr>\n",
       "    <tr>\n",
       "      <th>2</th>\n",
       "      <td>SVC</td>\n",
       "      <td>0.6325</td>\n",
       "    </tr>\n",
       "    <tr>\n",
       "      <th>8</th>\n",
       "      <td>SGB</td>\n",
       "      <td>0.6275</td>\n",
       "    </tr>\n",
       "    <tr>\n",
       "      <th>0</th>\n",
       "      <td>Logistic Regression</td>\n",
       "      <td>0.5975</td>\n",
       "    </tr>\n",
       "    <tr>\n",
       "      <th>3</th>\n",
       "      <td>SGD</td>\n",
       "      <td>0.5900</td>\n",
       "    </tr>\n",
       "    <tr>\n",
       "      <th>4</th>\n",
       "      <td>Decision Tree</td>\n",
       "      <td>0.5825</td>\n",
       "    </tr>\n",
       "    <tr>\n",
       "      <th>1</th>\n",
       "      <td>KNN</td>\n",
       "      <td>0.5725</td>\n",
       "    </tr>\n",
       "    <tr>\n",
       "      <th>6</th>\n",
       "      <td>Ada Boost</td>\n",
       "      <td>0.5650</td>\n",
       "    </tr>\n",
       "  </tbody>\n",
       "</table>\n",
       "</div>"
      ],
      "text/plain": [
       "                  Model   Score\n",
       "12           Extra Tree  0.6875\n",
       "10                 LGBM  0.6850\n",
       "5         Random Forest  0.6800\n",
       "9               XgBoost  0.6725\n",
       "11            Cat Boost  0.6600\n",
       "7     Gradient Boosting  0.6550\n",
       "2                   SVC  0.6325\n",
       "8                   SGB  0.6275\n",
       "0   Logistic Regression  0.5975\n",
       "3                   SGD  0.5900\n",
       "4         Decision Tree  0.5825\n",
       "1                   KNN  0.5725\n",
       "6             Ada Boost  0.5650"
      ]
     },
     "execution_count": 43,
     "metadata": {},
     "output_type": "execute_result"
    }
   ],
   "source": [
    "models = pd.DataFrame({\n",
    "    'Model' : ['Logistic Regression', 'KNN', 'SVC', 'SGD',  'Decision Tree', 'Random Forest','Ada Boost',\n",
    "             'Gradient Boosting', 'SGB', 'XgBoost', 'LGBM', 'Cat Boost', 'Extra Tree'],\n",
    "    'Score' : [lr_acc, knn_acc, svc_acc, sgd_acc, dtc_acc, rf_acc, ada_acc, gb_acc, sgb_acc, xgb_acc, lgbm_acc, cat_acc, etc_acc]\n",
    "})\n",
    "\n",
    "\n",
    "models.sort_values(by = 'Score', ascending = False)"
   ]
  },
  {
   "cell_type": "code",
   "execution_count": 44,
   "id": "27205cb0",
   "metadata": {},
   "outputs": [
    {
     "data": {
      "image/png": "[encoded data removed]",
      "text/plain": [
       "<Figure size 1440x576 with 1 Axes>"
      ]
     },
     "metadata": {
      "needs_background": "light"
     },
     "output_type": "display_data"
    }
   ],
   "source": [
    "plt.figure(figsize = (20, 8))\n",
    "\n",
    "sns.barplot(x = 'Model', y = 'Score', data = models)\n",
    "plt.ylim(0.45, 0.75)\n",
    "plt.show()"
   ]
  },
  {
   "cell_type": "markdown",
   "id": "13794bfd",
   "metadata": {},
   "source": [
    "<center><h1>The End</h1></center>"
   ]
  }
 ],
 "metadata": {
  "kernelspec": {
   "display_name": "Python 3",
   "language": "python",
   "name": "python3"
  },
  "language_info": {
   "codemirror_mode": {
    "name": "ipython",
    "version": 3
   },
   "file_extension": ".py",
   "mimetype": "text/x-python",
   "name": "python",
   "nbconvert_exporter": "python",
   "pygments_lexer": "ipython3",
   "version": "3.9.5"
  }
 },
 "nbformat": 4,
 "nbformat_minor": 5
}
