{
 "cells": [
  {
   "cell_type": "markdown",
   "metadata": {},
   "source": [
    "<h1><center><b>Chronic Kidney Disease Prediction using Machine Learning Algorithms</b></center></h1>"
   ]
  },
  {
   "cell_type": "markdown",
   "metadata": {},
   "source": [
    "### Importing Packages & Modules"
   ]
  },
  {
   "cell_type": "code",
   "execution_count": 1,
   "metadata": {},
   "outputs": [],
   "source": [
    "import pandas as pd\n",
    "import numpy as np\n",
    "import matplotlib.pyplot as plt\n",
    "import scikitplot as skplt\n",
    "import seaborn as sns\n",
    "import matplotlib\n",
    "from sklearn import preprocessing\n",
    "import sklearn\n",
    "from sklearn.model_selection import train_test_split\n",
    "from sklearn.linear_model import LogisticRegression\n",
    "from sklearn.neighbors import KNeighborsClassifier\n",
    "from sklearn.ensemble import RandomForestClassifier\n",
    "from sklearn.naive_bayes import GaussianNB\n",
    "from sklearn.tree import DecisionTreeClassifier\n",
    "\n",
    "from sklearn.metrics import classification_report\n",
    "from sklearn.metrics import jaccard_score"
   ]
  },
  {
   "cell_type": "code",
   "execution_count": 2,
   "metadata": {
    "scrolled": false
   },
   "outputs": [
    {
     "name": "stdout",
     "output_type": "stream",
     "text": [
      "numpy: 1.19.2\n",
      "matplotlib: 3.3.2\n",
      "pandas: 1.1.3\n",
      "sklearn: 0.23.2\n"
     ]
    }
   ],
   "source": [
    "\n",
    "print('numpy: {}'.format(np.__version__))\n",
    "print('matplotlib: {}'.format(matplotlib.__version__))\n",
    "print('pandas: {}'.format(pd.__version__))\n",
    "print('sklearn: {}'.format(sklearn.__version__))"
   ]
  },
  {
   "cell_type": "markdown",
   "metadata": {},
   "source": [
    "### Load Dataset"
   ]
  },
  {
   "cell_type": "code",
   "execution_count": 3,
   "metadata": {},
   "outputs": [
    {
     "data": {
      "text/html": [
       "<div>\n",
       "<style scoped>\n",
       "    .dataframe tbody tr th:only-of-type {\n",
       "        vertical-align: middle;\n",
       "    }\n",
       "\n",
       "    .dataframe tbody tr th {\n",
       "        vertical-align: top;\n",
       "    }\n",
       "\n",
       "    .dataframe thead th {\n",
       "        text-align: right;\n",
       "    }\n",
       "</style>\n",
       "<table border=\"1\" class=\"dataframe\">\n",
       "  <thead>\n",
       "    <tr style=\"text-align: right;\">\n",
       "      <th></th>\n",
       "      <th>age</th>\n",
       "      <th>bp</th>\n",
       "      <th>sg</th>\n",
       "      <th>al</th>\n",
       "      <th>su</th>\n",
       "      <th>rbc</th>\n",
       "      <th>pc</th>\n",
       "      <th>pcc</th>\n",
       "      <th>ba</th>\n",
       "      <th>bgr</th>\n",
       "      <th>...</th>\n",
       "      <th>pcv</th>\n",
       "      <th>wc</th>\n",
       "      <th>rc</th>\n",
       "      <th>htn</th>\n",
       "      <th>dm</th>\n",
       "      <th>cad</th>\n",
       "      <th>appet</th>\n",
       "      <th>pe</th>\n",
       "      <th>ane</th>\n",
       "      <th>classification</th>\n",
       "    </tr>\n",
       "  </thead>\n",
       "  <tbody>\n",
       "    <tr>\n",
       "      <th>0</th>\n",
       "      <td>48.0</td>\n",
       "      <td>80.0</td>\n",
       "      <td>1.020</td>\n",
       "      <td>1.0</td>\n",
       "      <td>0.0</td>\n",
       "      <td>NaN</td>\n",
       "      <td>normal</td>\n",
       "      <td>notpresent</td>\n",
       "      <td>notpresent</td>\n",
       "      <td>121.0</td>\n",
       "      <td>...</td>\n",
       "      <td>44.0</td>\n",
       "      <td>7800.000000</td>\n",
       "      <td>5.200000</td>\n",
       "      <td>yes</td>\n",
       "      <td>yes</td>\n",
       "      <td>no</td>\n",
       "      <td>good</td>\n",
       "      <td>no</td>\n",
       "      <td>no</td>\n",
       "      <td>ckd</td>\n",
       "    </tr>\n",
       "    <tr>\n",
       "      <th>1</th>\n",
       "      <td>7.0</td>\n",
       "      <td>50.0</td>\n",
       "      <td>1.020</td>\n",
       "      <td>4.0</td>\n",
       "      <td>0.0</td>\n",
       "      <td>NaN</td>\n",
       "      <td>normal</td>\n",
       "      <td>notpresent</td>\n",
       "      <td>notpresent</td>\n",
       "      <td>NaN</td>\n",
       "      <td>...</td>\n",
       "      <td>38.0</td>\n",
       "      <td>6000.000000</td>\n",
       "      <td>5.200000</td>\n",
       "      <td>no</td>\n",
       "      <td>no</td>\n",
       "      <td>no</td>\n",
       "      <td>good</td>\n",
       "      <td>no</td>\n",
       "      <td>no</td>\n",
       "      <td>ckd</td>\n",
       "    </tr>\n",
       "    <tr>\n",
       "      <th>2</th>\n",
       "      <td>62.0</td>\n",
       "      <td>80.0</td>\n",
       "      <td>1.010</td>\n",
       "      <td>2.0</td>\n",
       "      <td>3.0</td>\n",
       "      <td>normal</td>\n",
       "      <td>normal</td>\n",
       "      <td>notpresent</td>\n",
       "      <td>notpresent</td>\n",
       "      <td>423.0</td>\n",
       "      <td>...</td>\n",
       "      <td>31.0</td>\n",
       "      <td>7500.000000</td>\n",
       "      <td>3.800000</td>\n",
       "      <td>no</td>\n",
       "      <td>yes</td>\n",
       "      <td>no</td>\n",
       "      <td>poor</td>\n",
       "      <td>no</td>\n",
       "      <td>yes</td>\n",
       "      <td>ckd</td>\n",
       "    </tr>\n",
       "    <tr>\n",
       "      <th>3</th>\n",
       "      <td>48.0</td>\n",
       "      <td>70.0</td>\n",
       "      <td>1.005</td>\n",
       "      <td>4.0</td>\n",
       "      <td>0.0</td>\n",
       "      <td>normal</td>\n",
       "      <td>abnormal</td>\n",
       "      <td>present</td>\n",
       "      <td>notpresent</td>\n",
       "      <td>117.0</td>\n",
       "      <td>...</td>\n",
       "      <td>32.0</td>\n",
       "      <td>6700.000000</td>\n",
       "      <td>3.900000</td>\n",
       "      <td>yes</td>\n",
       "      <td>no</td>\n",
       "      <td>no</td>\n",
       "      <td>poor</td>\n",
       "      <td>yes</td>\n",
       "      <td>yes</td>\n",
       "      <td>ckd</td>\n",
       "    </tr>\n",
       "    <tr>\n",
       "      <th>4</th>\n",
       "      <td>51.0</td>\n",
       "      <td>80.0</td>\n",
       "      <td>1.010</td>\n",
       "      <td>2.0</td>\n",
       "      <td>0.0</td>\n",
       "      <td>normal</td>\n",
       "      <td>normal</td>\n",
       "      <td>notpresent</td>\n",
       "      <td>notpresent</td>\n",
       "      <td>106.0</td>\n",
       "      <td>...</td>\n",
       "      <td>35.0</td>\n",
       "      <td>7300.000000</td>\n",
       "      <td>4.600000</td>\n",
       "      <td>no</td>\n",
       "      <td>no</td>\n",
       "      <td>no</td>\n",
       "      <td>good</td>\n",
       "      <td>no</td>\n",
       "      <td>no</td>\n",
       "      <td>ckd</td>\n",
       "    </tr>\n",
       "    <tr>\n",
       "      <th>5</th>\n",
       "      <td>60.0</td>\n",
       "      <td>90.0</td>\n",
       "      <td>1.015</td>\n",
       "      <td>3.0</td>\n",
       "      <td>0.0</td>\n",
       "      <td>NaN</td>\n",
       "      <td>NaN</td>\n",
       "      <td>notpresent</td>\n",
       "      <td>notpresent</td>\n",
       "      <td>74.0</td>\n",
       "      <td>...</td>\n",
       "      <td>39.0</td>\n",
       "      <td>7800.000000</td>\n",
       "      <td>4.400000</td>\n",
       "      <td>yes</td>\n",
       "      <td>yes</td>\n",
       "      <td>no</td>\n",
       "      <td>good</td>\n",
       "      <td>yes</td>\n",
       "      <td>no</td>\n",
       "      <td>ckd</td>\n",
       "    </tr>\n",
       "    <tr>\n",
       "      <th>6</th>\n",
       "      <td>68.0</td>\n",
       "      <td>70.0</td>\n",
       "      <td>1.010</td>\n",
       "      <td>0.0</td>\n",
       "      <td>0.0</td>\n",
       "      <td>NaN</td>\n",
       "      <td>normal</td>\n",
       "      <td>notpresent</td>\n",
       "      <td>notpresent</td>\n",
       "      <td>100.0</td>\n",
       "      <td>...</td>\n",
       "      <td>33.2</td>\n",
       "      <td>7493.333333</td>\n",
       "      <td>3.946667</td>\n",
       "      <td>no</td>\n",
       "      <td>no</td>\n",
       "      <td>no</td>\n",
       "      <td>good</td>\n",
       "      <td>no</td>\n",
       "      <td>no</td>\n",
       "      <td>ckd</td>\n",
       "    </tr>\n",
       "    <tr>\n",
       "      <th>7</th>\n",
       "      <td>24.0</td>\n",
       "      <td>NaN</td>\n",
       "      <td>1.015</td>\n",
       "      <td>2.0</td>\n",
       "      <td>4.0</td>\n",
       "      <td>normal</td>\n",
       "      <td>abnormal</td>\n",
       "      <td>notpresent</td>\n",
       "      <td>notpresent</td>\n",
       "      <td>410.0</td>\n",
       "      <td>...</td>\n",
       "      <td>44.0</td>\n",
       "      <td>6900.000000</td>\n",
       "      <td>5.000000</td>\n",
       "      <td>no</td>\n",
       "      <td>yes</td>\n",
       "      <td>no</td>\n",
       "      <td>good</td>\n",
       "      <td>yes</td>\n",
       "      <td>no</td>\n",
       "      <td>ckd</td>\n",
       "    </tr>\n",
       "    <tr>\n",
       "      <th>8</th>\n",
       "      <td>52.0</td>\n",
       "      <td>100.0</td>\n",
       "      <td>1.015</td>\n",
       "      <td>3.0</td>\n",
       "      <td>0.0</td>\n",
       "      <td>normal</td>\n",
       "      <td>abnormal</td>\n",
       "      <td>present</td>\n",
       "      <td>notpresent</td>\n",
       "      <td>138.0</td>\n",
       "      <td>...</td>\n",
       "      <td>33.0</td>\n",
       "      <td>9600.000000</td>\n",
       "      <td>4.000000</td>\n",
       "      <td>yes</td>\n",
       "      <td>yes</td>\n",
       "      <td>no</td>\n",
       "      <td>good</td>\n",
       "      <td>no</td>\n",
       "      <td>yes</td>\n",
       "      <td>ckd</td>\n",
       "    </tr>\n",
       "    <tr>\n",
       "      <th>9</th>\n",
       "      <td>53.0</td>\n",
       "      <td>90.0</td>\n",
       "      <td>1.020</td>\n",
       "      <td>2.0</td>\n",
       "      <td>0.0</td>\n",
       "      <td>abnormal</td>\n",
       "      <td>abnormal</td>\n",
       "      <td>present</td>\n",
       "      <td>notpresent</td>\n",
       "      <td>70.0</td>\n",
       "      <td>...</td>\n",
       "      <td>29.0</td>\n",
       "      <td>12100.000000</td>\n",
       "      <td>3.700000</td>\n",
       "      <td>yes</td>\n",
       "      <td>yes</td>\n",
       "      <td>no</td>\n",
       "      <td>poor</td>\n",
       "      <td>no</td>\n",
       "      <td>yes</td>\n",
       "      <td>ckd</td>\n",
       "    </tr>\n",
       "  </tbody>\n",
       "</table>\n",
       "<p>10 rows × 25 columns</p>\n",
       "</div>"
      ],
      "text/plain": [
       "    age     bp     sg   al   su       rbc        pc         pcc          ba  \\\n",
       "0  48.0   80.0  1.020  1.0  0.0       NaN    normal  notpresent  notpresent   \n",
       "1   7.0   50.0  1.020  4.0  0.0       NaN    normal  notpresent  notpresent   \n",
       "2  62.0   80.0  1.010  2.0  3.0    normal    normal  notpresent  notpresent   \n",
       "3  48.0   70.0  1.005  4.0  0.0    normal  abnormal     present  notpresent   \n",
       "4  51.0   80.0  1.010  2.0  0.0    normal    normal  notpresent  notpresent   \n",
       "5  60.0   90.0  1.015  3.0  0.0       NaN       NaN  notpresent  notpresent   \n",
       "6  68.0   70.0  1.010  0.0  0.0       NaN    normal  notpresent  notpresent   \n",
       "7  24.0    NaN  1.015  2.0  4.0    normal  abnormal  notpresent  notpresent   \n",
       "8  52.0  100.0  1.015  3.0  0.0    normal  abnormal     present  notpresent   \n",
       "9  53.0   90.0  1.020  2.0  0.0  abnormal  abnormal     present  notpresent   \n",
       "\n",
       "     bgr  ...   pcv            wc        rc  htn   dm  cad  appet   pe  ane  \\\n",
       "0  121.0  ...  44.0   7800.000000  5.200000  yes  yes   no   good   no   no   \n",
       "1    NaN  ...  38.0   6000.000000  5.200000   no   no   no   good   no   no   \n",
       "2  423.0  ...  31.0   7500.000000  3.800000   no  yes   no   poor   no  yes   \n",
       "3  117.0  ...  32.0   6700.000000  3.900000  yes   no   no   poor  yes  yes   \n",
       "4  106.0  ...  35.0   7300.000000  4.600000   no   no   no   good   no   no   \n",
       "5   74.0  ...  39.0   7800.000000  4.400000  yes  yes   no   good  yes   no   \n",
       "6  100.0  ...  33.2   7493.333333  3.946667   no   no   no   good   no   no   \n",
       "7  410.0  ...  44.0   6900.000000  5.000000   no  yes   no   good  yes   no   \n",
       "8  138.0  ...  33.0   9600.000000  4.000000  yes  yes   no   good   no  yes   \n",
       "9   70.0  ...  29.0  12100.000000  3.700000  yes  yes   no   poor   no  yes   \n",
       "\n",
       "  classification  \n",
       "0            ckd  \n",
       "1            ckd  \n",
       "2            ckd  \n",
       "3            ckd  \n",
       "4            ckd  \n",
       "5            ckd  \n",
       "6            ckd  \n",
       "7            ckd  \n",
       "8            ckd  \n",
       "9            ckd  \n",
       "\n",
       "[10 rows x 25 columns]"
      ]
     },
     "execution_count": 3,
     "metadata": {},
     "output_type": "execute_result"
    }
   ],
   "source": [
    "df = pd.read_csv(\"Main_CKD.csv\",header=0, na_values=\"?\")\n",
    "df.head(10)"
   ]
  },
  {
   "cell_type": "markdown",
   "metadata": {},
   "source": [
    "### Exploratory Analysis of Data\n",
    "\n",
    "#### Information about Dataset\n",
    "\n",
    "- Age\t\t-\tage\t\n",
    "- Bp\t\t-\tblood pressure\n",
    "- Sg\t\t-\tspecific gravity\n",
    "- Al\t\t-   \talbumin\n",
    "- Su\t\t-\tsugar\n",
    "- Rbc\t\t-\tred blood cells\n",
    "- Pc\t\t-\tpus cell\n",
    "- Pcc\t\t-\tpus cell clumps\n",
    "- Ba\t\t-\tbacteria\n",
    "- Bgr\t\t-\tblood glucose random\n",
    "- Bu\t\t-\tblood urea\n",
    "- Sc\t\t-\tserum creatinine\n",
    "- Sod\t\t-\tsodium\n",
    "- Pot\t\t-\tpotassium\n",
    "- Hemo\t\t-\themoglobin\n",
    "- Pcv\t\t-\tpacked cell volume\n",
    "- Wc\t\t-\twhite blood cell count\n",
    "- Rc\t\t-\tred blood cell count\n",
    "- Htn\t\t-\thypertension\n",
    "- Dm\t\t-\tdiabetes mellitus\n",
    "- Cad\t\t-\tcoronary artery disease\n",
    "- Appet\t\t-\tappetite\n",
    "- Pe\t\t-\tpedal edema\n",
    "- Ane\t\t-\tanemia\n",
    "- Class\t\t-\tclass (ckd or not)\n",
    "\n",
    "Number of Instances:  400 (250 CKD, 150 notckd)\n",
    " \n",
    "Number of Attributes: 24 + class = 25 ( 14  numeric ,11  nominal) \n",
    "\n",
    "Attribute Information :\n",
    "\n",
    " \t1.Age(numerical)\n",
    "\t  \tage in years\n",
    " \t2.Blood Pressure(numerical)\n",
    "\t  \tbp in mm/Hg\n",
    " \t3.Specific Gravity(nominal)\n",
    "\t  \tsg - (1.005,1.010,1.015,1.020,1.025)\n",
    " \t4.Albumin(nominal)\n",
    "\t\tal - (0,1,2,3,4,5)\n",
    " \t5.Sugar(nominal)\n",
    "\t\tsu - (0,1,2,3,4,5)\n",
    " \t6.Red Blood Cells(nominal)\n",
    "\t\trbc - (normal,abnormal)\n",
    " \t7.Pus Cell (nominal)\n",
    "\t\tpc - (normal,abnormal)\n",
    " \t8.Pus Cell clumps(nominal)\n",
    "\t\tpcc - (present,notpresent)\n",
    " \t9.Bacteria(nominal)\n",
    "\t\tba  - (present,notpresent)\n",
    " \t10.Blood Glucose Random(numerical)\t\t\n",
    "\t\tbgr in mgs/dl\n",
    " \t11.Blood Urea(numerical)\t\n",
    "\t\tbu in mgs/dl\n",
    " \t12.Serum Creatinine(numerical)\t\n",
    "\t\tsc in mgs/dl\n",
    " \t13.Sodium(numerical)\n",
    "\t\tsod in mEq/L\n",
    " \t14.Potassium(numerical)\t\n",
    "\t\tpot in mEq/L\n",
    " \t15.Hemoglobin(numerical)\n",
    "\t\themo in gms\n",
    " \t16.Packed  Cell Volume(numerical)\n",
    " \t17.White Blood Cell Count(numerical)\n",
    "\t\twc in cells/cumm\n",
    " \t18.Red Blood Cell Count(numerical)\t\n",
    "\t\trc in millions/cmm\n",
    " \t19.Hypertension(nominal)\t\n",
    "\t\thtn - (yes,no)\n",
    " \t20.Diabetes Mellitus(nominal)\t\n",
    "\t\tdm - (yes,no)\n",
    " \t21.Coronary Artery Disease(nominal)\n",
    "\t\tcad - (yes,no)\n",
    " \t22.Appetite(nominal)\t\n",
    "\t\tappet - (good,poor)\n",
    " \t23.Pedal Edema(nominal)\n",
    "\t\tpe - (yes,no)\t\n",
    " \t24.Anemia(nominal)\n",
    "\t\tane - (yes,no)\n",
    " \t25.Class (nominal)\t\t\n",
    "\t\tclass - (ckd,notckd)\n",
    "\n",
    "Missing Attribute Values: Yes(Denoted by \"?\")\n",
    "\n",
    "Class Distribution: ( 2 classes)\n",
    "\n",
    "    \t\tClass \t  Number of instances\n",
    "    \t\tckd          \t  250\n",
    "    \t\tnotckd       \t  150   "
   ]
  },
  {
   "cell_type": "code",
   "execution_count": 4,
   "metadata": {},
   "outputs": [
    {
     "data": {
      "text/plain": [
       "(400, 25)"
      ]
     },
     "execution_count": 4,
     "metadata": {},
     "output_type": "execute_result"
    }
   ],
   "source": [
    "df.shape"
   ]
  },
  {
   "cell_type": "code",
   "execution_count": 5,
   "metadata": {},
   "outputs": [
    {
     "data": {
      "text/plain": [
       "age               float64\n",
       "bp                float64\n",
       "sg                float64\n",
       "al                float64\n",
       "su                float64\n",
       "rbc                object\n",
       "pc                 object\n",
       "pcc                object\n",
       "ba                 object\n",
       "bgr               float64\n",
       "bu                float64\n",
       "sc                float64\n",
       "sod               float64\n",
       "pot               float64\n",
       "hemo              float64\n",
       "pcv               float64\n",
       "wc                float64\n",
       "rc                float64\n",
       "htn                object\n",
       "dm                 object\n",
       "cad                object\n",
       "appet              object\n",
       "pe                 object\n",
       "ane                object\n",
       "classification     object\n",
       "dtype: object"
      ]
     },
     "execution_count": 5,
     "metadata": {},
     "output_type": "execute_result"
    }
   ],
   "source": [
    "df.dtypes"
   ]
  },
  {
   "cell_type": "code",
   "execution_count": 6,
   "metadata": {},
   "outputs": [
    {
     "data": {
      "text/html": [
       "<div>\n",
       "<style scoped>\n",
       "    .dataframe tbody tr th:only-of-type {\n",
       "        vertical-align: middle;\n",
       "    }\n",
       "\n",
       "    .dataframe tbody tr th {\n",
       "        vertical-align: top;\n",
       "    }\n",
       "\n",
       "    .dataframe thead th {\n",
       "        text-align: right;\n",
       "    }\n",
       "</style>\n",
       "<table border=\"1\" class=\"dataframe\">\n",
       "  <thead>\n",
       "    <tr style=\"text-align: right;\">\n",
       "      <th></th>\n",
       "      <th>age</th>\n",
       "      <th>bp</th>\n",
       "      <th>sg</th>\n",
       "      <th>al</th>\n",
       "      <th>su</th>\n",
       "      <th>bgr</th>\n",
       "      <th>bu</th>\n",
       "      <th>sc</th>\n",
       "      <th>sod</th>\n",
       "      <th>pot</th>\n",
       "      <th>hemo</th>\n",
       "      <th>pcv</th>\n",
       "      <th>wc</th>\n",
       "      <th>rc</th>\n",
       "    </tr>\n",
       "  </thead>\n",
       "  <tbody>\n",
       "    <tr>\n",
       "      <th>count</th>\n",
       "      <td>391.000000</td>\n",
       "      <td>388.000000</td>\n",
       "      <td>353.000000</td>\n",
       "      <td>354.000000</td>\n",
       "      <td>351.000000</td>\n",
       "      <td>356.000000</td>\n",
       "      <td>381.000000</td>\n",
       "      <td>383.000000</td>\n",
       "      <td>313.000000</td>\n",
       "      <td>312.000000</td>\n",
       "      <td>348.000000</td>\n",
       "      <td>400.000000</td>\n",
       "      <td>400.000000</td>\n",
       "      <td>400.000000</td>\n",
       "    </tr>\n",
       "    <tr>\n",
       "      <th>mean</th>\n",
       "      <td>51.483376</td>\n",
       "      <td>76.469072</td>\n",
       "      <td>1.017408</td>\n",
       "      <td>1.016949</td>\n",
       "      <td>0.450142</td>\n",
       "      <td>148.036517</td>\n",
       "      <td>57.425722</td>\n",
       "      <td>3.072454</td>\n",
       "      <td>137.528754</td>\n",
       "      <td>4.627244</td>\n",
       "      <td>12.526437</td>\n",
       "      <td>40.878192</td>\n",
       "      <td>10956.605559</td>\n",
       "      <td>4.578652</td>\n",
       "    </tr>\n",
       "    <tr>\n",
       "      <th>std</th>\n",
       "      <td>17.169714</td>\n",
       "      <td>13.683637</td>\n",
       "      <td>0.005717</td>\n",
       "      <td>1.352679</td>\n",
       "      <td>1.099191</td>\n",
       "      <td>79.281714</td>\n",
       "      <td>50.503006</td>\n",
       "      <td>5.741126</td>\n",
       "      <td>10.408752</td>\n",
       "      <td>3.193904</td>\n",
       "      <td>2.912587</td>\n",
       "      <td>12.688088</td>\n",
       "      <td>6052.813991</td>\n",
       "      <td>1.208439</td>\n",
       "    </tr>\n",
       "    <tr>\n",
       "      <th>min</th>\n",
       "      <td>2.000000</td>\n",
       "      <td>50.000000</td>\n",
       "      <td>1.005000</td>\n",
       "      <td>0.000000</td>\n",
       "      <td>0.000000</td>\n",
       "      <td>22.000000</td>\n",
       "      <td>1.500000</td>\n",
       "      <td>0.400000</td>\n",
       "      <td>4.500000</td>\n",
       "      <td>2.500000</td>\n",
       "      <td>3.100000</td>\n",
       "      <td>7.400238</td>\n",
       "      <td>-842.040816</td>\n",
       "      <td>0.674898</td>\n",
       "    </tr>\n",
       "    <tr>\n",
       "      <th>25%</th>\n",
       "      <td>42.000000</td>\n",
       "      <td>70.000000</td>\n",
       "      <td>1.010000</td>\n",
       "      <td>0.000000</td>\n",
       "      <td>0.000000</td>\n",
       "      <td>99.000000</td>\n",
       "      <td>27.000000</td>\n",
       "      <td>0.900000</td>\n",
       "      <td>135.000000</td>\n",
       "      <td>3.800000</td>\n",
       "      <td>10.300000</td>\n",
       "      <td>32.000000</td>\n",
       "      <td>7200.000000</td>\n",
       "      <td>3.800000</td>\n",
       "    </tr>\n",
       "    <tr>\n",
       "      <th>50%</th>\n",
       "      <td>55.000000</td>\n",
       "      <td>80.000000</td>\n",
       "      <td>1.020000</td>\n",
       "      <td>0.000000</td>\n",
       "      <td>0.000000</td>\n",
       "      <td>121.000000</td>\n",
       "      <td>42.000000</td>\n",
       "      <td>1.300000</td>\n",
       "      <td>138.000000</td>\n",
       "      <td>4.400000</td>\n",
       "      <td>12.650000</td>\n",
       "      <td>41.000000</td>\n",
       "      <td>9400.000000</td>\n",
       "      <td>4.704167</td>\n",
       "    </tr>\n",
       "    <tr>\n",
       "      <th>75%</th>\n",
       "      <td>64.500000</td>\n",
       "      <td>80.000000</td>\n",
       "      <td>1.020000</td>\n",
       "      <td>2.000000</td>\n",
       "      <td>0.000000</td>\n",
       "      <td>163.000000</td>\n",
       "      <td>66.000000</td>\n",
       "      <td>2.800000</td>\n",
       "      <td>142.000000</td>\n",
       "      <td>4.900000</td>\n",
       "      <td>15.000000</td>\n",
       "      <td>48.000000</td>\n",
       "      <td>11800.000000</td>\n",
       "      <td>5.500000</td>\n",
       "    </tr>\n",
       "    <tr>\n",
       "      <th>max</th>\n",
       "      <td>90.000000</td>\n",
       "      <td>180.000000</td>\n",
       "      <td>1.025000</td>\n",
       "      <td>5.000000</td>\n",
       "      <td>5.000000</td>\n",
       "      <td>490.000000</td>\n",
       "      <td>391.000000</td>\n",
       "      <td>76.000000</td>\n",
       "      <td>163.000000</td>\n",
       "      <td>47.000000</td>\n",
       "      <td>17.800000</td>\n",
       "      <td>74.940476</td>\n",
       "      <td>31529.761900</td>\n",
       "      <td>6.570238</td>\n",
       "    </tr>\n",
       "  </tbody>\n",
       "</table>\n",
       "</div>"
      ],
      "text/plain": [
       "              age          bp          sg          al          su         bgr  \\\n",
       "count  391.000000  388.000000  353.000000  354.000000  351.000000  356.000000   \n",
       "mean    51.483376   76.469072    1.017408    1.016949    0.450142  148.036517   \n",
       "std     17.169714   13.683637    0.005717    1.352679    1.099191   79.281714   \n",
       "min      2.000000   50.000000    1.005000    0.000000    0.000000   22.000000   \n",
       "25%     42.000000   70.000000    1.010000    0.000000    0.000000   99.000000   \n",
       "50%     55.000000   80.000000    1.020000    0.000000    0.000000  121.000000   \n",
       "75%     64.500000   80.000000    1.020000    2.000000    0.000000  163.000000   \n",
       "max     90.000000  180.000000    1.025000    5.000000    5.000000  490.000000   \n",
       "\n",
       "               bu          sc         sod         pot        hemo         pcv  \\\n",
       "count  381.000000  383.000000  313.000000  312.000000  348.000000  400.000000   \n",
       "mean    57.425722    3.072454  137.528754    4.627244   12.526437   40.878192   \n",
       "std     50.503006    5.741126   10.408752    3.193904    2.912587   12.688088   \n",
       "min      1.500000    0.400000    4.500000    2.500000    3.100000    7.400238   \n",
       "25%     27.000000    0.900000  135.000000    3.800000   10.300000   32.000000   \n",
       "50%     42.000000    1.300000  138.000000    4.400000   12.650000   41.000000   \n",
       "75%     66.000000    2.800000  142.000000    4.900000   15.000000   48.000000   \n",
       "max    391.000000   76.000000  163.000000   47.000000   17.800000   74.940476   \n",
       "\n",
       "                 wc          rc  \n",
       "count    400.000000  400.000000  \n",
       "mean   10956.605559    4.578652  \n",
       "std     6052.813991    1.208439  \n",
       "min     -842.040816    0.674898  \n",
       "25%     7200.000000    3.800000  \n",
       "50%     9400.000000    4.704167  \n",
       "75%    11800.000000    5.500000  \n",
       "max    31529.761900    6.570238  "
      ]
     },
     "execution_count": 6,
     "metadata": {},
     "output_type": "execute_result"
    }
   ],
   "source": [
    "df.describe()"
   ]
  },
  {
   "cell_type": "markdown",
   "metadata": {},
   "source": [
    "### Data Cleaning"
   ]
  },
  {
   "cell_type": "code",
   "execution_count": 7,
   "metadata": {},
   "outputs": [
    {
     "data": {
      "text/plain": [
       "age                 9\n",
       "bp                 12\n",
       "sg                 47\n",
       "al                 46\n",
       "su                 49\n",
       "rbc               152\n",
       "pc                 65\n",
       "pcc                 4\n",
       "ba                  4\n",
       "bgr                44\n",
       "bu                 19\n",
       "sc                 17\n",
       "sod                87\n",
       "pot                88\n",
       "hemo               52\n",
       "pcv                 0\n",
       "wc                  0\n",
       "rc                  0\n",
       "htn                 2\n",
       "dm                  0\n",
       "cad                 0\n",
       "appet               1\n",
       "pe                  1\n",
       "ane                 1\n",
       "classification      0\n",
       "dtype: int64"
      ]
     },
     "execution_count": 7,
     "metadata": {},
     "output_type": "execute_result"
    }
   ],
   "source": [
    "df.isna().sum()"
   ]
  },
  {
   "cell_type": "code",
   "execution_count": 8,
   "metadata": {},
   "outputs": [],
   "source": [
    "Age = df['age'].isna().sum()*(100/len(df))\n",
    "Bp = df['bp'].isna().sum()*(100/len(df))\n",
    "Sg = df['sg'].isna().sum()*(100/len(df))\n",
    "Al = df['al'].isna().sum()*(100/len(df))\n",
    "Su = df['su'].isna().sum()*(100/len(df))\n",
    "Rbc = df['rbc'].isna().sum()*(100/len(df))\n",
    "Pc = df['pc'].isna().sum()*(100/len(df))\n",
    "Pcc = df['pcc'].isna().sum()*(100/len(df))\n",
    "Ba = df['ba'].isna().sum()*(100/len(df))\n",
    "Bgr = df['bgr'].isna().sum()*(100/len(df))\n",
    "Bu = df['bu'].isna().sum()*(100/len(df))\n",
    "Sc = df['sc'].isna().sum()*(100/len(df))\n",
    "Sod = df['sod'].isna().sum()*(100/len(df))\n",
    "Pot = df['pot'].isna().sum()*(100/len(df))\n",
    "Hemo = df['hemo'].isna().sum()*(100/len(df))\n",
    "Pcv = df['pcv'].isna().sum()*(100/len(df))\n",
    "Wbcc = df['wc'].isna().sum()*(100/len(df))\n",
    "Rbcc = df['rc'].isna().sum()*(100/len(df))\n",
    "Htn = df['htn'].isna().sum()*(100/len(df))\n",
    "Dm = df['dm'].isna().sum()*(100/len(df))\n",
    "Cad = df['cad'].isna().sum()*(100/len(df))\n",
    "Appet = df['appet'].isna().sum()*(100/len(df))\n",
    "pe = df['pe'].isna().sum()*(100/len(df))\n",
    "Ane = df['ane'].isna().sum()*(100/len(df))\n",
    "Class = df['classification'].isna().sum()*(100/len(df))"
   ]
  },
  {
   "cell_type": "code",
   "execution_count": 9,
   "metadata": {},
   "outputs": [
    {
     "data": {
      "text/html": [
       "<div>\n",
       "<style scoped>\n",
       "    .dataframe tbody tr th:only-of-type {\n",
       "        vertical-align: middle;\n",
       "    }\n",
       "\n",
       "    .dataframe tbody tr th {\n",
       "        vertical-align: top;\n",
       "    }\n",
       "\n",
       "    .dataframe thead th {\n",
       "        text-align: right;\n",
       "    }\n",
       "</style>\n",
       "<table border=\"1\" class=\"dataframe\">\n",
       "  <thead>\n",
       "    <tr style=\"text-align: right;\">\n",
       "      <th></th>\n",
       "      <th>Attribute</th>\n",
       "      <th>Missing Values (%)</th>\n",
       "    </tr>\n",
       "  </thead>\n",
       "  <tbody>\n",
       "    <tr>\n",
       "      <th>0</th>\n",
       "      <td>Age</td>\n",
       "      <td>2.25</td>\n",
       "    </tr>\n",
       "    <tr>\n",
       "      <th>1</th>\n",
       "      <td>Blood Pressure</td>\n",
       "      <td>3.00</td>\n",
       "    </tr>\n",
       "    <tr>\n",
       "      <th>2</th>\n",
       "      <td>Specific Gravity</td>\n",
       "      <td>11.75</td>\n",
       "    </tr>\n",
       "    <tr>\n",
       "      <th>3</th>\n",
       "      <td>Albumin</td>\n",
       "      <td>11.50</td>\n",
       "    </tr>\n",
       "    <tr>\n",
       "      <th>4</th>\n",
       "      <td>Sugar</td>\n",
       "      <td>12.25</td>\n",
       "    </tr>\n",
       "    <tr>\n",
       "      <th>5</th>\n",
       "      <td>Red Blood Cells</td>\n",
       "      <td>38.00</td>\n",
       "    </tr>\n",
       "    <tr>\n",
       "      <th>6</th>\n",
       "      <td>Pus Cell</td>\n",
       "      <td>16.25</td>\n",
       "    </tr>\n",
       "    <tr>\n",
       "      <th>7</th>\n",
       "      <td>Pus Cell Clumps</td>\n",
       "      <td>1.00</td>\n",
       "    </tr>\n",
       "    <tr>\n",
       "      <th>8</th>\n",
       "      <td>Bacteria</td>\n",
       "      <td>1.00</td>\n",
       "    </tr>\n",
       "    <tr>\n",
       "      <th>9</th>\n",
       "      <td>Blood Glucose Random</td>\n",
       "      <td>11.00</td>\n",
       "    </tr>\n",
       "    <tr>\n",
       "      <th>10</th>\n",
       "      <td>Blood Urea</td>\n",
       "      <td>4.75</td>\n",
       "    </tr>\n",
       "    <tr>\n",
       "      <th>11</th>\n",
       "      <td>Serum Creatinine</td>\n",
       "      <td>4.25</td>\n",
       "    </tr>\n",
       "    <tr>\n",
       "      <th>12</th>\n",
       "      <td>Sodium</td>\n",
       "      <td>21.75</td>\n",
       "    </tr>\n",
       "    <tr>\n",
       "      <th>13</th>\n",
       "      <td>Potassium</td>\n",
       "      <td>22.00</td>\n",
       "    </tr>\n",
       "    <tr>\n",
       "      <th>14</th>\n",
       "      <td>Hemoglobin</td>\n",
       "      <td>13.00</td>\n",
       "    </tr>\n",
       "    <tr>\n",
       "      <th>15</th>\n",
       "      <td>Packed Cell Volume</td>\n",
       "      <td>0.00</td>\n",
       "    </tr>\n",
       "    <tr>\n",
       "      <th>16</th>\n",
       "      <td>White Blood Cell Count</td>\n",
       "      <td>0.00</td>\n",
       "    </tr>\n",
       "    <tr>\n",
       "      <th>17</th>\n",
       "      <td>Red Blood Cell Count</td>\n",
       "      <td>0.00</td>\n",
       "    </tr>\n",
       "    <tr>\n",
       "      <th>18</th>\n",
       "      <td>Hypertension</td>\n",
       "      <td>0.50</td>\n",
       "    </tr>\n",
       "    <tr>\n",
       "      <th>19</th>\n",
       "      <td>Diabetes Mellitus</td>\n",
       "      <td>0.00</td>\n",
       "    </tr>\n",
       "    <tr>\n",
       "      <th>20</th>\n",
       "      <td>Coronary Artery Disease</td>\n",
       "      <td>0.00</td>\n",
       "    </tr>\n",
       "    <tr>\n",
       "      <th>21</th>\n",
       "      <td>Appetite</td>\n",
       "      <td>0.25</td>\n",
       "    </tr>\n",
       "    <tr>\n",
       "      <th>22</th>\n",
       "      <td>Pedal Edema</td>\n",
       "      <td>0.25</td>\n",
       "    </tr>\n",
       "    <tr>\n",
       "      <th>23</th>\n",
       "      <td>Anemia</td>\n",
       "      <td>0.25</td>\n",
       "    </tr>\n",
       "    <tr>\n",
       "      <th>24</th>\n",
       "      <td>Class</td>\n",
       "      <td>0.00</td>\n",
       "    </tr>\n",
       "  </tbody>\n",
       "</table>\n",
       "</div>"
      ],
      "text/plain": [
       "                  Attribute  Missing Values (%)\n",
       "0                       Age                2.25\n",
       "1            Blood Pressure                3.00\n",
       "2          Specific Gravity               11.75\n",
       "3                   Albumin               11.50\n",
       "4                     Sugar               12.25\n",
       "5           Red Blood Cells               38.00\n",
       "6                  Pus Cell               16.25\n",
       "7           Pus Cell Clumps                1.00\n",
       "8                  Bacteria                1.00\n",
       "9      Blood Glucose Random               11.00\n",
       "10               Blood Urea                4.75\n",
       "11         Serum Creatinine                4.25\n",
       "12                   Sodium               21.75\n",
       "13                Potassium               22.00\n",
       "14               Hemoglobin               13.00\n",
       "15       Packed Cell Volume                0.00\n",
       "16   White Blood Cell Count                0.00\n",
       "17     Red Blood Cell Count                0.00\n",
       "18             Hypertension                0.50\n",
       "19        Diabetes Mellitus                0.00\n",
       "20  Coronary Artery Disease                0.00\n",
       "21                 Appetite                0.25\n",
       "22              Pedal Edema                0.25\n",
       "23                   Anemia                0.25\n",
       "24                    Class                0.00"
      ]
     },
     "execution_count": 9,
     "metadata": {},
     "output_type": "execute_result"
    }
   ],
   "source": [
    "Null_Percentage = pd.DataFrame({\n",
    "    'Attribute': ['Age' , 'Blood Pressure' , 'Specific Gravity' , 'Albumin' , 'Sugar' , 'Red Blood Cells' , 'Pus Cell' , 'Pus Cell Clumps' , 'Bacteria' , 'Blood Glucose Random' , 'Blood Urea' , 'Serum Creatinine' , 'Sodium' , 'Potassium' , 'Hemoglobin' , 'Packed Cell Volume' , 'White Blood Cell Count' , 'Red Blood Cell Count' , 'Hypertension' , 'Diabetes Mellitus' , 'Coronary Artery Disease' , 'Appetite' , 'Pedal Edema' , 'Anemia' , 'Class'],\n",
    "    'Missing Values (%)' : [(round(Age, 2)) ,(round(Bp, 2)) ,(round(Sg, 2)),(round(Al, 2)) ,(round(Su, 2)) ,(round(Rbc, 2)) ,(round(Pc, 2)) ,(round(Pcc, 2)) ,(round(Ba, 2)) ,(round(Bgr, 2)) ,(round(Bu, 2)) ,(round(Sc, 2)) ,(round(Sod, 2)) ,(round(Pot, 2)) ,(round(Hemo, 2)) ,(round(Pcv, 2)) ,(round(Wbcc, 2)) ,(round(Rbcc, 2)) ,(round(Htn, 2)) ,(round(Dm, 2)) ,(round(Cad, 2)) ,(round(Appet, 2)) ,(round(pe, 2)) ,(round(Ane, 2)) ,(round(Class, 2))]\n",
    "})\n",
    "Null_Percentage"
   ]
  },
  {
   "cell_type": "code",
   "execution_count": 10,
   "metadata": {},
   "outputs": [],
   "source": [
    "cleanup = {\"rbc\": {\"normal\": 1, \"abnormal\": 0},\n",
    "          \"pc\": {\"normal\": 1, \"abnormal\": 0},\n",
    "          \"pcc\": {\"present\": 1, \"notpresent\": 0},\n",
    "          \"ba\": {\"present\": 1, \"notpresent\": 0},\n",
    "          \"htn\": {\"yes\": 1, \"no\": 0},\n",
    "          \"dm\": {\"yes\": 1,\"\\tyes\": 0, \"no\": 0, \"\\tno\": 0},\n",
    "          \"cad\": {\"yes\": 1,\"\\tyes\": 0, \"no\": 0, \"\\tno\": 0},\n",
    "          \"appet\": {\"good\": 1, \"poor\": 0},\n",
    "          \"pe\": {\"yes\": 1,\"\\tyes\": 0, \"no\": 0, \"\\tno\": 0},\n",
    "          \"ane\": {\"yes\": 1,\"\\tyes\": 0, \"no\": 0, \"\\tno\": 0}\n",
    "          }\n",
    "df.replace(cleanup, inplace=True)"
   ]
  },
  {
   "cell_type": "code",
   "execution_count": 11,
   "metadata": {},
   "outputs": [
    {
     "data": {
      "text/html": [
       "<div>\n",
       "<style scoped>\n",
       "    .dataframe tbody tr th:only-of-type {\n",
       "        vertical-align: middle;\n",
       "    }\n",
       "\n",
       "    .dataframe tbody tr th {\n",
       "        vertical-align: top;\n",
       "    }\n",
       "\n",
       "    .dataframe thead th {\n",
       "        text-align: right;\n",
       "    }\n",
       "</style>\n",
       "<table border=\"1\" class=\"dataframe\">\n",
       "  <thead>\n",
       "    <tr style=\"text-align: right;\">\n",
       "      <th></th>\n",
       "      <th>age</th>\n",
       "      <th>bp</th>\n",
       "      <th>sg</th>\n",
       "      <th>al</th>\n",
       "      <th>su</th>\n",
       "      <th>rbc</th>\n",
       "      <th>pc</th>\n",
       "      <th>pcc</th>\n",
       "      <th>ba</th>\n",
       "      <th>bgr</th>\n",
       "      <th>...</th>\n",
       "      <th>pcv</th>\n",
       "      <th>wc</th>\n",
       "      <th>rc</th>\n",
       "      <th>htn</th>\n",
       "      <th>dm</th>\n",
       "      <th>cad</th>\n",
       "      <th>appet</th>\n",
       "      <th>pe</th>\n",
       "      <th>ane</th>\n",
       "      <th>classification</th>\n",
       "    </tr>\n",
       "  </thead>\n",
       "  <tbody>\n",
       "    <tr>\n",
       "      <th>0</th>\n",
       "      <td>48.0</td>\n",
       "      <td>80.000000</td>\n",
       "      <td>1.020</td>\n",
       "      <td>1.0</td>\n",
       "      <td>0.0</td>\n",
       "      <td>0.810484</td>\n",
       "      <td>1.000000</td>\n",
       "      <td>0.0</td>\n",
       "      <td>0.0</td>\n",
       "      <td>121.000000</td>\n",
       "      <td>...</td>\n",
       "      <td>44.0</td>\n",
       "      <td>7800.000000</td>\n",
       "      <td>5.200000</td>\n",
       "      <td>1.0</td>\n",
       "      <td>1</td>\n",
       "      <td>0</td>\n",
       "      <td>1.0</td>\n",
       "      <td>0.0</td>\n",
       "      <td>0.0</td>\n",
       "      <td>ckd</td>\n",
       "    </tr>\n",
       "    <tr>\n",
       "      <th>1</th>\n",
       "      <td>7.0</td>\n",
       "      <td>50.000000</td>\n",
       "      <td>1.020</td>\n",
       "      <td>4.0</td>\n",
       "      <td>0.0</td>\n",
       "      <td>0.810484</td>\n",
       "      <td>1.000000</td>\n",
       "      <td>0.0</td>\n",
       "      <td>0.0</td>\n",
       "      <td>148.036517</td>\n",
       "      <td>...</td>\n",
       "      <td>38.0</td>\n",
       "      <td>6000.000000</td>\n",
       "      <td>5.200000</td>\n",
       "      <td>0.0</td>\n",
       "      <td>0</td>\n",
       "      <td>0</td>\n",
       "      <td>1.0</td>\n",
       "      <td>0.0</td>\n",
       "      <td>0.0</td>\n",
       "      <td>ckd</td>\n",
       "    </tr>\n",
       "    <tr>\n",
       "      <th>2</th>\n",
       "      <td>62.0</td>\n",
       "      <td>80.000000</td>\n",
       "      <td>1.010</td>\n",
       "      <td>2.0</td>\n",
       "      <td>3.0</td>\n",
       "      <td>1.000000</td>\n",
       "      <td>1.000000</td>\n",
       "      <td>0.0</td>\n",
       "      <td>0.0</td>\n",
       "      <td>423.000000</td>\n",
       "      <td>...</td>\n",
       "      <td>31.0</td>\n",
       "      <td>7500.000000</td>\n",
       "      <td>3.800000</td>\n",
       "      <td>0.0</td>\n",
       "      <td>1</td>\n",
       "      <td>0</td>\n",
       "      <td>0.0</td>\n",
       "      <td>0.0</td>\n",
       "      <td>1.0</td>\n",
       "      <td>ckd</td>\n",
       "    </tr>\n",
       "    <tr>\n",
       "      <th>3</th>\n",
       "      <td>48.0</td>\n",
       "      <td>70.000000</td>\n",
       "      <td>1.005</td>\n",
       "      <td>4.0</td>\n",
       "      <td>0.0</td>\n",
       "      <td>1.000000</td>\n",
       "      <td>0.000000</td>\n",
       "      <td>1.0</td>\n",
       "      <td>0.0</td>\n",
       "      <td>117.000000</td>\n",
       "      <td>...</td>\n",
       "      <td>32.0</td>\n",
       "      <td>6700.000000</td>\n",
       "      <td>3.900000</td>\n",
       "      <td>1.0</td>\n",
       "      <td>0</td>\n",
       "      <td>0</td>\n",
       "      <td>0.0</td>\n",
       "      <td>1.0</td>\n",
       "      <td>1.0</td>\n",
       "      <td>ckd</td>\n",
       "    </tr>\n",
       "    <tr>\n",
       "      <th>4</th>\n",
       "      <td>51.0</td>\n",
       "      <td>80.000000</td>\n",
       "      <td>1.010</td>\n",
       "      <td>2.0</td>\n",
       "      <td>0.0</td>\n",
       "      <td>1.000000</td>\n",
       "      <td>1.000000</td>\n",
       "      <td>0.0</td>\n",
       "      <td>0.0</td>\n",
       "      <td>106.000000</td>\n",
       "      <td>...</td>\n",
       "      <td>35.0</td>\n",
       "      <td>7300.000000</td>\n",
       "      <td>4.600000</td>\n",
       "      <td>0.0</td>\n",
       "      <td>0</td>\n",
       "      <td>0</td>\n",
       "      <td>1.0</td>\n",
       "      <td>0.0</td>\n",
       "      <td>0.0</td>\n",
       "      <td>ckd</td>\n",
       "    </tr>\n",
       "    <tr>\n",
       "      <th>5</th>\n",
       "      <td>60.0</td>\n",
       "      <td>90.000000</td>\n",
       "      <td>1.015</td>\n",
       "      <td>3.0</td>\n",
       "      <td>0.0</td>\n",
       "      <td>0.810484</td>\n",
       "      <td>0.773134</td>\n",
       "      <td>0.0</td>\n",
       "      <td>0.0</td>\n",
       "      <td>74.000000</td>\n",
       "      <td>...</td>\n",
       "      <td>39.0</td>\n",
       "      <td>7800.000000</td>\n",
       "      <td>4.400000</td>\n",
       "      <td>1.0</td>\n",
       "      <td>1</td>\n",
       "      <td>0</td>\n",
       "      <td>1.0</td>\n",
       "      <td>1.0</td>\n",
       "      <td>0.0</td>\n",
       "      <td>ckd</td>\n",
       "    </tr>\n",
       "    <tr>\n",
       "      <th>6</th>\n",
       "      <td>68.0</td>\n",
       "      <td>70.000000</td>\n",
       "      <td>1.010</td>\n",
       "      <td>0.0</td>\n",
       "      <td>0.0</td>\n",
       "      <td>0.810484</td>\n",
       "      <td>1.000000</td>\n",
       "      <td>0.0</td>\n",
       "      <td>0.0</td>\n",
       "      <td>100.000000</td>\n",
       "      <td>...</td>\n",
       "      <td>33.2</td>\n",
       "      <td>7493.333333</td>\n",
       "      <td>3.946667</td>\n",
       "      <td>0.0</td>\n",
       "      <td>0</td>\n",
       "      <td>0</td>\n",
       "      <td>1.0</td>\n",
       "      <td>0.0</td>\n",
       "      <td>0.0</td>\n",
       "      <td>ckd</td>\n",
       "    </tr>\n",
       "    <tr>\n",
       "      <th>7</th>\n",
       "      <td>24.0</td>\n",
       "      <td>76.469072</td>\n",
       "      <td>1.015</td>\n",
       "      <td>2.0</td>\n",
       "      <td>4.0</td>\n",
       "      <td>1.000000</td>\n",
       "      <td>0.000000</td>\n",
       "      <td>0.0</td>\n",
       "      <td>0.0</td>\n",
       "      <td>410.000000</td>\n",
       "      <td>...</td>\n",
       "      <td>44.0</td>\n",
       "      <td>6900.000000</td>\n",
       "      <td>5.000000</td>\n",
       "      <td>0.0</td>\n",
       "      <td>1</td>\n",
       "      <td>0</td>\n",
       "      <td>1.0</td>\n",
       "      <td>1.0</td>\n",
       "      <td>0.0</td>\n",
       "      <td>ckd</td>\n",
       "    </tr>\n",
       "    <tr>\n",
       "      <th>8</th>\n",
       "      <td>52.0</td>\n",
       "      <td>100.000000</td>\n",
       "      <td>1.015</td>\n",
       "      <td>3.0</td>\n",
       "      <td>0.0</td>\n",
       "      <td>1.000000</td>\n",
       "      <td>0.000000</td>\n",
       "      <td>1.0</td>\n",
       "      <td>0.0</td>\n",
       "      <td>138.000000</td>\n",
       "      <td>...</td>\n",
       "      <td>33.0</td>\n",
       "      <td>9600.000000</td>\n",
       "      <td>4.000000</td>\n",
       "      <td>1.0</td>\n",
       "      <td>1</td>\n",
       "      <td>0</td>\n",
       "      <td>1.0</td>\n",
       "      <td>0.0</td>\n",
       "      <td>1.0</td>\n",
       "      <td>ckd</td>\n",
       "    </tr>\n",
       "    <tr>\n",
       "      <th>9</th>\n",
       "      <td>53.0</td>\n",
       "      <td>90.000000</td>\n",
       "      <td>1.020</td>\n",
       "      <td>2.0</td>\n",
       "      <td>0.0</td>\n",
       "      <td>0.000000</td>\n",
       "      <td>0.000000</td>\n",
       "      <td>1.0</td>\n",
       "      <td>0.0</td>\n",
       "      <td>70.000000</td>\n",
       "      <td>...</td>\n",
       "      <td>29.0</td>\n",
       "      <td>12100.000000</td>\n",
       "      <td>3.700000</td>\n",
       "      <td>1.0</td>\n",
       "      <td>1</td>\n",
       "      <td>0</td>\n",
       "      <td>0.0</td>\n",
       "      <td>0.0</td>\n",
       "      <td>1.0</td>\n",
       "      <td>ckd</td>\n",
       "    </tr>\n",
       "  </tbody>\n",
       "</table>\n",
       "<p>10 rows × 25 columns</p>\n",
       "</div>"
      ],
      "text/plain": [
       "    age          bp     sg   al   su       rbc        pc  pcc   ba  \\\n",
       "0  48.0   80.000000  1.020  1.0  0.0  0.810484  1.000000  0.0  0.0   \n",
       "1   7.0   50.000000  1.020  4.0  0.0  0.810484  1.000000  0.0  0.0   \n",
       "2  62.0   80.000000  1.010  2.0  3.0  1.000000  1.000000  0.0  0.0   \n",
       "3  48.0   70.000000  1.005  4.0  0.0  1.000000  0.000000  1.0  0.0   \n",
       "4  51.0   80.000000  1.010  2.0  0.0  1.000000  1.000000  0.0  0.0   \n",
       "5  60.0   90.000000  1.015  3.0  0.0  0.810484  0.773134  0.0  0.0   \n",
       "6  68.0   70.000000  1.010  0.0  0.0  0.810484  1.000000  0.0  0.0   \n",
       "7  24.0   76.469072  1.015  2.0  4.0  1.000000  0.000000  0.0  0.0   \n",
       "8  52.0  100.000000  1.015  3.0  0.0  1.000000  0.000000  1.0  0.0   \n",
       "9  53.0   90.000000  1.020  2.0  0.0  0.000000  0.000000  1.0  0.0   \n",
       "\n",
       "          bgr  ...   pcv            wc        rc  htn  dm  cad  appet   pe  \\\n",
       "0  121.000000  ...  44.0   7800.000000  5.200000  1.0   1    0    1.0  0.0   \n",
       "1  148.036517  ...  38.0   6000.000000  5.200000  0.0   0    0    1.0  0.0   \n",
       "2  423.000000  ...  31.0   7500.000000  3.800000  0.0   1    0    0.0  0.0   \n",
       "3  117.000000  ...  32.0   6700.000000  3.900000  1.0   0    0    0.0  1.0   \n",
       "4  106.000000  ...  35.0   7300.000000  4.600000  0.0   0    0    1.0  0.0   \n",
       "5   74.000000  ...  39.0   7800.000000  4.400000  1.0   1    0    1.0  1.0   \n",
       "6  100.000000  ...  33.2   7493.333333  3.946667  0.0   0    0    1.0  0.0   \n",
       "7  410.000000  ...  44.0   6900.000000  5.000000  0.0   1    0    1.0  1.0   \n",
       "8  138.000000  ...  33.0   9600.000000  4.000000  1.0   1    0    1.0  0.0   \n",
       "9   70.000000  ...  29.0  12100.000000  3.700000  1.0   1    0    0.0  0.0   \n",
       "\n",
       "   ane  classification  \n",
       "0  0.0             ckd  \n",
       "1  0.0             ckd  \n",
       "2  1.0             ckd  \n",
       "3  1.0             ckd  \n",
       "4  0.0             ckd  \n",
       "5  0.0             ckd  \n",
       "6  0.0             ckd  \n",
       "7  0.0             ckd  \n",
       "8  1.0             ckd  \n",
       "9  1.0             ckd  \n",
       "\n",
       "[10 rows x 25 columns]"
      ]
     },
     "execution_count": 11,
     "metadata": {},
     "output_type": "execute_result"
    }
   ],
   "source": [
    "df.fillna(df.mean(), inplace=True)\n",
    "df.head(10)"
   ]
  },
  {
   "cell_type": "code",
   "execution_count": 12,
   "metadata": {},
   "outputs": [
    {
     "data": {
      "text/plain": [
       "age               0\n",
       "bp                0\n",
       "sg                0\n",
       "al                0\n",
       "su                0\n",
       "rbc               0\n",
       "pc                0\n",
       "pcc               0\n",
       "ba                0\n",
       "bgr               0\n",
       "bu                0\n",
       "sc                0\n",
       "sod               0\n",
       "pot               0\n",
       "hemo              0\n",
       "pcv               0\n",
       "wc                0\n",
       "rc                0\n",
       "htn               0\n",
       "dm                0\n",
       "cad               0\n",
       "appet             0\n",
       "pe                0\n",
       "ane               0\n",
       "classification    0\n",
       "dtype: int64"
      ]
     },
     "execution_count": 12,
     "metadata": {},
     "output_type": "execute_result"
    }
   ],
   "source": [
    "df.isna().sum()"
   ]
  },
  {
   "cell_type": "code",
   "execution_count": 13,
   "metadata": {},
   "outputs": [
    {
     "data": {
      "text/plain": [
       "age               float64\n",
       "bp                float64\n",
       "sg                float64\n",
       "al                float64\n",
       "su                float64\n",
       "rbc               float64\n",
       "pc                float64\n",
       "pcc               float64\n",
       "ba                float64\n",
       "bgr               float64\n",
       "bu                float64\n",
       "sc                float64\n",
       "sod               float64\n",
       "pot               float64\n",
       "hemo              float64\n",
       "pcv               float64\n",
       "wc                float64\n",
       "rc                float64\n",
       "htn               float64\n",
       "dm                  int64\n",
       "cad                 int64\n",
       "appet             float64\n",
       "pe                float64\n",
       "ane               float64\n",
       "classification     object\n",
       "dtype: object"
      ]
     },
     "execution_count": 13,
     "metadata": {},
     "output_type": "execute_result"
    }
   ],
   "source": [
    "df.dtypes"
   ]
  },
  {
   "cell_type": "code",
   "execution_count": 14,
   "metadata": {},
   "outputs": [],
   "source": [
    "df['dm'] = df['dm'].astype(float)\n",
    "df['cad'] = df['cad'].astype(float)"
   ]
  },
  {
   "cell_type": "code",
   "execution_count": 15,
   "metadata": {},
   "outputs": [
    {
     "data": {
      "text/plain": [
       "age               float64\n",
       "bp                float64\n",
       "sg                float64\n",
       "al                float64\n",
       "su                float64\n",
       "rbc               float64\n",
       "pc                float64\n",
       "pcc               float64\n",
       "ba                float64\n",
       "bgr               float64\n",
       "bu                float64\n",
       "sc                float64\n",
       "sod               float64\n",
       "pot               float64\n",
       "hemo              float64\n",
       "pcv               float64\n",
       "wc                float64\n",
       "rc                float64\n",
       "htn               float64\n",
       "dm                float64\n",
       "cad               float64\n",
       "appet             float64\n",
       "pe                float64\n",
       "ane               float64\n",
       "classification     object\n",
       "dtype: object"
      ]
     },
     "execution_count": 15,
     "metadata": {},
     "output_type": "execute_result"
    }
   ],
   "source": [
    "df.dtypes"
   ]
  },
  {
   "cell_type": "markdown",
   "metadata": {},
   "source": [
    "### Dividing Dependent and Independent Attributes"
   ]
  },
  {
   "cell_type": "code",
   "execution_count": 16,
   "metadata": {},
   "outputs": [
    {
     "data": {
      "text/plain": [
       "array([[4.80000000e+01, 8.00000000e+01, 1.02000000e+00, 1.00000000e+00,\n",
       "        0.00000000e+00, 8.10483871e-01, 1.00000000e+00, 0.00000000e+00,\n",
       "        0.00000000e+00, 1.21000000e+02, 3.60000000e+01, 1.20000000e+00,\n",
       "        1.37528754e+02, 4.62724359e+00, 1.54000000e+01, 4.40000000e+01,\n",
       "        7.80000000e+03, 5.20000000e+00, 1.00000000e+00, 1.00000000e+00,\n",
       "        0.00000000e+00, 1.00000000e+00, 0.00000000e+00, 0.00000000e+00],\n",
       "       [7.00000000e+00, 5.00000000e+01, 1.02000000e+00, 4.00000000e+00,\n",
       "        0.00000000e+00, 8.10483871e-01, 1.00000000e+00, 0.00000000e+00,\n",
       "        0.00000000e+00, 1.48036517e+02, 1.80000000e+01, 8.00000000e-01,\n",
       "        1.37528754e+02, 4.62724359e+00, 1.13000000e+01, 3.80000000e+01,\n",
       "        6.00000000e+03, 5.20000000e+00, 0.00000000e+00, 0.00000000e+00,\n",
       "        0.00000000e+00, 1.00000000e+00, 0.00000000e+00, 0.00000000e+00],\n",
       "       [6.20000000e+01, 8.00000000e+01, 1.01000000e+00, 2.00000000e+00,\n",
       "        3.00000000e+00, 1.00000000e+00, 1.00000000e+00, 0.00000000e+00,\n",
       "        0.00000000e+00, 4.23000000e+02, 5.30000000e+01, 1.80000000e+00,\n",
       "        1.37528754e+02, 4.62724359e+00, 9.60000000e+00, 3.10000000e+01,\n",
       "        7.50000000e+03, 3.80000000e+00, 0.00000000e+00, 1.00000000e+00,\n",
       "        0.00000000e+00, 0.00000000e+00, 0.00000000e+00, 1.00000000e+00],\n",
       "       [4.80000000e+01, 7.00000000e+01, 1.00500000e+00, 4.00000000e+00,\n",
       "        0.00000000e+00, 1.00000000e+00, 0.00000000e+00, 1.00000000e+00,\n",
       "        0.00000000e+00, 1.17000000e+02, 5.60000000e+01, 3.80000000e+00,\n",
       "        1.11000000e+02, 2.50000000e+00, 1.12000000e+01, 3.20000000e+01,\n",
       "        6.70000000e+03, 3.90000000e+00, 1.00000000e+00, 0.00000000e+00,\n",
       "        0.00000000e+00, 0.00000000e+00, 1.00000000e+00, 1.00000000e+00],\n",
       "       [5.10000000e+01, 8.00000000e+01, 1.01000000e+00, 2.00000000e+00,\n",
       "        0.00000000e+00, 1.00000000e+00, 1.00000000e+00, 0.00000000e+00,\n",
       "        0.00000000e+00, 1.06000000e+02, 2.60000000e+01, 1.40000000e+00,\n",
       "        1.37528754e+02, 4.62724359e+00, 1.16000000e+01, 3.50000000e+01,\n",
       "        7.30000000e+03, 4.60000000e+00, 0.00000000e+00, 0.00000000e+00,\n",
       "        0.00000000e+00, 1.00000000e+00, 0.00000000e+00, 0.00000000e+00]])"
      ]
     },
     "execution_count": 16,
     "metadata": {},
     "output_type": "execute_result"
    }
   ],
   "source": [
    "X = np.asarray(df[['age', 'bp', 'sg', 'al', 'su', 'rbc', 'pc', 'pcc', 'ba','bgr', 'bu', 'sc', 'sod', 'pot', 'hemo', 'pcv', 'wc', 'rc', 'htn', 'dm', 'cad', 'appet', 'pe', 'ane']])\n",
    "X[0:5]"
   ]
  },
  {
   "cell_type": "code",
   "execution_count": 17,
   "metadata": {},
   "outputs": [
    {
     "data": {
      "text/plain": [
       "array(['ckd', 'ckd', 'ckd', 'ckd', 'ckd'], dtype=object)"
      ]
     },
     "execution_count": 17,
     "metadata": {},
     "output_type": "execute_result"
    }
   ],
   "source": [
    "y = np.asarray(df['classification'])\n",
    "y[0:5]"
   ]
  },
  {
   "cell_type": "markdown",
   "metadata": {},
   "source": [
    "### Data Normalization"
   ]
  },
  {
   "cell_type": "code",
   "execution_count": 18,
   "metadata": {},
   "outputs": [
    {
     "data": {
      "text/plain": [
       "array([[-2.05463641e-01,  2.62338357e-01,  4.83354714e-01,\n",
       "        -1.33381597e-02, -4.37796899e-01,  0.00000000e+00,\n",
       "         5.91922033e-01, -3.46182745e-01, -2.43757475e-01,\n",
       "        -3.61987461e-01, -4.35267691e-01, -3.33743226e-01,\n",
       "         0.00000000e+00,  6.30751267e-16,  1.05927120e+00,\n",
       "         2.46350526e-01, -5.22163532e-01,  5.14817677e-01,\n",
       "         1.30998600e+00,  1.40105780e+00, -3.04788738e-01,\n",
       "         5.09238046e-01, -4.85678728e-01, -4.21230029e-01],\n",
       "       [-2.62380991e+00, -1.96658024e+00,  4.83354714e-01,\n",
       "         2.34751610e+00, -4.37796899e-01,  0.00000000e+00,\n",
       "         5.91922033e-01, -3.46182745e-01, -2.43757475e-01,\n",
       "         0.00000000e+00, -8.00941179e-01, -4.05038579e-01,\n",
       "         0.00000000e+00,  6.30751267e-16, -4.52096949e-01,\n",
       "        -2.27126170e-01, -8.19918300e-01,  5.14817677e-01,\n",
       "        -7.67202954e-01, -7.13746427e-01, -3.04788738e-01,\n",
       "         5.09238046e-01, -4.85678728e-01, -4.21230029e-01],\n",
       "       [ 6.20313135e-01,  2.62338357e-01, -1.38139079e+00,\n",
       "         7.73613260e-01,  2.47992547e+00,  6.14122565e-01,\n",
       "         5.91922033e-01, -3.46182745e-01, -2.43757475e-01,\n",
       "         3.68144069e+00, -8.99093958e-02, -2.26800197e-01,\n",
       "         0.00000000e+00,  6.30751267e-16, -1.07876179e+00,\n",
       "        -7.79515649e-01, -5.71789326e-01, -6.45152159e-01,\n",
       "        -7.67202954e-01,  1.40105780e+00, -3.04788738e-01,\n",
       "        -1.96863976e+00, -4.85678728e-01,  2.37994966e+00],\n",
       "       [-2.05463641e-01, -4.80634508e-01, -2.31376355e+00,\n",
       "         2.34751610e+00, -4.37796899e-01,  6.14122565e-01,\n",
       "        -2.01720798e+00,  2.91782599e+00, -2.43757475e-01,\n",
       "        -4.15542801e-01, -2.89638144e-02,  1.29676567e-01,\n",
       "        -2.88583096e+00, -7.55344624e-01, -4.88959587e-01,\n",
       "        -7.00602866e-01, -7.04124779e-01, -5.62297171e-01,\n",
       "         1.30998600e+00, -7.13746427e-01, -3.04788738e-01,\n",
       "        -1.96863976e+00,  2.06413460e+00,  2.37994966e+00],\n",
       "       [-2.85114744e-02,  2.62338357e-01, -1.38139079e+00,\n",
       "         7.73613260e-01, -4.37796899e-01,  6.14122565e-01,\n",
       "         5.91922033e-01, -3.46182745e-01, -2.43757475e-01,\n",
       "        -5.62819985e-01, -6.38419629e-01, -2.98095550e-01,\n",
       "         0.00000000e+00,  6.30751267e-16, -3.41509036e-01,\n",
       "        -4.63864518e-01, -6.04873189e-01,  1.76877471e-02,\n",
       "        -7.67202954e-01, -7.13746427e-01, -3.04788738e-01,\n",
       "         5.09238046e-01, -4.85678728e-01, -4.21230029e-01]])"
      ]
     },
     "execution_count": 18,
     "metadata": {},
     "output_type": "execute_result"
    }
   ],
   "source": [
    "X = preprocessing.StandardScaler().fit(X).transform(X)\n",
    "X[0:5]"
   ]
  },
  {
   "cell_type": "markdown",
   "metadata": {},
   "source": [
    "### Train Test Splitting"
   ]
  },
  {
   "cell_type": "code",
   "execution_count": 19,
   "metadata": {},
   "outputs": [
    {
     "name": "stdout",
     "output_type": "stream",
     "text": [
      "Train set: (300, 24) (300,)\n",
      "Test set: (100, 24) (100,)\n"
     ]
    }
   ],
   "source": [
    "X_train, X_test, y_train, y_test = train_test_split( X, y, test_size=0.25, random_state=5)\n",
    "print ('Train set:', X_train.shape,  y_train.shape)\n",
    "print ('Test set:', X_test.shape,  y_test.shape)"
   ]
  },
  {
   "cell_type": "markdown",
   "metadata": {},
   "source": [
    "### Logistic Regression"
   ]
  },
  {
   "cell_type": "code",
   "execution_count": 20,
   "metadata": {},
   "outputs": [
    {
     "name": "stdout",
     "output_type": "stream",
     "text": [
      "Logistic Regression Accuracy:  100.0\n"
     ]
    }
   ],
   "source": [
    "logreg = LogisticRegression()\n",
    "logreg.fit(X_train, y_train)\n",
    "Y_pred_lr = logreg.predict(X_test)\n",
    "acc_log = round(logreg.score(X_test,y_test) * 100, 2)\n",
    "print(\"Logistic Regression Accuracy: \", acc_log)"
   ]
  },
  {
   "cell_type": "code",
   "execution_count": 21,
   "metadata": {},
   "outputs": [
    {
     "name": "stdout",
     "output_type": "stream",
     "text": [
      "Classificiation Report: \n",
      "               precision    recall  f1-score   support\n",
      "\n",
      "         ckd       1.00      1.00      1.00        56\n",
      "      notckd       1.00      1.00      1.00        44\n",
      "\n",
      "    accuracy                           1.00       100\n",
      "   macro avg       1.00      1.00      1.00       100\n",
      "weighted avg       1.00      1.00      1.00       100\n",
      "\n"
     ]
    }
   ],
   "source": [
    "class_report = classification_report(y_test, Y_pred_lr)\n",
    "print(\"Classificiation Report: \\n\", class_report)"
   ]
  },
  {
   "cell_type": "code",
   "execution_count": 22,
   "metadata": {},
   "outputs": [
    {
     "data": {
      "text/plain": [
       "<AxesSubplot:title={'center':'Confusion Matrix'}, xlabel='Predicted label', ylabel='True label'>"
      ]
     },
     "execution_count": 22,
     "metadata": {},
     "output_type": "execute_result"
    },
    {
     "data": {
      "image/png": "[encoded data removed]",
      "text/plain": [
       "<Figure size 576x576 with 2 Axes>"
      ]
     },
     "metadata": {
      "needs_background": "light"
     },
     "output_type": "display_data"
    }
   ],
   "source": [
    "skplt.metrics.plot_confusion_matrix(y_test, Y_pred_lr, cmap = 'Oranges', figsize=(8,8))"
   ]
  },
  {
   "cell_type": "code",
   "execution_count": 23,
   "metadata": {},
   "outputs": [
    {
     "name": "stdout",
     "output_type": "stream",
     "text": [
      "Jaccard Score:  100.0\n"
     ]
    }
   ],
   "source": [
    "jac_score_logreg = round(jaccard_score(y_test, Y_pred_lr, pos_label='ckd') * 100, 2)\n",
    "print(\"Jaccard Score: \", jac_score_logreg)"
   ]
  },
  {
   "cell_type": "markdown",
   "metadata": {},
   "source": [
    "### K-Nearest Neighbour"
   ]
  },
  {
   "cell_type": "code",
   "execution_count": 24,
   "metadata": {},
   "outputs": [
    {
     "name": "stdout",
     "output_type": "stream",
     "text": [
      "K - Nearest Neighbours Accuracy:  100.0\n"
     ]
    }
   ],
   "source": [
    "knn = KNeighborsClassifier(n_neighbors = 1)\n",
    "knn.fit(X_train, y_train)\n",
    "Y_pred_knn = knn.predict(X_test)\n",
    "acc_knn = round(knn.score(X_test,y_test) * 100, 2)\n",
    "print(\"K - Nearest Neighbours Accuracy: \", acc_knn)"
   ]
  },
  {
   "cell_type": "code",
   "execution_count": 25,
   "metadata": {},
   "outputs": [
    {
     "name": "stdout",
     "output_type": "stream",
     "text": [
      "Classificiation Report: \n",
      "               precision    recall  f1-score   support\n",
      "\n",
      "         ckd       1.00      1.00      1.00        56\n",
      "      notckd       1.00      1.00      1.00        44\n",
      "\n",
      "    accuracy                           1.00       100\n",
      "   macro avg       1.00      1.00      1.00       100\n",
      "weighted avg       1.00      1.00      1.00       100\n",
      "\n"
     ]
    }
   ],
   "source": [
    "class_report = classification_report(y_test, Y_pred_knn)\n",
    "print(\"Classificiation Report: \\n\", class_report)"
   ]
  },
  {
   "cell_type": "code",
   "execution_count": 26,
   "metadata": {},
   "outputs": [
    {
     "data": {
      "text/plain": [
       "<AxesSubplot:title={'center':'Confusion Matrix'}, xlabel='Predicted label', ylabel='True label'>"
      ]
     },
     "execution_count": 26,
     "metadata": {},
     "output_type": "execute_result"
    },
    {
     "data": {
      "image/png": "[encoded data removed]",
      "text/plain": [
       "<Figure size 576x576 with 2 Axes>"
      ]
     },
     "metadata": {
      "needs_background": "light"
     },
     "output_type": "display_data"
    }
   ],
   "source": [
    "skplt.metrics.plot_confusion_matrix(y_test, Y_pred_knn, cmap = 'binary', figsize=(8,8))"
   ]
  },
  {
   "cell_type": "code",
   "execution_count": 27,
   "metadata": {},
   "outputs": [
    {
     "name": "stdout",
     "output_type": "stream",
     "text": [
      "Jaccard Score:  100.0\n"
     ]
    }
   ],
   "source": [
    "jac_score_knn = round(jaccard_score(y_test, Y_pred_knn, pos_label='ckd') * 100, 2)\n",
    "print(\"Jaccard Score: \", jac_score_knn)"
   ]
  },
  {
   "cell_type": "markdown",
   "metadata": {},
   "source": [
    "### Random Forest"
   ]
  },
  {
   "cell_type": "code",
   "execution_count": 28,
   "metadata": {},
   "outputs": [
    {
     "name": "stdout",
     "output_type": "stream",
     "text": [
      "Random Forest Accuracy:  99.0\n"
     ]
    }
   ],
   "source": [
    "random_forest = RandomForestClassifier(n_estimators=100)\n",
    "random_forest.fit(X_train, y_train)\n",
    "Y_pred_rf = random_forest.predict(X_test)\n",
    "acc_random_forest = round(random_forest.score(X_test,y_test) * 100, 2)\n",
    "print(\"Random Forest Accuracy: \", acc_random_forest)"
   ]
  },
  {
   "cell_type": "code",
   "execution_count": 29,
   "metadata": {},
   "outputs": [
    {
     "name": "stdout",
     "output_type": "stream",
     "text": [
      "Classificiation Report: \n",
      "               precision    recall  f1-score   support\n",
      "\n",
      "         ckd       0.98      1.00      0.99        56\n",
      "      notckd       1.00      0.98      0.99        44\n",
      "\n",
      "    accuracy                           0.99       100\n",
      "   macro avg       0.99      0.99      0.99       100\n",
      "weighted avg       0.99      0.99      0.99       100\n",
      "\n"
     ]
    }
   ],
   "source": [
    "class_report = classification_report(y_test, Y_pred_rf)\n",
    "print(\"Classificiation Report: \\n\", class_report)"
   ]
  },
  {
   "cell_type": "code",
   "execution_count": 30,
   "metadata": {},
   "outputs": [
    {
     "data": {
      "text/plain": [
       "<AxesSubplot:title={'center':'Confusion Matrix'}, xlabel='Predicted label', ylabel='True label'>"
      ]
     },
     "execution_count": 30,
     "metadata": {},
     "output_type": "execute_result"
    },
    {
     "data": {
      "image/png": "[encoded data removed]",
      "text/plain": [
       "<Figure size 576x576 with 2 Axes>"
      ]
     },
     "metadata": {
      "needs_background": "light"
     },
     "output_type": "display_data"
    }
   ],
   "source": [
    "skplt.metrics.plot_confusion_matrix(y_test, Y_pred_rf, cmap = 'Greens', figsize=(8,8))"
   ]
  },
  {
   "cell_type": "code",
   "execution_count": 31,
   "metadata": {},
   "outputs": [
    {
     "name": "stdout",
     "output_type": "stream",
     "text": [
      "Jaccard Score:  98.25\n"
     ]
    }
   ],
   "source": [
    "jac_score_rf = round(jaccard_score(y_test, Y_pred_rf, pos_label='ckd') * 100, 2)\n",
    "print(\"Jaccard Score: \", jac_score_rf)"
   ]
  },
  {
   "cell_type": "markdown",
   "metadata": {},
   "source": [
    "### Gaussian Naive Bayes"
   ]
  },
  {
   "cell_type": "code",
   "execution_count": 32,
   "metadata": {},
   "outputs": [
    {
     "name": "stdout",
     "output_type": "stream",
     "text": [
      "Gaussian Naive Bayes Accuracy:  97.0\n"
     ]
    }
   ],
   "source": [
    "gaussian = GaussianNB()\n",
    "gaussian.fit(X_train, y_train)\n",
    "Y_pred_gnb = gaussian.predict(X_test)\n",
    "acc_gaussian = round(gaussian.score(X_test,y_test) * 100, 2)\n",
    "print(\"Gaussian Naive Bayes Accuracy: \", acc_gaussian)"
   ]
  },
  {
   "cell_type": "code",
   "execution_count": 33,
   "metadata": {},
   "outputs": [
    {
     "name": "stdout",
     "output_type": "stream",
     "text": [
      "Classificiation Report: \n",
      "               precision    recall  f1-score   support\n",
      "\n",
      "         ckd       1.00      0.95      0.97        56\n",
      "      notckd       0.94      1.00      0.97        44\n",
      "\n",
      "    accuracy                           0.97       100\n",
      "   macro avg       0.97      0.97      0.97       100\n",
      "weighted avg       0.97      0.97      0.97       100\n",
      "\n"
     ]
    }
   ],
   "source": [
    "class_report = classification_report(y_test, Y_pred_gnb)\n",
    "print(\"Classificiation Report: \\n\", class_report)"
   ]
  },
  {
   "cell_type": "code",
   "execution_count": 34,
   "metadata": {},
   "outputs": [
    {
     "data": {
      "text/plain": [
       "<AxesSubplot:title={'center':'Confusion Matrix'}, xlabel='Predicted label', ylabel='True label'>"
      ]
     },
     "execution_count": 34,
     "metadata": {},
     "output_type": "execute_result"
    },
    {
     "data": {
      "image/png": "[encoded data removed]",
      "text/plain": [
       "<Figure size 576x576 with 2 Axes>"
      ]
     },
     "metadata": {
      "needs_background": "light"
     },
     "output_type": "display_data"
    }
   ],
   "source": [
    "skplt.metrics.plot_confusion_matrix(y_test, Y_pred_gnb, cmap = 'Blues', figsize=(8,8))"
   ]
  },
  {
   "cell_type": "code",
   "execution_count": 35,
   "metadata": {},
   "outputs": [
    {
     "name": "stdout",
     "output_type": "stream",
     "text": [
      "Jaccard Score:  94.64\n"
     ]
    }
   ],
   "source": [
    "jac_score_gaussian = round(jaccard_score(y_test, Y_pred_gnb, pos_label='ckd') * 100, 2)\n",
    "print(\"Jaccard Score: \", jac_score_gaussian)"
   ]
  },
  {
   "cell_type": "markdown",
   "metadata": {},
   "source": [
    "### Decision Tree"
   ]
  },
  {
   "cell_type": "code",
   "execution_count": 36,
   "metadata": {},
   "outputs": [
    {
     "name": "stdout",
     "output_type": "stream",
     "text": [
      "Decision Tree Accuracy:  94.0\n"
     ]
    }
   ],
   "source": [
    "decision_tree = DecisionTreeClassifier()\n",
    "decision_tree.fit(X_train, y_train)\n",
    "Y_pred_dt = decision_tree.predict(X_test)\n",
    "acc_decision_tree = round(decision_tree.score(X_test,y_test) * 100, 2)\n",
    "print(\"Decision Tree Accuracy: \", acc_decision_tree)"
   ]
  },
  {
   "cell_type": "code",
   "execution_count": 37,
   "metadata": {},
   "outputs": [
    {
     "name": "stdout",
     "output_type": "stream",
     "text": [
      "Classificiation Report: \n",
      "               precision    recall  f1-score   support\n",
      "\n",
      "         ckd       0.96      0.93      0.95        56\n",
      "      notckd       0.91      0.95      0.93        44\n",
      "\n",
      "    accuracy                           0.94       100\n",
      "   macro avg       0.94      0.94      0.94       100\n",
      "weighted avg       0.94      0.94      0.94       100\n",
      "\n"
     ]
    }
   ],
   "source": [
    "class_report = classification_report(y_test, Y_pred_dt)\n",
    "print(\"Classificiation Report: \\n\", class_report)"
   ]
  },
  {
   "cell_type": "code",
   "execution_count": 38,
   "metadata": {},
   "outputs": [
    {
     "data": {
      "text/plain": [
       "<AxesSubplot:title={'center':'Confusion Matrix'}, xlabel='Predicted label', ylabel='True label'>"
      ]
     },
     "execution_count": 38,
     "metadata": {},
     "output_type": "execute_result"
    },
    {
     "data": {
      "image/png": "[encoded data removed]",
      "text/plain": [
       "<Figure size 576x576 with 2 Axes>"
      ]
     },
     "metadata": {
      "needs_background": "light"
     },
     "output_type": "display_data"
    }
   ],
   "source": [
    "skplt.metrics.plot_confusion_matrix(y_test, Y_pred_dt, cmap = 'YlOrBr', figsize=(8,8))"
   ]
  },
  {
   "cell_type": "code",
   "execution_count": 39,
   "metadata": {},
   "outputs": [
    {
     "name": "stdout",
     "output_type": "stream",
     "text": [
      "Jaccard Score:  89.66\n"
     ]
    }
   ],
   "source": [
    "jac_score_dt = round(jaccard_score(y_test, Y_pred_dt, pos_label='ckd') * 100, 2)\n",
    "print(\"Jaccard Score: \", jac_score_dt)"
   ]
  },
  {
   "cell_type": "markdown",
   "metadata": {},
   "source": [
    "### Finalize Result"
   ]
  },
  {
   "cell_type": "code",
   "execution_count": 40,
   "metadata": {},
   "outputs": [
    {
     "data": {
      "text/html": [
       "<div>\n",
       "<style scoped>\n",
       "    .dataframe tbody tr th:only-of-type {\n",
       "        vertical-align: middle;\n",
       "    }\n",
       "\n",
       "    .dataframe tbody tr th {\n",
       "        vertical-align: top;\n",
       "    }\n",
       "\n",
       "    .dataframe thead th {\n",
       "        text-align: right;\n",
       "    }\n",
       "</style>\n",
       "<table border=\"1\" class=\"dataframe\">\n",
       "  <thead>\n",
       "    <tr style=\"text-align: right;\">\n",
       "      <th></th>\n",
       "      <th>Algorithm Name</th>\n",
       "      <th>Accuracy Score (%)</th>\n",
       "      <th>Jaccard Score (%)</th>\n",
       "      <th>Misclassification (%)</th>\n",
       "    </tr>\n",
       "  </thead>\n",
       "  <tbody>\n",
       "    <tr>\n",
       "      <th>0</th>\n",
       "      <td>Logistic Regression</td>\n",
       "      <td>100.0</td>\n",
       "      <td>100.00</td>\n",
       "      <td>0.0</td>\n",
       "    </tr>\n",
       "    <tr>\n",
       "      <th>1</th>\n",
       "      <td>KNN</td>\n",
       "      <td>100.0</td>\n",
       "      <td>100.00</td>\n",
       "      <td>0.0</td>\n",
       "    </tr>\n",
       "    <tr>\n",
       "      <th>2</th>\n",
       "      <td>Random Forest</td>\n",
       "      <td>99.0</td>\n",
       "      <td>98.25</td>\n",
       "      <td>1.0</td>\n",
       "    </tr>\n",
       "    <tr>\n",
       "      <th>3</th>\n",
       "      <td>Naive Bayes</td>\n",
       "      <td>97.0</td>\n",
       "      <td>94.64</td>\n",
       "      <td>3.0</td>\n",
       "    </tr>\n",
       "    <tr>\n",
       "      <th>4</th>\n",
       "      <td>Decision Tree</td>\n",
       "      <td>94.0</td>\n",
       "      <td>89.66</td>\n",
       "      <td>6.0</td>\n",
       "    </tr>\n",
       "  </tbody>\n",
       "</table>\n",
       "</div>"
      ],
      "text/plain": [
       "        Algorithm Name  Accuracy Score (%)  Jaccard Score (%)  \\\n",
       "0  Logistic Regression               100.0             100.00   \n",
       "1                  KNN               100.0             100.00   \n",
       "2        Random Forest                99.0              98.25   \n",
       "3          Naive Bayes                97.0              94.64   \n",
       "4        Decision Tree                94.0              89.66   \n",
       "\n",
       "   Misclassification (%)  \n",
       "0                    0.0  \n",
       "1                    0.0  \n",
       "2                    1.0  \n",
       "3                    3.0  \n",
       "4                    6.0  "
      ]
     },
     "execution_count": 40,
     "metadata": {},
     "output_type": "execute_result"
    }
   ],
   "source": [
    "models = pd.DataFrame({\n",
    "    'Algorithm Name': ['Logistic Regression', 'KNN', 'Random Forest', 'Naive Bayes','Decision Tree'],\n",
    "    'Accuracy Score (%)': [acc_log, acc_knn, acc_random_forest, acc_gaussian, acc_decision_tree],\n",
    "    'Jaccard Score (%)' : [jac_score_logreg, jac_score_knn, jac_score_rf, jac_score_gaussian, jac_score_dt],\n",
    "    'Misclassification (%)': [(abs(acc_log-100)), (abs(acc_knn-100)), (abs(acc_random_forest-100)), (abs(acc_gaussian-100)), (abs(acc_decision_tree-100))]\n",
    "})\n",
    "\n",
    "models.sort_values(by = 'Accuracy Score (%)', ascending = False)"
   ]
  },
  {
   "cell_type": "code",
   "execution_count": 41,
   "metadata": {},
   "outputs": [
    {
     "data": {
      "image/png": "[encoded data removed]",
      "text/plain": [
       "<Figure size 576x288 with 1 Axes>"
      ]
     },
     "metadata": {
      "needs_background": "light"
     },
     "output_type": "display_data"
    }
   ],
   "source": [
    "Tfont = {'fontname':'Cambria', 'fontsize':20}\n",
    "Lfont = {'fontname':'Cambria', 'fontsize':16}\n",
    "\n",
    "plt.figure(figsize=(8, 4))\n",
    "splot=sns.barplot(y=\"Accuracy Score (%)\",x=\"Algorithm Name\",data=models)\n",
    "for p in splot.patches:\n",
    "    splot.annotate(format(p.get_height(), '.2f'), \n",
    "                   (p.get_x() + p.get_width() / 2., p.get_height()), \n",
    "                   ha = 'center', va = 'center', \n",
    "                   size=12,\n",
    "                   xytext = (0, -12), \n",
    "                   textcoords = 'offset points')\n",
    "\n",
    "plt.xticks(rotation=90)\n",
    "\n",
    "plt.title(\"Accuracy Chart\",**Tfont)\n",
    "plt.ylabel(\"Accuracy (%)\",**Lfont)\n",
    "plt.xlabel(\"Algorithm Name\",**Lfont)\n",
    "\n",
    "plt.show()"
   ]
  }
 ],
 "metadata": {
  "kernelspec": {
   "display_name": "Python 3",
   "language": "python",
   "name": "python3"
  },
  "language_info": {
   "codemirror_mode": {
    "name": "ipython",
    "version": 3
   },
   "file_extension": ".py",
   "mimetype": "text/x-python",
   "name": "python",
   "nbconvert_exporter": "python",
   "pygments_lexer": "ipython3",
   "version": "3.8.5"
  }
 },
 "nbformat": 4,
 "nbformat_minor": 5
}
